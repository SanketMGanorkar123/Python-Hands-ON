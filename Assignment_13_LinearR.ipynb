{
 "cells": [
  {
   "cell_type": "markdown",
   "metadata": {},
   "source": [
    "# 1. What is Linear regression?"
   ]
  },
  {
   "cell_type": "markdown",
   "metadata": {},
   "source": [
    "* Linear regression is a type of statistical analysis used to predict the relationship between two variables.\n",
    "* It assumes a linear relationship between the independent variables and the dependent variables , and aims to find the best fitting line that describes a relationship.\n",
    "* The line is determined by minimizing the sum of differences between the predicted values and the actual values.\n",
    "* Linear regression is commonly used in the fields including economics , finance and social sciences to analyze and predicts trends in the data.\n",
    "* It can also be extended to multiple linear regression where there are multiple independent variables.\n",
    "* It is also used in Logistic Regression which is used for binary classification problems."
   ]
  },
  {
   "cell_type": "markdown",
   "metadata": {},
   "source": [
    "# 2. How do you represent a simple linear regression?"
   ]
  },
  {
   "cell_type": "markdown",
   "metadata": {},
   "source": [
    "* In simple linear regression we have one independent variable and one dependent variable.\n",
    "* The model estimates the slope and intercept of the best fit line which represents the relationship between the variables.\n",
    "* The slope represents the change in the dependent variable for each unit change in the independent variable,while the intercept represents the predicted value of the dependent variable when the independent variable is zero.\n",
    "* Linear regression is quite and the simplest statistical regression method used for predictive analysis in Machine Learning.\n",
    "* Linear regression shows the linear relationship between the independent variable and dependent variable.\n",
    "* If there is a single input variable(Independent variable) such linear regression is called as Simple linear regression.\n",
    "* To calculate the Best fit line "
   ]
  },
  {
   "cell_type": "markdown",
   "metadata": {},
   "source": []
  }
 ],
 "metadata": {
  "language_info": {
   "name": "python"
  }
 },
 "nbformat": 4,
 "nbformat_minor": 2
}
