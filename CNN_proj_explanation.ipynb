{
 "cells": [
  {
   "cell_type": "markdown",
   "metadata": {},
   "source": [
    "> In Industry first we find bussisness problem and then the we find problem statement.\n",
    "> Drawbacks of conventional way of doing tasks(Business tasks)\n",
    "1. Consume more time.\n",
    "2. Human error (Human intervention)\n",
    "3. Required skilled man power.\n",
    "4. Costlier to scale \n",
    "* \n",
    "> Project Explaination (Story) ( 30 minutes)\n",
    "1. Background \n",
    "* Client name (Not to specify)\n",
    "* Specific information regarding client (Not to specify)\n",
    "* Geographical location (Not to specify)\n",
    "* General information regarding client (Bussiness domain)\n",
    "* Business problem discussion\n",
    "2. Problem statement (1 minute)\n",
    "3. Technical explanation (20 minutes)\n",
    "* Data Gathering >> SQL \n",
    "* EDA \n",
    "* Feature Engineering  >> missing values handling , outlier handling , data imabalance , encoding \n",
    "* Feature selection \n",
    "* Model Building \n",
    "* Model Evaluation\n",
    "4. Conclusion \n"
   ]
  }
 ],
 "metadata": {
  "language_info": {
   "name": "python"
  }
 },
 "nbformat": 4,
 "nbformat_minor": 2
}
