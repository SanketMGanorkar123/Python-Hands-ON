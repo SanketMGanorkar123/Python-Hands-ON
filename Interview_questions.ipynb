{
 "cells": [
  {
   "cell_type": "markdown",
   "metadata": {},
   "source": [
    "# 1. What made you switch your career to DataScience?\n",
    "# 2. Why you want to resign from current job?\n",
    "# 3. What Package you are expecting (In HR round)?\n",
    "> Whichever comapny has called for interview search about its history whther it is Product based or Service based Industry.\n",
    "# Why projects actually exists(Service based)?\n",
    "1. Time Management\n",
    "2. Automation \n",
    "3. Process Management \n",
    "4. Revenue Generation >> Maximization\n",
    "5. Revenue loss >> Optimization \n",
    "> Proof of Concept > POC > Paid or Unpaid \n",
    "> Duration of POC > 2-3 months , 6 months , 1 year \n",
    "* \n",
    "> In POC we get Problem statement / Business problems / Business requirements / What was the Business scenario\n",
    "* Approach towards project > Python \n",
    "                           > MAchine learning\n",
    "                           > NLP\n",
    "                           > Deep Learning\n",
    "                           > Time Series Analysis \n",
    "> Product based Industry have their own database and we can retrieve data from database.\n",
    "> Who are the people involved in the project?\n",
    "1. Project Manager  - 01 \n",
    "2. Team Leader      - 01 \n",
    "3. Business Analyst - 01\n",
    "4. Data Engineer    - 01 or 02 >>  Data Engineer fetches data from database\n",
    "5. Data Scientist   - 01\n",
    "6. ML Engineer      - 01 \n",
    "7. Python Developer - 01  >> For Web Framework(Flask , Django , FastAPI , gRPC)\n",
    "8. Power Bi Engineer- 01  >> For Data Visualization\n",
    "9. DevOps Engineer  - 01 or 02 >> For Project deployment (Cloud platform : AWS , Azure(Azure ML) , GCP)\n",
    "10. Front end developer : UX Designer >> Create Design \n",
    "                        : UI Developer >> Integrate API \n",
    "> Project Planning \n",
    "* Project planning Tools \n",
    "1. JIRA \n",
    "2. Zoho \n",
    "3. Trello \n",
    "4. Asana \n",
    "> Pipeline : In Industry we are getting data seperate for training and seperate for testing . we will write single functions in which we carry out necessary steps (EDA , Feature Engineering , Feature selection) and then we will call the same function for testing data. So in this way we are creating a pipleine (flow) for all steps.\n",
    "> Docker : It is used for creating pipeline(Flow / Connection) .It works as a Ship carrying different containers.\n",
    "* Generally when we create a model and depoly it , we will do some observations . In Observation we will see how our model is performing on new data and we will monitor this process. This process is called as CICD pipeline (Continous integration and Continous Developement). \n",
    "\n"
   ]
  },
  {
   "cell_type": "markdown",
   "metadata": {},
   "source": []
  }
 ],
 "metadata": {
  "language_info": {
   "name": "python"
  }
 },
 "nbformat": 4,
 "nbformat_minor": 2
}
