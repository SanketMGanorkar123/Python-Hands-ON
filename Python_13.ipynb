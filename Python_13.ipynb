{
 "cells": [
  {
   "cell_type": "code",
   "execution_count": 1,
   "metadata": {},
   "outputs": [
    {
     "name": "stdout",
     "output_type": "stream",
     "text": [
      "A\n",
      "b\n",
      "h\n",
      "i\n",
      "s\n",
      "h\n",
      "e\n",
      "k\n"
     ]
    }
   ],
   "source": [
    "user_input = input(\"Enter a String:\")\n",
    "\n",
    "for i in user_input:\n",
    "    print(i)"
   ]
  },
  {
   "cell_type": "code",
   "execution_count": 2,
   "metadata": {},
   "outputs": [
    {
     "name": "stdout",
     "output_type": "stream",
     "text": [
      "W\n",
      "a\n",
      "k\n",
      "c\n",
      "h\n",
      "a\n",
      "u\n",
      "r\n",
      "e\n"
     ]
    }
   ],
   "source": [
    "user_input = input(\"Enter a String\")\n",
    "for i in user_input:\n",
    "    print(i)"
   ]
  },
  {
   "cell_type": "code",
   "execution_count": 3,
   "metadata": {},
   "outputs": [
    {
     "name": "stdout",
     "output_type": "stream",
     "text": [
      "Length of the string is 18 characters\n"
     ]
    }
   ],
   "source": [
    "string1 = \"Abhishek Wakchaure\"\n",
    "length = len(string1)\n",
    "print(f\"Length of the string is {length} characters\")"
   ]
  },
  {
   "cell_type": "code",
   "execution_count": 5,
   "metadata": {},
   "outputs": [
    {
     "name": "stdout",
     "output_type": "stream",
     "text": [
      "Length of the string is 18 characters\n"
     ]
    }
   ],
   "source": [
    "length = 0 \n",
    "for i in string1:\n",
    "    length += 1\n",
    "\n",
    "print(f\"Length of the string is {length} characters\")"
   ]
  },
  {
   "cell_type": "code",
   "execution_count": 6,
   "metadata": {},
   "outputs": [
    {
     "name": "stdout",
     "output_type": "stream",
     "text": [
      "Keyword is present\n"
     ]
    }
   ],
   "source": [
    "sentence = \"This is orange juice\"\n",
    "keyword = \"orange\"\n",
    "if keyword in sentence:\n",
    "    print(\"Keyword is present\")\n",
    "else:\n",
    "    print(\"Keyword is not present\")"
   ]
  },
  {
   "cell_type": "code",
   "execution_count": 7,
   "metadata": {},
   "outputs": [
    {
     "name": "stdout",
     "output_type": "stream",
     "text": [
      "Vowels count :  7\n",
      "Consonant count :  10\n",
      "Digit count :  4\n",
      "Whitespace count :  2\n"
     ]
    }
   ],
   "source": [
    "input_string = input(\"Enter a String:\")\n",
    "vowels = \"aeiou\"\n",
    "consonants = \"bcdfghjklmnpqrstvwxyz\"\n",
    "digits = \"0123456789\"\n",
    "vowel_count = 0\n",
    "consonant_count = 0\n",
    "digit_count = 0\n",
    "whitespace_count = 0\n",
    "for char in input_string:\n",
    "    if char.lower() in vowels:\n",
    "        vowel_count += 1\n",
    "    if char.lower() in consonants:\n",
    "        consonant_count += 1\n",
    "    if char in digits:\n",
    "        digit_count += 1\n",
    "    if char.isspace():\n",
    "        whitespace_count += 1\n",
    "\n",
    "print(\"Vowels count : \", vowel_count)\n",
    "print(\"Consonant count : \", consonant_count)\n",
    "print(\"Digit count : \", digit_count)\n",
    "print(\"Whitespace count : \", whitespace_count)"
   ]
  },
  {
   "cell_type": "code",
   "execution_count": 12,
   "metadata": {},
   "outputs": [
    {
     "name": "stdout",
     "output_type": "stream",
     "text": [
      "Vowels count :  1\n",
      "Consonant count :  3\n",
      "Digit count :  3\n",
      "Whitespace count :  0\n"
     ]
    }
   ],
   "source": [
    "input_string = input(\"Enter a string:\")\n",
    "vowels = \"aeiou\"\n",
    "consonants = \"bcdfghjklmnpqrstvwxyz\"\n",
    "digits = \"0123456789\"\n",
    "vowel_count = 0 \n",
    "consonant_count = 0 \n",
    "digit_count = 0\n",
    "whitespace_count = 0\n",
    "for char in input_string:\n",
    "    if char.lower() in vowels:\n",
    "        vowel_count += 1\n",
    "    if char.lower() in consonants:\n",
    "        consonant_count += 1\n",
    "    if char in digits:\n",
    "        digit_count += 1\n",
    "    if char.isspace():\n",
    "        whitespace_count += 1\n",
    "print(\"Vowels count : \", vowel_count)\n",
    "print(\"Consonant count : \", consonant_count)\n",
    "print(\"Digit count : \", digit_count)\n",
    "print(\"Whitespace count : \", whitespace_count)"
   ]
  },
  {
   "cell_type": "code",
   "execution_count": 13,
   "metadata": {},
   "outputs": [
    {
     "name": "stdout",
     "output_type": "stream",
     "text": [
      "Upper case count:  6\n",
      "Lower case count:  7\n",
      "Special count:  15\n",
      "Number of digits:  4\n"
     ]
    }
   ],
   "source": [
    "input_string = input(\"Enter a string:\")\n",
    "uppercase_count = 0 \n",
    "lowercase_count = 0\n",
    "special_count = 0\n",
    "numeric_count = 0\n",
    "for char in input_string:\n",
    "    if char.islower():\n",
    "        lowercase_count += 1\n",
    "    if char.isupper():\n",
    "        uppercase_count += 1\n",
    "    if char.isdigit():\n",
    "        numeric_count += 1\n",
    "    else:\n",
    "        special_count += 1\n",
    "print(\"Upper case count: \", uppercase_count)\n",
    "print(\"Lower case count: \",lowercase_count)\n",
    "print(\"Special count: \",special_count)\n",
    "print(\"Number of digits: \",numeric_count)"
   ]
  },
  {
   "cell_type": "code",
   "execution_count": 14,
   "metadata": {},
   "outputs": [
    {
     "name": "stdout",
     "output_type": "stream",
     "text": [
      "Upper case count:  2\n",
      "Lower case count:  10\n",
      "Special count:  20\n",
      "Number of digits:  0\n"
     ]
    }
   ],
   "source": [
    "input_string = input(\"Enter a String:\")\n",
    "lowercase_count = 0 \n",
    "uppercase_count = 0 \n",
    "numeric_count = 0 \n",
    "special_count = 0 \n",
    "for char in input_string:\n",
    "    if char.islower():\n",
    "        lowercase_count += 1 \n",
    "    if char.isupper():\n",
    "        uppercase_count += 1\n",
    "    if char.isdigit():\n",
    "        digit_count += 1 \n",
    "    else:\n",
    "        special_count += 1 \n",
    "print(\"Upper case count: \", uppercase_count)\n",
    "print(\"Lower case count: \",lowercase_count)\n",
    "print(\"Special count: \",special_count)\n",
    "print(\"Number of digits: \",numeric_count)"
   ]
  },
  {
   "cell_type": "code",
   "execution_count": 15,
   "metadata": {},
   "outputs": [
    {
     "name": "stdout",
     "output_type": "stream",
     "text": [
      "original string: Hello,have a good day\n",
      "New string with consonants deleted: Hllhvgddy\n"
     ]
    }
   ],
   "source": [
    "input_string = \"Hello,have a good day\"\n",
    "vowels = \"aeiouAEIOU\"\n",
    "new_string = \"\"\n",
    "for char in input_string:\n",
    "    if char.isalpha() and char not in vowels:\n",
    "        new_string += char\n",
    "\n",
    "print(\"original string:\",input_string)\n",
    "print(\"New string with consonants deleted:\",new_string)"
   ]
  },
  {
   "cell_type": "code",
   "execution_count": 16,
   "metadata": {},
   "outputs": [
    {
     "name": "stdout",
     "output_type": "stream",
     "text": [
      "original string: Hello,have a good day\n",
      "New string with consonants deleted: Hllhvgddy\n"
     ]
    }
   ],
   "source": [
    "input_string = \"Hello,have a good day\"\n",
    "vowels = \"aeiouAEIOU\"\n",
    "new_string = \"\"\n",
    "for char in input_string:\n",
    "    if char.isalpha() and char not in vowels:\n",
    "        new_string += char\n",
    "\n",
    "print(\"original string:\",input_string)\n",
    "print(\"New string with consonants deleted:\",new_string)"
   ]
  },
  {
   "cell_type": "code",
   "execution_count": 17,
   "metadata": {},
   "outputs": [
    {
     "name": "stdout",
     "output_type": "stream",
     "text": [
      "Original string: abhishek\n",
      "New string: abhihek\n"
     ]
    }
   ],
   "source": [
    "input_string = input(\"Enter a non empty string:\")\n",
    "index = int(input(\"ENter the index of the character to be removed :\"))\n",
    "\n",
    "if index < 0 and index > len(input_string):\n",
    "    print(\"Invalid Index\")\n",
    "else:\n",
    "    new_string = input_string[:index] + input_string[index+1:]\n",
    "    print(\"Original string:\" , input_string)\n",
    "    print(\"New string:\" , new_string)"
   ]
  },
  {
   "cell_type": "code",
   "execution_count": 18,
   "metadata": {},
   "outputs": [
    {
     "name": "stdout",
     "output_type": "stream",
     "text": [
      "Original string: wakchaure\n",
      "New string: wakcaure\n"
     ]
    }
   ],
   "source": [
    "input_string = input(\"Enter a non empty string:\")\n",
    "index = int(input(\"ENter the index of the character to be removed:\"))\n",
    "if index < 0 and index > len(input_string):\n",
    "    print(\"Invalid Index\")\n",
    "else:\n",
    "    new_string = input_string[:index] + input_string[index+1:]\n",
    "    print(\"Original string:\" , input_string)\n",
    "    print(\"New string:\" , new_string)"
   ]
  },
  {
   "cell_type": "code",
   "execution_count": 19,
   "metadata": {},
   "outputs": [
    {
     "name": "stdout",
     "output_type": "stream",
     "text": [
      "Original string:  abhishek\n",
      "String with first and last characters exchanged:  kbhishea\n"
     ]
    }
   ],
   "source": [
    "input_string = input(\"Enter a String:\")\n",
    "if len(input_string) < 2:\n",
    "    print(\"String should have atleast 2 characters\")\n",
    "else:\n",
    "    new_string = input_string[-1] + input_string[1:-1] + input_string[0]\n",
    "    print(\"Original string: \", input_string)\n",
    "    print(\"String with first and last characters exchanged: \", new_string)"
   ]
  },
  {
   "cell_type": "code",
   "execution_count": 20,
   "metadata": {},
   "outputs": [
    {
     "name": "stdout",
     "output_type": "stream",
     "text": [
      "Original string:  wakchaure\n",
      "String with first and last characters exchanged:  eakchaurw\n"
     ]
    }
   ],
   "source": [
    "input_string = input(\"ENter a string:\")\n",
    "if len(input_string) < 2:\n",
    "    print(\"String should have atleast 2 characters\")\n",
    "else:\n",
    "    new_string = input_string[-1] + input_string[1:-1] + input_string[0]\n",
    "    print(\"Original string: \", input_string)\n",
    "    print(\"String with first and last characters exchanged: \", new_string)"
   ]
  },
  {
   "cell_type": "code",
   "execution_count": 21,
   "metadata": {},
   "outputs": [
    {
     "name": "stdout",
     "output_type": "stream",
     "text": [
      "In the given string a is been repeated 1 times\n",
      "In the given string b is been repeated 1 times\n",
      "In the given string h is been repeated 2 times\n",
      "In the given string i is been repeated 1 times\n",
      "In the given string s is been repeated 1 times\n",
      "In the given string h is been repeated 2 times\n",
      "In the given string e is been repeated 1 times\n",
      "In the given string k is been repeated 1 times\n"
     ]
    }
   ],
   "source": [
    "input_string = str(input(\"Enter a string:\"))\n",
    "word = \"\"\n",
    "for i in input_string:\n",
    "    word = i \n",
    "    count = input_string.count(word)\n",
    "    print(f\"In the given string {word} is been repeated {count} times\")"
   ]
  },
  {
   "cell_type": "code",
   "execution_count": 22,
   "metadata": {},
   "outputs": [
    {
     "name": "stdout",
     "output_type": "stream",
     "text": [
      "In the given string w is repeated 1 times\n",
      "In the given string a is repeated 2 times\n",
      "In the given string k is repeated 1 times\n",
      "In the given string c is repeated 1 times\n",
      "In the given string h is repeated 1 times\n",
      "In the given string a is repeated 2 times\n",
      "In the given string u is repeated 1 times\n",
      "In the given string r is repeated 1 times\n",
      "In the given string e is repeated 1 times\n"
     ]
    }
   ],
   "source": [
    "input_string = str(input(\"Enter a string:\"))\n",
    "word = \"\"\n",
    "for i in input_string:\n",
    "    word = i \n",
    "    count = input_string.count(word)\n",
    "    print(f\"In the given string {word} is repeated {count} times\")"
   ]
  },
  {
   "cell_type": "code",
   "execution_count": 25,
   "metadata": {},
   "outputs": [
    {
     "name": "stdout",
     "output_type": "stream",
     "text": [
      "abhishek : 1\n",
      "wakchaure : 1\n"
     ]
    }
   ],
   "source": [
    "s = str(input(\"Enter a string:\"))\n",
    "ss = s.split()\n",
    "for i in ss:\n",
    "    if i in ss:\n",
    "        ss.count(i)\n",
    "        print(f\"{i} : {s.count(i)}\")\n",
    "    else:\n",
    "        print(\"Word is not repeated\")"
   ]
  },
  {
   "cell_type": "code",
   "execution_count": 27,
   "metadata": {},
   "outputs": [
    {
     "name": "stdout",
     "output_type": "stream",
     "text": [
      "hi : 1\n",
      "where : 1\n",
      "are : 2\n",
      "you : 3\n",
      "i : 3\n",
      "am : 1\n",
      "coming : 1\n",
      "to : 1\n",
      "your : 1\n",
      "home : 1\n",
      "are : 2\n",
      "you : 3\n",
      "there : 1\n"
     ]
    }
   ],
   "source": [
    "s = str(input(\"Enter a string:\"))\n",
    "ss = s.split()\n",
    "for i in ss:\n",
    "    if i in ss:\n",
    "        ss.count(i)\n",
    "        print(f\"{i} : {s.count(i)}\")\n",
    "    else:\n",
    "        print(\"Word is not repeated\")"
   ]
  },
  {
   "cell_type": "code",
   "execution_count": 28,
   "metadata": {},
   "outputs": [
    {
     "name": "stdout",
     "output_type": "stream",
     "text": [
      "Last 10 characters in the string are :  wakchaure\n"
     ]
    }
   ],
   "source": [
    "input_string = input(\"Enter a string:\")\n",
    "last10_char = input_string[-10:]\n",
    "print(\"Last 10 characters in the string are :\" , last10_char)"
   ]
  },
  {
   "cell_type": "code",
   "execution_count": 29,
   "metadata": {},
   "outputs": [
    {
     "name": "stdout",
     "output_type": "stream",
     "text": [
      "Last 10 characters in the string are : oming home\n"
     ]
    }
   ],
   "source": [
    "input_string = input(\"Enter a string:\")\n",
    "last10_char = input_string[-10:]\n",
    "print(\"Last 10 characters in the string are :\" , last10_char)"
   ]
  },
  {
   "cell_type": "code",
   "execution_count": 30,
   "metadata": {},
   "outputs": [
    {
     "name": "stdout",
     "output_type": "stream",
     "text": [
      "Upper case string: ABHISHEK \n"
     ]
    }
   ],
   "source": [
    "input_string = input(\"Enter a string:\")\n",
    "uppercase_count = 0 \n",
    "for char in input_string[:4]:\n",
    "    if char.isupper():\n",
    "        uppercase_count += 1\n",
    "if uppercase_count > 2 :\n",
    "    uppercase_string = input_string.upper()\n",
    "    print(\"Upper case string:\",uppercase_string)\n",
    "else:\n",
    "    print(\"No Conversion required.String doesnot meet condition\")"
   ]
  },
  {
   "cell_type": "code",
   "execution_count": 31,
   "metadata": {},
   "outputs": [
    {
     "name": "stdout",
     "output_type": "stream",
     "text": [
      "No Conversion required.String doesnot meet condition\n"
     ]
    }
   ],
   "source": [
    "input_string = input(\"Enter a string:\")\n",
    "uppercase_count = 0\n",
    "for char in input_string[:4]:\n",
    "    if char.isupper():\n",
    "        uppercase_count += 1\n",
    "if uppercase_count > 2 :\n",
    "    uppercase_string = input_string.upper()\n",
    "    print(\"Upper case string:\",uppercase_string)\n",
    "else:\n",
    "    print(\"No Conversion required.String doesnot meet condition\")"
   ]
  },
  {
   "cell_type": "code",
   "execution_count": 32,
   "metadata": {},
   "outputs": [
    {
     "name": "stdout",
     "output_type": "stream",
     "text": [
      "Original string: This is a string with newline.\n",
      "\n",
      "New string without newline: This is a string with newline.\n"
     ]
    }
   ],
   "source": [
    "input_string = \"This is a string with newline.\\n\"\n",
    "new_string = input_string.replace(\"\\n\" , \"\")\n",
    "print(\"Original string:\",input_string)\n",
    "print(\"New string without newline:\",new_string)"
   ]
  },
  {
   "cell_type": "code",
   "execution_count": 33,
   "metadata": {},
   "outputs": [
    {
     "name": "stdout",
     "output_type": "stream",
     "text": [
      "Original string: This is a string with newline.\n",
      "\n",
      "New string without newline: This is a string with newline.\n"
     ]
    }
   ],
   "source": [
    "input_string = \"This is a string with newline.\\n\"\n",
    "new_string = input_string.replace(\"\\n\" , \"\")\n",
    "print(\"Original string:\",input_string)\n",
    "print(\"New string without newline:\",new_string)"
   ]
  },
  {
   "cell_type": "code",
   "execution_count": 34,
   "metadata": {},
   "outputs": [
    {
     "name": "stdout",
     "output_type": "stream",
     "text": [
      "Original string: 32.054,23\n",
      "Swapped string: 32,054.23\n"
     ]
    }
   ],
   "source": [
    "input_string = \"32.054,23\"\n",
    "new_string = input_string.replace(\",\" , \"*\").replace(\".\",\",\").replace(\"*\",\".\")\n",
    "print(\"Original string:\",input_string)\n",
    "print(\"Swapped string:\",new_string)"
   ]
  },
  {
   "cell_type": "code",
   "execution_count": 35,
   "metadata": {},
   "outputs": [
    {
     "name": "stdout",
     "output_type": "stream",
     "text": [
      "Original string: 32.054,23\n",
      "Swapped string: 32,054.23\n"
     ]
    }
   ],
   "source": [
    "input_string = \"32.054,23\"\n",
    "new_string = input_string.replace(\",\",\"*\").replace(\".\",\",\").replace(\"*\",\".\")\n",
    "print(\"Original string:\",input_string)\n",
    "print(\"Swapped string:\",new_string)"
   ]
  },
  {
   "cell_type": "code",
   "execution_count": 36,
   "metadata": {},
   "outputs": [
    {
     "name": "stdout",
     "output_type": "stream",
     "text": [
      "First repeated char: h\n"
     ]
    }
   ],
   "source": [
    "input_string = input(\"Enter a string:\")\n",
    "char_count = {}\n",
    "for char in input_string:\n",
    "    if char in char_count:\n",
    "        print(\"First repeated char:\",char)\n",
    "        break\n",
    "    char_count[char] = 1\n",
    "else:\n",
    "    print(\"No repeated character found\")"
   ]
  },
  {
   "cell_type": "code",
   "execution_count": 37,
   "metadata": {},
   "outputs": [
    {
     "name": "stdout",
     "output_type": "stream",
     "text": [
      "First repeated char: a\n"
     ]
    }
   ],
   "source": [
    "input_string = input(\"Enter a string:\")\n",
    "char_count = {}\n",
    "for char in input_string:\n",
    "    if char in char_count:\n",
    "        print(\"First repeated char:\",char)\n",
    "        break\n",
    "    char_count[char] = 1\n",
    "else:\n",
    "    print(\"No repeated character found\")"
   ]
  },
  {
   "cell_type": "code",
   "execution_count": 38,
   "metadata": {},
   "outputs": [
    {
     "name": "stdout",
     "output_type": "stream",
     "text": [
      "Even numbers count : 5\n",
      "odd number count : 4\n"
     ]
    }
   ],
   "source": [
    "input_string = input(\"Enter a string:\")\n",
    "even_count = 0 \n",
    "odd_count = 0\n",
    "for char in input_string:\n",
    "    if char.isdigit():\n",
    "        num = int(char)\n",
    "        if num%2==0:\n",
    "            even_count += 1\n",
    "        else:\n",
    "            odd_count += 1\n",
    "print(\"Even numbers count :\",even_count)\n",
    "print(\"odd number count :\",odd_count)"
   ]
  },
  {
   "cell_type": "code",
   "execution_count": 39,
   "metadata": {},
   "outputs": [
    {
     "name": "stdout",
     "output_type": "stream",
     "text": [
      "Even numbers count : 3\n",
      "odd number count : 3\n"
     ]
    }
   ],
   "source": [
    "input_string = input(\"Enter a string\")\n",
    "even_count = 0 \n",
    "odd_count = 0\n",
    "for char in input_string:\n",
    "    if char.isdigit():\n",
    "        num = int(char)\n",
    "        if num%2==0:\n",
    "            even_count += 1\n",
    "        else:\n",
    "            odd_count += 1\n",
    "print(\"Even numbers count :\",even_count)\n",
    "print(\"odd number count :\",odd_count)"
   ]
  },
  {
   "cell_type": "code",
   "execution_count": 40,
   "metadata": {},
   "outputs": [
    {
     "name": "stdout",
     "output_type": "stream",
     "text": [
      "String contains only digits\n"
     ]
    }
   ],
   "source": [
    "input_string = input(\"Enter a string:\")\n",
    "if input_string.isdigit() == True:\n",
    "    print(\"String contains only digits\")\n",
    "else:\n",
    "    print(\"String contains alphabets\")"
   ]
  },
  {
   "cell_type": "code",
   "execution_count": 41,
   "metadata": {},
   "outputs": [
    {
     "name": "stdout",
     "output_type": "stream",
     "text": [
      "String contains alphabets\n"
     ]
    }
   ],
   "source": [
    "input_string = input(\"Enter a string\")\n",
    "if input_string.isdigit() == True:\n",
    "    print(\"String contains only digits\")\n",
    "else:\n",
    "    print(\"String contains alphabets\")"
   ]
  },
  {
   "cell_type": "code",
   "execution_count": 42,
   "metadata": {},
   "outputs": [
    {
     "name": "stdout",
     "output_type": "stream",
     "text": [
      "['A', 'b', 'h', 'i', 's', 'h', 'e', 'k']\n",
      "['A', 'b', 'h', 'i', 'h', 'e', 'k']\n",
      "Abhihek\n"
     ]
    }
   ],
   "source": [
    "a = \"Abhishek\"\n",
    "List = list(a)\n",
    "print(List)\n",
    "x = input(\"Enter the character to be removed\")\n",
    "if x in List:\n",
    "    List.remove(x)\n",
    "    print(List)\n",
    "else:\n",
    "    print(\"Character not found\")\n",
    "Str = \"\"\n",
    "result = Str.join(List)\n",
    "print(result)"
   ]
  },
  {
   "cell_type": "code",
   "execution_count": 43,
   "metadata": {},
   "outputs": [
    {
     "name": "stdout",
     "output_type": "stream",
     "text": [
      "['w', 'a', 'k', 'c', 'h', 'a', 'u', 'r', 'e']\n",
      "['w', 'a', 'k', 'h', 'a', 'u', 'r', 'e']\n",
      "wakhaure\n"
     ]
    }
   ],
   "source": [
    "a = \"wakchaure\"\n",
    "List = list(a)\n",
    "print(List)\n",
    "x = input(\"Enter the character to be removed\")\n",
    "if x in List:\n",
    "    List.remove(x)\n",
    "    print(List)\n",
    "else:\n",
    "    print(\"Character not found\")\n",
    "Str = \"\"\n",
    "result = Str.join(List)\n",
    "print(result)"
   ]
  },
  {
   "cell_type": "code",
   "execution_count": 44,
   "metadata": {},
   "outputs": [
    {
     "name": "stdout",
     "output_type": "stream",
     "text": [
      "['a', 'h', 's', 'h', 'e']\n"
     ]
    }
   ],
   "source": [
    "a = \"abhishek\"\n",
    "k = []\n",
    "for i in a:\n",
    "    if a.index(i)%2==0:\n",
    "        k.append(i)\n",
    "print(k)"
   ]
  },
  {
   "cell_type": "code",
   "execution_count": 45,
   "metadata": {},
   "outputs": [
    {
     "name": "stdout",
     "output_type": "stream",
     "text": [
      "['w', 'k', 'h', 'u', 'e']\n"
     ]
    }
   ],
   "source": [
    "a = \"wakchaure\"\n",
    "k = []\n",
    "for i in a:\n",
    "    if a.index(i)%2==0:\n",
    "        k.append(i)\n",
    "print(k)"
   ]
  },
  {
   "cell_type": "code",
   "execution_count": 46,
   "metadata": {},
   "outputs": [
    {
     "name": "stdout",
     "output_type": "stream",
     "text": [
      "Length is not multiple of 5\n"
     ]
    }
   ],
   "source": [
    "input_string = input(\"Enter a string:\")\n",
    "if len(input_string)%5==0:\n",
    "    output_string = input_string[::-1]\n",
    "    print(output_string)\n",
    "else:\n",
    "    print(\"Length is not multiple of 5\")"
   ]
  },
  {
   "cell_type": "code",
   "execution_count": 47,
   "metadata": {},
   "outputs": [
    {
     "name": "stdout",
     "output_type": "stream",
     "text": [
      "awkehsihba\n"
     ]
    }
   ],
   "source": [
    "input_string = input(\"Enter a string:\")\n",
    "if len(input_string)%5==0:\n",
    "    output_string = input_string[::-1]\n",
    "    print(output_string)\n",
    "else:\n",
    "    print(\"Length is not multiple of 5\")"
   ]
  },
  {
   "cell_type": "code",
   "execution_count": 48,
   "metadata": {},
   "outputs": [
    {
     "name": "stdout",
     "output_type": "stream",
     "text": [
      "eruahckaw kehsihba\n"
     ]
    }
   ],
   "source": [
    "input_string = str(input(\"Enter a string:\"))\n",
    "empty = []\n",
    "for i in input_string:\n",
    "    empty = input_string[::-1]\n",
    "print(empty)"
   ]
  },
  {
   "cell_type": "code",
   "execution_count": 49,
   "metadata": {},
   "outputs": [
    {
     "name": "stdout",
     "output_type": "stream",
     "text": [
      "eruahckaw\n"
     ]
    }
   ],
   "source": [
    "input_string = str(input(\"Enter a string:\"))\n",
    "empty = []\n",
    "for i in input_string:\n",
    "    empty = input_string[::-1]\n",
    "print(empty)"
   ]
  },
  {
   "cell_type": "code",
   "execution_count": 50,
   "metadata": {},
   "outputs": [
    {
     "name": "stdout",
     "output_type": "stream",
     "text": [
      "aBHISHEK\n"
     ]
    }
   ],
   "source": [
    "input_string = str(input(\"Enter a string:\"))\n",
    "empty = []\n",
    "for i in input_string:\n",
    "    empty = input_string.swapcase()\n",
    "print(empty)"
   ]
  },
  {
   "cell_type": "code",
   "execution_count": 51,
   "metadata": {},
   "outputs": [
    {
     "name": "stdout",
     "output_type": "stream",
     "text": [
      "AbhISHeK\n"
     ]
    }
   ],
   "source": [
    "input_string = str(input(\"Enter a string:\"))\n",
    "empty = []\n",
    "for i in input_string:\n",
    "    empty = input_string.swapcase()\n",
    "print(empty)"
   ]
  },
  {
   "cell_type": "code",
   "execution_count": 52,
   "metadata": {},
   "outputs": [
    {
     "name": "stdout",
     "output_type": "stream",
     "text": [
      "Old string: abhishek good boy\n",
      "New string: abhishekgoodboy\n"
     ]
    }
   ],
   "source": [
    "input_string = str(input(\"Enter a string:\"))\n",
    "output_string = input_string.replace(\" \",\"\")\n",
    "print(\"Old string:\",input_string)\n",
    "print(\"New string:\",output_string)"
   ]
  },
  {
   "cell_type": "code",
   "execution_count": 53,
   "metadata": {},
   "outputs": [
    {
     "name": "stdout",
     "output_type": "stream",
     "text": [
      "Old string: abhishek   wakchaure\n",
      "New string: abhishekwakchaure\n"
     ]
    }
   ],
   "source": [
    "input_string = str(input(\"Enter a string:\"))\n",
    "output_string = input_string.replace(\" \",\"\")\n",
    "print(\"Old string:\",input_string)\n",
    "print(\"New string:\",output_string)"
   ]
  },
  {
   "cell_type": "code",
   "execution_count": 54,
   "metadata": {},
   "outputs": [
    {
     "name": "stdout",
     "output_type": "stream",
     "text": [
      "['a', 'b', 'h', 'i', 's', 'e', 'k']\n"
     ]
    }
   ],
   "source": [
    "input_string = str(input(\"Enter a string:\"))\n",
    "output_string = []\n",
    "for i in input_string:\n",
    "    if i not in output_string:\n",
    "        output_string.append(i)\n",
    "print(output_string)"
   ]
  },
  {
   "cell_type": "code",
   "execution_count": 55,
   "metadata": {},
   "outputs": [
    {
     "name": "stdout",
     "output_type": "stream",
     "text": [
      "['w', 'a', 'k', 'c', 'h', 'u', 'r', 'e']\n"
     ]
    }
   ],
   "source": [
    "input_string = str(input(\"Enter a string:\"))\n",
    "output_string = []\n",
    "for i in input_string:\n",
    "    if i not in output_string:\n",
    "        output_string.append(i)\n",
    "print(output_string)"
   ]
  },
  {
   "cell_type": "code",
   "execution_count": 56,
   "metadata": {},
   "outputs": [
    {
     "name": "stdout",
     "output_type": "stream",
     "text": [
      "Area of the circle: 78.5\n"
     ]
    }
   ],
   "source": [
    "radius = eval(input(\"Enter the radius of the circle:\"))\n",
    "area = 3.14 * radius * radius\n",
    "print(\"Area of the circle:\",area)"
   ]
  },
  {
   "cell_type": "code",
   "execution_count": 57,
   "metadata": {},
   "outputs": [
    {
     "name": "stdout",
     "output_type": "stream",
     "text": [
      "0\n",
      "1\n",
      "4\n",
      "9\n",
      "16\n",
      "25\n"
     ]
    }
   ],
   "source": [
    "num = eval(input(\"Enter a number:\"))\n",
    "for i in range(0 , num+1):\n",
    "    print(i*i)"
   ]
  },
  {
   "cell_type": "code",
   "execution_count": 58,
   "metadata": {},
   "outputs": [
    {
     "name": "stdout",
     "output_type": "stream",
     "text": [
      "0\n",
      "1\n",
      "4\n",
      "9\n",
      "16\n",
      "25\n",
      "36\n"
     ]
    }
   ],
   "source": [
    "num = eval(input(\"Enter a number:\"))\n",
    "for i in range(0 , num+1):\n",
    "    print(i*i)"
   ]
  },
  {
   "cell_type": "code",
   "execution_count": 59,
   "metadata": {},
   "outputs": [
    {
     "name": "stdout",
     "output_type": "stream",
     "text": [
      "0\n",
      "1\n",
      "8\n",
      "27\n",
      "64\n",
      "125\n"
     ]
    }
   ],
   "source": [
    "num = eval(input(\"Enter a number:\"))\n",
    "for i in range(0 , num+1):\n",
    "    print(i*i*i)"
   ]
  },
  {
   "cell_type": "code",
   "execution_count": 60,
   "metadata": {},
   "outputs": [
    {
     "name": "stdout",
     "output_type": "stream",
     "text": [
      "0\n",
      "1\n",
      "8\n",
      "27\n",
      "64\n",
      "125\n",
      "216\n"
     ]
    }
   ],
   "source": [
    "num = eval(input(\"Enter a number:\"))\n",
    "for i in range(0 , num+1):\n",
    "    print(i*i*i)"
   ]
  },
  {
   "cell_type": "code",
   "execution_count": 63,
   "metadata": {},
   "outputs": [
    {
     "name": "stdout",
     "output_type": "stream",
     "text": [
      "Not Prime\n"
     ]
    }
   ],
   "source": [
    "n = eval(input(\"Enter a number:\"))\n",
    "for i in range(2 , n):\n",
    "    if n % i == 0:\n",
    "        print(\"Not Prime\")\n",
    "        break\n",
    "    else:\n",
    "        print(\"Prime Number\")\n",
    "        break\n",
    "    "
   ]
  },
  {
   "cell_type": "code",
   "execution_count": 65,
   "metadata": {},
   "outputs": [
    {
     "name": "stdout",
     "output_type": "stream",
     "text": [
      "Prime Number\n"
     ]
    }
   ],
   "source": [
    "n = eval(input(\"Enter a number:\"))\n",
    "for i in range(2 , n):\n",
    "    if n % i == 0:\n",
    "        print(\"Not Prime\")\n",
    "        break\n",
    "    else:\n",
    "        print(\"Prime Number\") \n",
    "        break\n",
    "      "
   ]
  },
  {
   "cell_type": "code",
   "execution_count": null,
   "metadata": {},
   "outputs": [],
   "source": []
  }
 ],
 "metadata": {
  "kernelspec": {
   "display_name": "Python 3",
   "language": "python",
   "name": "python3"
  },
  "language_info": {
   "codemirror_mode": {
    "name": "ipython",
    "version": 3
   },
   "file_extension": ".py",
   "mimetype": "text/x-python",
   "name": "python",
   "nbconvert_exporter": "python",
   "pygments_lexer": "ipython3",
   "version": "3.11.3"
  }
 },
 "nbformat": 4,
 "nbformat_minor": 2
}
