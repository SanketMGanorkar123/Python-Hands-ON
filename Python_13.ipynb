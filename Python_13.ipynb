{
 "cells": [
  {
   "cell_type": "code",
   "execution_count": 1,
   "metadata": {},
   "outputs": [
    {
     "name": "stdout",
     "output_type": "stream",
     "text": [
      "A\n",
      "b\n",
      "h\n",
      "i\n",
      "s\n",
      "h\n",
      "e\n",
      "k\n"
     ]
    }
   ],
   "source": [
    "user_input = input(\"Enter a String:\")\n",
    "\n",
    "for i in user_input:\n",
    "    print(i)"
   ]
  },
  {
   "cell_type": "code",
   "execution_count": 2,
   "metadata": {},
   "outputs": [
    {
     "name": "stdout",
     "output_type": "stream",
     "text": [
      "W\n",
      "a\n",
      "k\n",
      "c\n",
      "h\n",
      "a\n",
      "u\n",
      "r\n",
      "e\n"
     ]
    }
   ],
   "source": [
    "user_input = input(\"Enter a String\")\n",
    "for i in user_input:\n",
    "    print(i)"
   ]
  },
  {
   "cell_type": "code",
   "execution_count": 3,
   "metadata": {},
   "outputs": [
    {
     "name": "stdout",
     "output_type": "stream",
     "text": [
      "Length of the string is 18 characters\n"
     ]
    }
   ],
   "source": [
    "string1 = \"Abhishek Wakchaure\"\n",
    "length = len(string1)\n",
    "print(f\"Length of the string is {length} characters\")"
   ]
  },
  {
   "cell_type": "code",
   "execution_count": 5,
   "metadata": {},
   "outputs": [
    {
     "name": "stdout",
     "output_type": "stream",
     "text": [
      "Length of the string is 18 characters\n"
     ]
    }
   ],
   "source": [
    "length = 0 \n",
    "for i in string1:\n",
    "    length += 1\n",
    "\n",
    "print(f\"Length of the string is {length} characters\")"
   ]
  },
  {
   "cell_type": "code",
   "execution_count": 6,
   "metadata": {},
   "outputs": [
    {
     "name": "stdout",
     "output_type": "stream",
     "text": [
      "Keyword is present\n"
     ]
    }
   ],
   "source": [
    "sentence = \"This is orange juice\"\n",
    "keyword = \"orange\"\n",
    "if keyword in sentence:\n",
    "    print(\"Keyword is present\")\n",
    "else:\n",
    "    print(\"Keyword is not present\")"
   ]
  },
  {
   "cell_type": "code",
   "execution_count": 7,
   "metadata": {},
   "outputs": [
    {
     "name": "stdout",
     "output_type": "stream",
     "text": [
      "Vowels count :  7\n",
      "Consonant count :  10\n",
      "Digit count :  4\n",
      "Whitespace count :  2\n"
     ]
    }
   ],
   "source": [
    "input_string = input(\"Enter a String:\")\n",
    "vowels = \"aeiou\"\n",
    "consonants = \"bcdfghjklmnpqrstvwxyz\"\n",
    "digits = \"0123456789\"\n",
    "vowel_count = 0\n",
    "consonant_count = 0\n",
    "digit_count = 0\n",
    "whitespace_count = 0\n",
    "for char in input_string:\n",
    "    if char.lower() in vowels:\n",
    "        vowel_count += 1\n",
    "    if char.lower() in consonants:\n",
    "        consonant_count += 1\n",
    "    if char in digits:\n",
    "        digit_count += 1\n",
    "    if char.isspace():\n",
    "        whitespace_count += 1\n",
    "\n",
    "print(\"Vowels count : \", vowel_count)\n",
    "print(\"Consonant count : \", consonant_count)\n",
    "print(\"Digit count : \", digit_count)\n",
    "print(\"Whitespace count : \", whitespace_count)"
   ]
  },
  {
   "cell_type": "code",
   "execution_count": 12,
   "metadata": {},
   "outputs": [
    {
     "name": "stdout",
     "output_type": "stream",
     "text": [
      "Vowels count :  1\n",
      "Consonant count :  3\n",
      "Digit count :  3\n",
      "Whitespace count :  0\n"
     ]
    }
   ],
   "source": [
    "input_string = input(\"Enter a string:\")\n",
    "vowels = \"aeiou\"\n",
    "consonants = \"bcdfghjklmnpqrstvwxyz\"\n",
    "digits = \"0123456789\"\n",
    "vowel_count = 0 \n",
    "consonant_count = 0 \n",
    "digit_count = 0\n",
    "whitespace_count = 0\n",
    "for char in input_string:\n",
    "    if char.lower() in vowels:\n",
    "        vowel_count += 1\n",
    "    if char.lower() in consonants:\n",
    "        consonant_count += 1\n",
    "    if char in digits:\n",
    "        digit_count += 1\n",
    "    if char.isspace():\n",
    "        whitespace_count += 1\n",
    "print(\"Vowels count : \", vowel_count)\n",
    "print(\"Consonant count : \", consonant_count)\n",
    "print(\"Digit count : \", digit_count)\n",
    "print(\"Whitespace count : \", whitespace_count)"
   ]
  },
  {
   "cell_type": "code",
   "execution_count": 13,
   "metadata": {},
   "outputs": [
    {
     "name": "stdout",
     "output_type": "stream",
     "text": [
      "Upper case count:  6\n",
      "Lower case count:  7\n",
      "Special count:  15\n",
      "Number of digits:  4\n"
     ]
    }
   ],
   "source": [
    "input_string = input(\"Enter a string:\")\n",
    "uppercase_count = 0 \n",
    "lowercase_count = 0\n",
    "special_count = 0\n",
    "numeric_count = 0\n",
    "for char in input_string:\n",
    "    if char.islower():\n",
    "        lowercase_count += 1\n",
    "    if char.isupper():\n",
    "        uppercase_count += 1\n",
    "    if char.isdigit():\n",
    "        numeric_count += 1\n",
    "    else:\n",
    "        special_count += 1\n",
    "print(\"Upper case count: \", uppercase_count)\n",
    "print(\"Lower case count: \",lowercase_count)\n",
    "print(\"Special count: \",special_count)\n",
    "print(\"Number of digits: \",numeric_count)"
   ]
  },
  {
   "cell_type": "code",
   "execution_count": 14,
   "metadata": {},
   "outputs": [
    {
     "name": "stdout",
     "output_type": "stream",
     "text": [
      "Upper case count:  2\n",
      "Lower case count:  10\n",
      "Special count:  20\n",
      "Number of digits:  0\n"
     ]
    }
   ],
   "source": [
    "input_string = input(\"Enter a String:\")\n",
    "lowercase_count = 0 \n",
    "uppercase_count = 0 \n",
    "numeric_count = 0 \n",
    "special_count = 0 \n",
    "for char in input_string:\n",
    "    if char.islower():\n",
    "        lowercase_count += 1 \n",
    "    if char.isupper():\n",
    "        uppercase_count += 1\n",
    "    if char.isdigit():\n",
    "        digit_count += 1 \n",
    "    else:\n",
    "        special_count += 1 \n",
    "print(\"Upper case count: \", uppercase_count)\n",
    "print(\"Lower case count: \",lowercase_count)\n",
    "print(\"Special count: \",special_count)\n",
    "print(\"Number of digits: \",numeric_count)"
   ]
  },
  {
   "cell_type": "code",
   "execution_count": 15,
   "metadata": {},
   "outputs": [
    {
     "name": "stdout",
     "output_type": "stream",
     "text": [
      "original string: Hello,have a good day\n",
      "New string with consonants deleted: Hllhvgddy\n"
     ]
    }
   ],
   "source": [
    "input_string = \"Hello,have a good day\"\n",
    "vowels = \"aeiouAEIOU\"\n",
    "new_string = \"\"\n",
    "for char in input_string:\n",
    "    if char.isalpha() and char not in vowels:\n",
    "        new_string += char\n",
    "\n",
    "print(\"original string:\",input_string)\n",
    "print(\"New string with consonants deleted:\",new_string)"
   ]
  },
  {
   "cell_type": "code",
   "execution_count": 16,
   "metadata": {},
   "outputs": [
    {
     "name": "stdout",
     "output_type": "stream",
     "text": [
      "original string: Hello,have a good day\n",
      "New string with consonants deleted: Hllhvgddy\n"
     ]
    }
   ],
   "source": [
    "input_string = \"Hello,have a good day\"\n",
    "vowels = \"aeiouAEIOU\"\n",
    "new_string = \"\"\n",
    "for char in input_string:\n",
    "    if char.isalpha() and char not in vowels:\n",
    "        new_string += char\n",
    "\n",
    "print(\"original string:\",input_string)\n",
    "print(\"New string with consonants deleted:\",new_string)"
   ]
  },
  {
   "cell_type": "code",
   "execution_count": 17,
   "metadata": {},
   "outputs": [
    {
     "name": "stdout",
     "output_type": "stream",
     "text": [
      "Original string: abhishek\n",
      "New string: abhihek\n"
     ]
    }
   ],
   "source": [
    "input_string = input(\"Enter a non empty string:\")\n",
    "index = int(input(\"ENter the index of the character to be removed :\"))\n",
    "\n",
    "if index < 0 and index > len(input_string):\n",
    "    print(\"Invalid Index\")\n",
    "else:\n",
    "    new_string = input_string[:index] + input_string[index+1:]\n",
    "    print(\"Original string:\" , input_string)\n",
    "    print(\"New string:\" , new_string)"
   ]
  },
  {
   "cell_type": "code",
   "execution_count": 18,
   "metadata": {},
   "outputs": [
    {
     "name": "stdout",
     "output_type": "stream",
     "text": [
      "Original string: wakchaure\n",
      "New string: wakcaure\n"
     ]
    }
   ],
   "source": [
    "input_string = input(\"Enter a non empty string:\")\n",
    "index = int(input(\"ENter the index of the character to be removed:\"))\n",
    "if index < 0 and index > len(input_string):\n",
    "    print(\"Invalid Index\")\n",
    "else:\n",
    "    new_string = input_string[:index] + input_string[index+1:]\n",
    "    print(\"Original string:\" , input_string)\n",
    "    print(\"New string:\" , new_string)"
   ]
  },
  {
   "cell_type": "code",
   "execution_count": 19,
   "metadata": {},
   "outputs": [
    {
     "name": "stdout",
     "output_type": "stream",
     "text": [
      "Original string:  abhishek\n",
      "String with first and last characters exchanged:  kbhishea\n"
     ]
    }
   ],
   "source": [
    "input_string = input(\"Enter a String:\")\n",
    "if len(input_string) < 2:\n",
    "    print(\"String should have atleast 2 characters\")\n",
    "else:\n",
    "    new_string = input_string[-1] + input_string[1:-1] + input_string[0]\n",
    "    print(\"Original string: \", input_string)\n",
    "    print(\"String with first and last characters exchanged: \", new_string)"
   ]
  },
  {
   "cell_type": "code",
   "execution_count": 20,
   "metadata": {},
   "outputs": [
    {
     "name": "stdout",
     "output_type": "stream",
     "text": [
      "Original string:  wakchaure\n",
      "String with first and last characters exchanged:  eakchaurw\n"
     ]
    }
   ],
   "source": [
    "input_string = input(\"ENter a string:\")\n",
    "if len(input_string) < 2:\n",
    "    print(\"String should have atleast 2 characters\")\n",
    "else:\n",
    "    new_string = input_string[-1] + input_string[1:-1] + input_string[0]\n",
    "    print(\"Original string: \", input_string)\n",
    "    print(\"String with first and last characters exchanged: \", new_string)"
   ]
  },
  {
   "cell_type": "code",
   "execution_count": 21,
   "metadata": {},
   "outputs": [
    {
     "name": "stdout",
     "output_type": "stream",
     "text": [
      "In the given string a is been repeated 1 times\n",
      "In the given string b is been repeated 1 times\n",
      "In the given string h is been repeated 2 times\n",
      "In the given string i is been repeated 1 times\n",
      "In the given string s is been repeated 1 times\n",
      "In the given string h is been repeated 2 times\n",
      "In the given string e is been repeated 1 times\n",
      "In the given string k is been repeated 1 times\n"
     ]
    }
   ],
   "source": [
    "input_string = str(input(\"Enter a string:\"))\n",
    "word = \"\"\n",
    "for i in input_string:\n",
    "    word = i \n",
    "    count = input_string.count(word)\n",
    "    print(f\"In the given string {word} is been repeated {count} times\")"
   ]
  },
  {
   "cell_type": "code",
   "execution_count": 22,
   "metadata": {},
   "outputs": [
    {
     "name": "stdout",
     "output_type": "stream",
     "text": [
      "In the given string w is repeated 1 times\n",
      "In the given string a is repeated 2 times\n",
      "In the given string k is repeated 1 times\n",
      "In the given string c is repeated 1 times\n",
      "In the given string h is repeated 1 times\n",
      "In the given string a is repeated 2 times\n",
      "In the given string u is repeated 1 times\n",
      "In the given string r is repeated 1 times\n",
      "In the given string e is repeated 1 times\n"
     ]
    }
   ],
   "source": [
    "input_string = str(input(\"Enter a string:\"))\n",
    "word = \"\"\n",
    "for i in input_string:\n",
    "    word = i \n",
    "    count = input_string.count(word)\n",
    "    print(f\"In the given string {word} is repeated {count} times\")"
   ]
  },
  {
   "cell_type": "code",
   "execution_count": 25,
   "metadata": {},
   "outputs": [
    {
     "name": "stdout",
     "output_type": "stream",
     "text": [
      "abhishek : 1\n",
      "wakchaure : 1\n"
     ]
    }
   ],
   "source": [
    "s = str(input(\"Enter a string:\"))\n",
    "ss = s.split()\n",
    "for i in ss:\n",
    "    if i in ss:\n",
    "        ss.count(i)\n",
    "        print(f\"{i} : {s.count(i)}\")\n",
    "    else:\n",
    "        print(\"Word is not repeated\")"
   ]
  },
  {
   "cell_type": "code",
   "execution_count": 27,
   "metadata": {},
   "outputs": [
    {
     "name": "stdout",
     "output_type": "stream",
     "text": [
      "hi : 1\n",
      "where : 1\n",
      "are : 2\n",
      "you : 3\n",
      "i : 3\n",
      "am : 1\n",
      "coming : 1\n",
      "to : 1\n",
      "your : 1\n",
      "home : 1\n",
      "are : 2\n",
      "you : 3\n",
      "there : 1\n"
     ]
    }
   ],
   "source": [
    "s = str(input(\"Enter a string:\"))\n",
    "ss = s.split()\n",
    "for i in ss:\n",
    "    if i in ss:\n",
    "        ss.count(i)\n",
    "        print(f\"{i} : {s.count(i)}\")\n",
    "    else:\n",
    "        print(\"Word is not repeated\")"
   ]
  },
  {
   "cell_type": "code",
   "execution_count": 28,
   "metadata": {},
   "outputs": [
    {
     "name": "stdout",
     "output_type": "stream",
     "text": [
      "Last 10 characters in the string are :  wakchaure\n"
     ]
    }
   ],
   "source": [
    "input_string = input(\"Enter a string:\")\n",
    "last10_char = input_string[-10:]\n",
    "print(\"Last 10 characters in the string are :\" , last10_char)"
   ]
  },
  {
   "cell_type": "code",
   "execution_count": 29,
   "metadata": {},
   "outputs": [
    {
     "name": "stdout",
     "output_type": "stream",
     "text": [
      "Last 10 characters in the string are : oming home\n"
     ]
    }
   ],
   "source": [
    "input_string = input(\"Enter a string:\")\n",
    "last10_char = input_string[-10:]\n",
    "print(\"Last 10 characters in the string are :\" , last10_char)"
   ]
  },
  {
   "cell_type": "code",
   "execution_count": 30,
   "metadata": {},
   "outputs": [
    {
     "name": "stdout",
     "output_type": "stream",
     "text": [
      "Upper case string: ABHISHEK \n"
     ]
    }
   ],
   "source": [
    "input_string = input(\"Enter a string:\")\n",
    "uppercase_count = 0 \n",
    "for char in input_string[:4]:\n",
    "    if char.isupper():\n",
    "        uppercase_count += 1\n",
    "if uppercase_count > 2 :\n",
    "    uppercase_string = input_string.upper()\n",
    "    print(\"Upper case string:\",uppercase_string)\n",
    "else:\n",
    "    print(\"No Conversion required.String doesnot meet condition\")"
   ]
  },
  {
   "cell_type": "code",
   "execution_count": 31,
   "metadata": {},
   "outputs": [
    {
     "name": "stdout",
     "output_type": "stream",
     "text": [
      "No Conversion required.String doesnot meet condition\n"
     ]
    }
   ],
   "source": [
    "input_string = input(\"Enter a string:\")\n",
    "uppercase_count = 0\n",
    "for char in input_string[:4]:\n",
    "    if char.isupper():\n",
    "        uppercase_count += 1\n",
    "if uppercase_count > 2 :\n",
    "    uppercase_string = input_string.upper()\n",
    "    print(\"Upper case string:\",uppercase_string)\n",
    "else:\n",
    "    print(\"No Conversion required.String doesnot meet condition\")"
   ]
  },
  {
   "cell_type": "code",
   "execution_count": 32,
   "metadata": {},
   "outputs": [
    {
     "name": "stdout",
     "output_type": "stream",
     "text": [
      "Original string: This is a string with newline.\n",
      "\n",
      "New string without newline: This is a string with newline.\n"
     ]
    }
   ],
   "source": [
    "input_string = \"This is a string with newline.\\n\"\n",
    "new_string = input_string.replace(\"\\n\" , \"\")\n",
    "print(\"Original string:\",input_string)\n",
    "print(\"New string without newline:\",new_string)"
   ]
  },
  {
   "cell_type": "code",
   "execution_count": 33,
   "metadata": {},
   "outputs": [
    {
     "name": "stdout",
     "output_type": "stream",
     "text": [
      "Original string: This is a string with newline.\n",
      "\n",
      "New string without newline: This is a string with newline.\n"
     ]
    }
   ],
   "source": [
    "input_string = \"This is a string with newline.\\n\"\n",
    "new_string = input_string.replace(\"\\n\" , \"\")\n",
    "print(\"Original string:\",input_string)\n",
    "print(\"New string without newline:\",new_string)"
   ]
  },
  {
   "cell_type": "code",
   "execution_count": 34,
   "metadata": {},
   "outputs": [
    {
     "name": "stdout",
     "output_type": "stream",
     "text": [
      "Original string: 32.054,23\n",
      "Swapped string: 32,054.23\n"
     ]
    }
   ],
   "source": [
    "input_string = \"32.054,23\"\n",
    "new_string = input_string.replace(\",\" , \"*\").replace(\".\",\",\").replace(\"*\",\".\")\n",
    "print(\"Original string:\",input_string)\n",
    "print(\"Swapped string:\",new_string)"
   ]
  },
  {
   "cell_type": "code",
   "execution_count": 35,
   "metadata": {},
   "outputs": [
    {
     "name": "stdout",
     "output_type": "stream",
     "text": [
      "Original string: 32.054,23\n",
      "Swapped string: 32,054.23\n"
     ]
    }
   ],
   "source": [
    "input_string = \"32.054,23\"\n",
    "new_string = input_string.replace(\",\",\"*\").replace(\".\",\",\").replace(\"*\",\".\")\n",
    "print(\"Original string:\",input_string)\n",
    "print(\"Swapped string:\",new_string)"
   ]
  },
  {
   "cell_type": "code",
   "execution_count": 36,
   "metadata": {},
   "outputs": [
    {
     "name": "stdout",
     "output_type": "stream",
     "text": [
      "First repeated char: h\n"
     ]
    }
   ],
   "source": [
    "input_string = input(\"Enter a string:\")\n",
    "char_count = {}\n",
    "for char in input_string:\n",
    "    if char in char_count:\n",
    "        print(\"First repeated char:\",char)\n",
    "        break\n",
    "    char_count[char] = 1\n",
    "else:\n",
    "    print(\"No repeated character found\")"
   ]
  },
  {
   "cell_type": "code",
   "execution_count": 37,
   "metadata": {},
   "outputs": [
    {
     "name": "stdout",
     "output_type": "stream",
     "text": [
      "First repeated char: a\n"
     ]
    }
   ],
   "source": [
    "input_string = input(\"Enter a string:\")\n",
    "char_count = {}\n",
    "for char in input_string:\n",
    "    if char in char_count:\n",
    "        print(\"First repeated char:\",char)\n",
    "        break\n",
    "    char_count[char] = 1\n",
    "else:\n",
    "    print(\"No repeated character found\")"
   ]
  },
  {
   "cell_type": "code",
   "execution_count": 38,
   "metadata": {},
   "outputs": [
    {
     "name": "stdout",
     "output_type": "stream",
     "text": [
      "Even numbers count : 5\n",
      "odd number count : 4\n"
     ]
    }
   ],
   "source": [
    "input_string = input(\"Enter a string:\")\n",
    "even_count = 0 \n",
    "odd_count = 0\n",
    "for char in input_string:\n",
    "    if char.isdigit():\n",
    "        num = int(char)\n",
    "        if num%2==0:\n",
    "            even_count += 1\n",
    "        else:\n",
    "            odd_count += 1\n",
    "print(\"Even numbers count :\",even_count)\n",
    "print(\"odd number count :\",odd_count)"
   ]
  },
  {
   "cell_type": "code",
   "execution_count": 39,
   "metadata": {},
   "outputs": [
    {
     "name": "stdout",
     "output_type": "stream",
     "text": [
      "Even numbers count : 3\n",
      "odd number count : 3\n"
     ]
    }
   ],
   "source": [
    "input_string = input(\"Enter a string\")\n",
    "even_count = 0 \n",
    "odd_count = 0\n",
    "for char in input_string:\n",
    "    if char.isdigit():\n",
    "        num = int(char)\n",
    "        if num%2==0:\n",
    "            even_count += 1\n",
    "        else:\n",
    "            odd_count += 1\n",
    "print(\"Even numbers count :\",even_count)\n",
    "print(\"odd number count :\",odd_count)"
   ]
  },
  {
   "cell_type": "code",
   "execution_count": 40,
   "metadata": {},
   "outputs": [
    {
     "name": "stdout",
     "output_type": "stream",
     "text": [
      "String contains only digits\n"
     ]
    }
   ],
   "source": [
    "input_string = input(\"Enter a string:\")\n",
    "if input_string.isdigit() == True:\n",
    "    print(\"String contains only digits\")\n",
    "else:\n",
    "    print(\"String contains alphabets\")"
   ]
  },
  {
   "cell_type": "code",
   "execution_count": 41,
   "metadata": {},
   "outputs": [
    {
     "name": "stdout",
     "output_type": "stream",
     "text": [
      "String contains alphabets\n"
     ]
    }
   ],
   "source": [
    "input_string = input(\"Enter a string\")\n",
    "if input_string.isdigit() == True:\n",
    "    print(\"String contains only digits\")\n",
    "else:\n",
    "    print(\"String contains alphabets\")"
   ]
  },
  {
   "cell_type": "code",
   "execution_count": 42,
   "metadata": {},
   "outputs": [
    {
     "name": "stdout",
     "output_type": "stream",
     "text": [
      "['A', 'b', 'h', 'i', 's', 'h', 'e', 'k']\n",
      "['A', 'b', 'h', 'i', 'h', 'e', 'k']\n",
      "Abhihek\n"
     ]
    }
   ],
   "source": [
    "a = \"Abhishek\"\n",
    "List = list(a)\n",
    "print(List)\n",
    "x = input(\"Enter the character to be removed\")\n",
    "if x in List:\n",
    "    List.remove(x)\n",
    "    print(List)\n",
    "else:\n",
    "    print(\"Character not found\")\n",
    "Str = \"\"\n",
    "result = Str.join(List)\n",
    "print(result)"
   ]
  },
  {
   "cell_type": "code",
   "execution_count": 43,
   "metadata": {},
   "outputs": [
    {
     "name": "stdout",
     "output_type": "stream",
     "text": [
      "['w', 'a', 'k', 'c', 'h', 'a', 'u', 'r', 'e']\n",
      "['w', 'a', 'k', 'h', 'a', 'u', 'r', 'e']\n",
      "wakhaure\n"
     ]
    }
   ],
   "source": [
    "a = \"wakchaure\"\n",
    "List = list(a)\n",
    "print(List)\n",
    "x = input(\"Enter the character to be removed\")\n",
    "if x in List:\n",
    "    List.remove(x)\n",
    "    print(List)\n",
    "else:\n",
    "    print(\"Character not found\")\n",
    "Str = \"\"\n",
    "result = Str.join(List)\n",
    "print(result)"
   ]
  },
  {
   "cell_type": "code",
   "execution_count": 44,
   "metadata": {},
   "outputs": [
    {
     "name": "stdout",
     "output_type": "stream",
     "text": [
      "['a', 'h', 's', 'h', 'e']\n"
     ]
    }
   ],
   "source": [
    "a = \"abhishek\"\n",
    "k = []\n",
    "for i in a:\n",
    "    if a.index(i)%2==0:\n",
    "        k.append(i)\n",
    "print(k)"
   ]
  },
  {
   "cell_type": "code",
   "execution_count": 45,
   "metadata": {},
   "outputs": [
    {
     "name": "stdout",
     "output_type": "stream",
     "text": [
      "['w', 'k', 'h', 'u', 'e']\n"
     ]
    }
   ],
   "source": [
    "a = \"wakchaure\"\n",
    "k = []\n",
    "for i in a:\n",
    "    if a.index(i)%2==0:\n",
    "        k.append(i)\n",
    "print(k)"
   ]
  },
  {
   "cell_type": "code",
   "execution_count": 46,
   "metadata": {},
   "outputs": [
    {
     "name": "stdout",
     "output_type": "stream",
     "text": [
      "Length is not multiple of 5\n"
     ]
    }
   ],
   "source": [
    "input_string = input(\"Enter a string:\")\n",
    "if len(input_string)%5==0:\n",
    "    output_string = input_string[::-1]\n",
    "    print(output_string)\n",
    "else:\n",
    "    print(\"Length is not multiple of 5\")"
   ]
  },
  {
   "cell_type": "code",
   "execution_count": 47,
   "metadata": {},
   "outputs": [
    {
     "name": "stdout",
     "output_type": "stream",
     "text": [
      "awkehsihba\n"
     ]
    }
   ],
   "source": [
    "input_string = input(\"Enter a string:\")\n",
    "if len(input_string)%5==0:\n",
    "    output_string = input_string[::-1]\n",
    "    print(output_string)\n",
    "else:\n",
    "    print(\"Length is not multiple of 5\")"
   ]
  },
  {
   "cell_type": "code",
   "execution_count": 48,
   "metadata": {},
   "outputs": [
    {
     "name": "stdout",
     "output_type": "stream",
     "text": [
      "eruahckaw kehsihba\n"
     ]
    }
   ],
   "source": [
    "input_string = str(input(\"Enter a string:\"))\n",
    "empty = []\n",
    "for i in input_string:\n",
    "    empty = input_string[::-1]\n",
    "print(empty)"
   ]
  },
  {
   "cell_type": "code",
   "execution_count": 49,
   "metadata": {},
   "outputs": [
    {
     "name": "stdout",
     "output_type": "stream",
     "text": [
      "eruahckaw\n"
     ]
    }
   ],
   "source": [
    "input_string = str(input(\"Enter a string:\"))\n",
    "empty = []\n",
    "for i in input_string:\n",
    "    empty = input_string[::-1]\n",
    "print(empty)"
   ]
  },
  {
   "cell_type": "code",
   "execution_count": 50,
   "metadata": {},
   "outputs": [
    {
     "name": "stdout",
     "output_type": "stream",
     "text": [
      "aBHISHEK\n"
     ]
    }
   ],
   "source": [
    "input_string = str(input(\"Enter a string:\"))\n",
    "empty = []\n",
    "for i in input_string:\n",
    "    empty = input_string.swapcase()\n",
    "print(empty)"
   ]
  },
  {
   "cell_type": "code",
   "execution_count": 51,
   "metadata": {},
   "outputs": [
    {
     "name": "stdout",
     "output_type": "stream",
     "text": [
      "AbhISHeK\n"
     ]
    }
   ],
   "source": [
    "input_string = str(input(\"Enter a string:\"))\n",
    "empty = []\n",
    "for i in input_string:\n",
    "    empty = input_string.swapcase()\n",
    "print(empty)"
   ]
  },
  {
   "cell_type": "code",
   "execution_count": 52,
   "metadata": {},
   "outputs": [
    {
     "name": "stdout",
     "output_type": "stream",
     "text": [
      "Old string: abhishek good boy\n",
      "New string: abhishekgoodboy\n"
     ]
    }
   ],
   "source": [
    "input_string = str(input(\"Enter a string:\"))\n",
    "output_string = input_string.replace(\" \",\"\")\n",
    "print(\"Old string:\",input_string)\n",
    "print(\"New string:\",output_string)"
   ]
  },
  {
   "cell_type": "code",
   "execution_count": 53,
   "metadata": {},
   "outputs": [
    {
     "name": "stdout",
     "output_type": "stream",
     "text": [
      "Old string: abhishek   wakchaure\n",
      "New string: abhishekwakchaure\n"
     ]
    }
   ],
   "source": [
    "input_string = str(input(\"Enter a string:\"))\n",
    "output_string = input_string.replace(\" \",\"\")\n",
    "print(\"Old string:\",input_string)\n",
    "print(\"New string:\",output_string)"
   ]
  },
  {
   "cell_type": "code",
   "execution_count": 54,
   "metadata": {},
   "outputs": [
    {
     "name": "stdout",
     "output_type": "stream",
     "text": [
      "['a', 'b', 'h', 'i', 's', 'e', 'k']\n"
     ]
    }
   ],
   "source": [
    "input_string = str(input(\"Enter a string:\"))\n",
    "output_string = []\n",
    "for i in input_string:\n",
    "    if i not in output_string:\n",
    "        output_string.append(i)\n",
    "print(output_string)"
   ]
  },
  {
   "cell_type": "code",
   "execution_count": 55,
   "metadata": {},
   "outputs": [
    {
     "name": "stdout",
     "output_type": "stream",
     "text": [
      "['w', 'a', 'k', 'c', 'h', 'u', 'r', 'e']\n"
     ]
    }
   ],
   "source": [
    "input_string = str(input(\"Enter a string:\"))\n",
    "output_string = []\n",
    "for i in input_string:\n",
    "    if i not in output_string:\n",
    "        output_string.append(i)\n",
    "print(output_string)"
   ]
  },
  {
   "cell_type": "code",
   "execution_count": 56,
   "metadata": {},
   "outputs": [
    {
     "name": "stdout",
     "output_type": "stream",
     "text": [
      "Area of the circle: 78.5\n"
     ]
    }
   ],
   "source": [
    "radius = eval(input(\"Enter the radius of the circle:\"))\n",
    "area = 3.14 * radius * radius\n",
    "print(\"Area of the circle:\",area)"
   ]
  },
  {
   "cell_type": "code",
   "execution_count": 57,
   "metadata": {},
   "outputs": [
    {
     "name": "stdout",
     "output_type": "stream",
     "text": [
      "0\n",
      "1\n",
      "4\n",
      "9\n",
      "16\n",
      "25\n"
     ]
    }
   ],
   "source": [
    "num = eval(input(\"Enter a number:\"))\n",
    "for i in range(0 , num+1):\n",
    "    print(i*i)"
   ]
  },
  {
   "cell_type": "code",
   "execution_count": 58,
   "metadata": {},
   "outputs": [
    {
     "name": "stdout",
     "output_type": "stream",
     "text": [
      "0\n",
      "1\n",
      "4\n",
      "9\n",
      "16\n",
      "25\n",
      "36\n"
     ]
    }
   ],
   "source": [
    "num = eval(input(\"Enter a number:\"))\n",
    "for i in range(0 , num+1):\n",
    "    print(i*i)"
   ]
  },
  {
   "cell_type": "code",
   "execution_count": 59,
   "metadata": {},
   "outputs": [
    {
     "name": "stdout",
     "output_type": "stream",
     "text": [
      "0\n",
      "1\n",
      "8\n",
      "27\n",
      "64\n",
      "125\n"
     ]
    }
   ],
   "source": [
    "num = eval(input(\"Enter a number:\"))\n",
    "for i in range(0 , num+1):\n",
    "    print(i*i*i)"
   ]
  },
  {
   "cell_type": "code",
   "execution_count": 60,
   "metadata": {},
   "outputs": [
    {
     "name": "stdout",
     "output_type": "stream",
     "text": [
      "0\n",
      "1\n",
      "8\n",
      "27\n",
      "64\n",
      "125\n",
      "216\n"
     ]
    }
   ],
   "source": [
    "num = eval(input(\"Enter a number:\"))\n",
    "for i in range(0 , num+1):\n",
    "    print(i*i*i)"
   ]
  },
  {
   "cell_type": "code",
   "execution_count": 63,
   "metadata": {},
   "outputs": [
    {
     "name": "stdout",
     "output_type": "stream",
     "text": [
      "Not Prime\n"
     ]
    }
   ],
   "source": [
    "n = eval(input(\"Enter a number:\"))\n",
    "for i in range(2 , n):\n",
    "    if n % i == 0:\n",
    "        print(\"Not Prime\")\n",
    "        break\n",
    "    else:\n",
    "        print(\"Prime Number\")\n",
    "        break\n",
    "    "
   ]
  },
  {
   "cell_type": "code",
   "execution_count": 65,
   "metadata": {},
   "outputs": [
    {
     "name": "stdout",
     "output_type": "stream",
     "text": [
      "Prime Number\n"
     ]
    }
   ],
   "source": [
    "n = eval(input(\"Enter a number:\"))\n",
    "for i in range(2 , n):\n",
    "    if n % i == 0:\n",
    "        print(\"Not Prime\")\n",
    "        break\n",
    "    else:\n",
    "        print(\"Prime Number\") \n",
    "        break\n",
    "      "
   ]
  },
  {
   "cell_type": "code",
   "execution_count": 1,
   "metadata": {},
   "outputs": [
    {
     "data": {
      "text/plain": [
       "5"
      ]
     },
     "execution_count": 1,
     "metadata": {},
     "output_type": "execute_result"
    }
   ],
   "source": [
    "list1 = [1,2,3,4,5]\n",
    "max(list1)"
   ]
  },
  {
   "cell_type": "code",
   "execution_count": 2,
   "metadata": {},
   "outputs": [
    {
     "name": "stdout",
     "output_type": "stream",
     "text": [
      "5\n"
     ]
    }
   ],
   "source": [
    "list1 = [1,2,3,4,5]\n",
    "max1 = list1[0]\n",
    "for i in list1:\n",
    "    if i > max1:\n",
    "        largest = i \n",
    "    else:\n",
    "        largest = max1\n",
    "print(largest)"
   ]
  },
  {
   "cell_type": "code",
   "execution_count": 4,
   "metadata": {},
   "outputs": [
    {
     "name": "stdout",
     "output_type": "stream",
     "text": [
      "74\n"
     ]
    }
   ],
   "source": [
    "list1 = [3,55,3,44,6,74,67,17]\n",
    "final_list = sorted(list1)\n",
    "max1 = final_list[0]\n",
    "for i in final_list:\n",
    "    if i > max1:\n",
    "        largest = i \n",
    "    else:\n",
    "        largest = max1\n",
    "print(largest)"
   ]
  },
  {
   "cell_type": "code",
   "execution_count": 6,
   "metadata": {},
   "outputs": [
    {
     "name": "stdout",
     "output_type": "stream",
     "text": [
      "888\n"
     ]
    }
   ],
   "source": [
    "list1 = [55,33,5,43,5,77,85,444,5,6,666,95,445,533,765,3,22,5,555,888]\n",
    "final_list = sorted(list1)\n",
    "max1 = final_list[0]\n",
    "for i in final_list:\n",
    "    if i > max1:\n",
    "        largest = i \n",
    "    else:\n",
    "        largest = max1\n",
    "print(largest)"
   ]
  },
  {
   "cell_type": "code",
   "execution_count": 7,
   "metadata": {},
   "outputs": [
    {
     "data": {
      "text/plain": [
       "55"
      ]
     },
     "execution_count": 7,
     "metadata": {},
     "output_type": "execute_result"
    }
   ],
   "source": [
    "list1 = [4,5,3,5,5,44,55,33,4,26,44,55]\n",
    "list1.sort()\n",
    "list1\n",
    "max1 = list1[-1]\n",
    "max1"
   ]
  },
  {
   "cell_type": "code",
   "execution_count": 8,
   "metadata": {},
   "outputs": [
    {
     "data": {
      "text/plain": [
       "444"
      ]
     },
     "execution_count": 8,
     "metadata": {},
     "output_type": "execute_result"
    }
   ],
   "source": [
    "list1 = [33,22,54,56,33,22,145,65,44,5,444]\n",
    "list1.sort(reverse=True)\n",
    "max1 = list1[0]\n",
    "max1"
   ]
  },
  {
   "cell_type": "code",
   "execution_count": 10,
   "metadata": {},
   "outputs": [
    {
     "data": {
      "text/plain": [
       "[68, 3, 44, 22, 37, 2]"
      ]
     },
     "execution_count": 10,
     "metadata": {},
     "output_type": "execute_result"
    }
   ],
   "source": [
    "list1 = [2,3,44,22,37,68]\n",
    "list1[-1:] + list1[1:-1] + list1[:1]"
   ]
  },
  {
   "cell_type": "code",
   "execution_count": 13,
   "metadata": {},
   "outputs": [
    {
     "data": {
      "text/plain": [
       "[5, 2, 3, 4, 1]"
      ]
     },
     "execution_count": 13,
     "metadata": {},
     "output_type": "execute_result"
    }
   ],
   "source": [
    "list1 = [1,2,3,4,5]\n",
    "list1[-1:] + list1[1:-1] + list1[:1]"
   ]
  },
  {
   "cell_type": "code",
   "execution_count": 14,
   "metadata": {},
   "outputs": [
    {
     "data": {
      "text/plain": [
       "[2, 3, 4]"
      ]
     },
     "execution_count": 14,
     "metadata": {},
     "output_type": "execute_result"
    }
   ],
   "source": [
    "list1[1:-1]"
   ]
  },
  {
   "cell_type": "code",
   "execution_count": 15,
   "metadata": {},
   "outputs": [
    {
     "data": {
      "text/plain": [
       "[2, 1, 3, 4, 5]"
      ]
     },
     "execution_count": 15,
     "metadata": {},
     "output_type": "execute_result"
    }
   ],
   "source": [
    "list1 = [1,2,3,4,5]\n",
    "list1[0],list1[1] = list1[1],list1[0]\n",
    "list1"
   ]
  },
  {
   "cell_type": "code",
   "execution_count": 16,
   "metadata": {},
   "outputs": [
    {
     "data": {
      "text/plain": [
       "[2, 4, 3, 5]"
      ]
     },
     "execution_count": 16,
     "metadata": {},
     "output_type": "execute_result"
    }
   ],
   "source": [
    "list1 = [2,3,4,5]\n",
    "list1[1],list1[2] = list1[2],list1[1]\n",
    "list1"
   ]
  },
  {
   "cell_type": "code",
   "execution_count": 2,
   "metadata": {},
   "outputs": [
    {
     "data": {
      "text/plain": [
       "[1, 2, 4, 3, 5]"
      ]
     },
     "execution_count": 2,
     "metadata": {},
     "output_type": "execute_result"
    }
   ],
   "source": [
    "list1 = [1,2,3,4,5]\n",
    "pos1 = int(input(\"Enter position 1:\"))\n",
    "pos2 = int(input(\"Enter position 2:\"))\n",
    "list1[pos1],list1[pos2] = list1[pos2],list1[pos1]\n",
    "list1"
   ]
  },
  {
   "cell_type": "code",
   "execution_count": 3,
   "metadata": {},
   "outputs": [
    {
     "data": {
      "text/plain": [
       "[5, 4, 3, 2, 1]"
      ]
     },
     "execution_count": 3,
     "metadata": {},
     "output_type": "execute_result"
    }
   ],
   "source": [
    "list1 = [1,2,3,4,5]\n",
    "list1.reverse()\n",
    "list1"
   ]
  },
  {
   "cell_type": "code",
   "execution_count": 4,
   "metadata": {},
   "outputs": [
    {
     "data": {
      "text/plain": [
       "[1, 2, 3, 4, 5]"
      ]
     },
     "execution_count": 4,
     "metadata": {},
     "output_type": "execute_result"
    }
   ],
   "source": [
    "list1 = [5,4,3,2,1]\n",
    "list1.reverse()\n",
    "list1"
   ]
  },
  {
   "cell_type": "code",
   "execution_count": 6,
   "metadata": {},
   "outputs": [
    {
     "data": {
      "text/plain": [
       "[9, 7, 5, 3, 1]"
      ]
     },
     "execution_count": 6,
     "metadata": {},
     "output_type": "execute_result"
    }
   ],
   "source": [
    "list1 = [1,3,5,7,9]\n",
    "list2 = reversed(list1)\n",
    "list(list2)"
   ]
  },
  {
   "cell_type": "code",
   "execution_count": 7,
   "metadata": {},
   "outputs": [
    {
     "data": {
      "text/plain": [
       "[10, 8, 6, 4, 2]"
      ]
     },
     "execution_count": 7,
     "metadata": {},
     "output_type": "execute_result"
    }
   ],
   "source": [
    "list1 = [2,4,6,8,10]\n",
    "list2 = reversed(list1)\n",
    "list(list2)"
   ]
  },
  {
   "cell_type": "code",
   "execution_count": 8,
   "metadata": {},
   "outputs": [
    {
     "data": {
      "text/plain": [
       "[5, 4, 3, 2, 1]"
      ]
     },
     "execution_count": 8,
     "metadata": {},
     "output_type": "execute_result"
    }
   ],
   "source": [
    "list1 = [1,2,3,4,5]\n",
    "list2 = []\n",
    "for i in range(len(list1) , 0 , -1):\n",
    "    list2.append(i)\n",
    "list2"
   ]
  },
  {
   "cell_type": "code",
   "execution_count": 9,
   "metadata": {},
   "outputs": [
    {
     "data": {
      "text/plain": [
       "[5, 4, 3, 2, 1]"
      ]
     },
     "execution_count": 9,
     "metadata": {},
     "output_type": "execute_result"
    }
   ],
   "source": [
    "list1 = [5,4,3,2,1]\n",
    "list2 = []\n",
    "for i in range(len(list1) , 0 , -1):\n",
    "    list2.append(i)\n",
    "list2"
   ]
  },
  {
   "cell_type": "code",
   "execution_count": 10,
   "metadata": {},
   "outputs": [
    {
     "data": {
      "text/plain": [
       "6"
      ]
     },
     "execution_count": 10,
     "metadata": {},
     "output_type": "execute_result"
    }
   ],
   "source": [
    "list1 = [1,1,2,3,4,4,1,2,2,2,4,4,4,3,3,3,2,1,1,2,1,2,3]\n",
    "list1.count(1)"
   ]
  },
  {
   "cell_type": "code",
   "execution_count": 11,
   "metadata": {},
   "outputs": [
    {
     "data": {
      "text/plain": [
       "7"
      ]
     },
     "execution_count": 11,
     "metadata": {},
     "output_type": "execute_result"
    }
   ],
   "source": [
    "list1.count(2)"
   ]
  },
  {
   "cell_type": "code",
   "execution_count": 12,
   "metadata": {},
   "outputs": [
    {
     "name": "stdout",
     "output_type": "stream",
     "text": [
      "5\n"
     ]
    }
   ],
   "source": [
    "list1 = [1,1,2,3,4,4,1,2,2,2,4,4,4,3,3,3,2,1,1,2,1,2,3]\n",
    "num = 3\n",
    "count1 = 0 \n",
    "for i in list1:\n",
    "    if i == num:\n",
    "        count1 += 1\n",
    "print(count1)"
   ]
  },
  {
   "cell_type": "code",
   "execution_count": 13,
   "metadata": {},
   "outputs": [
    {
     "name": "stdout",
     "output_type": "stream",
     "text": [
      "5\n"
     ]
    }
   ],
   "source": [
    "list1 = [1,1,2,3,4,4,1,2,2,2,4,4,4,3,3,3,2,1,1,2,1,2,3]\n",
    "num = 4\n",
    "count1 = 0 \n",
    "for i in list1:\n",
    "    if i == num:\n",
    "        count1 += 1\n",
    "print(count1)"
   ]
  },
  {
   "cell_type": "code",
   "execution_count": 14,
   "metadata": {},
   "outputs": [
    {
     "name": "stdout",
     "output_type": "stream",
     "text": [
      "Sum of elements: 15\n"
     ]
    }
   ],
   "source": [
    "list1 = [1,2,3,4,5]\n",
    "sum1 = 0 \n",
    "for i in list1:\n",
    "    sum1 = sum1 + i\n",
    "print(\"Sum of elements:\", sum1)"
   ]
  },
  {
   "cell_type": "code",
   "execution_count": 15,
   "metadata": {},
   "outputs": [
    {
     "name": "stdout",
     "output_type": "stream",
     "text": [
      "Sum of elements: 55\n"
     ]
    }
   ],
   "source": [
    "list1 = [1,2,3,4,5,6,7,8,9,10]\n",
    "sum1 = 0 \n",
    "for i in list1:\n",
    "    sum1 = sum1 + i\n",
    "print(\"Sum of elements:\", sum1)"
   ]
  },
  {
   "cell_type": "code",
   "execution_count": 16,
   "metadata": {},
   "outputs": [
    {
     "name": "stdout",
     "output_type": "stream",
     "text": [
      "mul of elements: 120\n"
     ]
    }
   ],
   "source": [
    "list1 = [1,2,3,4,5]\n",
    "mul = 1\n",
    "for i in list1:\n",
    "    mul = mul * i \n",
    "print(\"mul of elements:\", mul)"
   ]
  },
  {
   "cell_type": "code",
   "execution_count": 17,
   "metadata": {},
   "outputs": [
    {
     "name": "stdout",
     "output_type": "stream",
     "text": [
      "mul of elements: 945\n"
     ]
    }
   ],
   "source": [
    "list1 = [1,3,5,7,9]\n",
    "mul = 1\n",
    "for i in list1:\n",
    "    mul = mul * i\n",
    "print(\"mul of elements:\",mul)"
   ]
  },
  {
   "cell_type": "code",
   "execution_count": 18,
   "metadata": {},
   "outputs": [
    {
     "data": {
      "text/plain": [
       "5"
      ]
     },
     "execution_count": 18,
     "metadata": {},
     "output_type": "execute_result"
    }
   ],
   "source": [
    "list1 = [1,3,5,7,9]\n",
    "len(list1)"
   ]
  },
  {
   "cell_type": "code",
   "execution_count": 19,
   "metadata": {},
   "outputs": [
    {
     "name": "stdout",
     "output_type": "stream",
     "text": [
      "range(0, 15)\n"
     ]
    }
   ],
   "source": [
    "list1 = [1,2,3,4,5,6,7,8,9,10,11,12,13,14,15]\n",
    "print(range(len(list1)))"
   ]
  },
  {
   "cell_type": "code",
   "execution_count": 20,
   "metadata": {},
   "outputs": [
    {
     "name": "stdout",
     "output_type": "stream",
     "text": [
      "range(0, 23)\n"
     ]
    }
   ],
   "source": [
    "list1 = [1,1,2,3,4,4,1,2,2,2,4,4,4,3,3,3,2,1,1,2,1,2,3]\n",
    "print(range(len(list1)))"
   ]
  },
  {
   "cell_type": "code",
   "execution_count": 21,
   "metadata": {},
   "outputs": [
    {
     "name": "stdout",
     "output_type": "stream",
     "text": [
      "5\n"
     ]
    }
   ],
   "source": [
    "list1 = [1,2,3,4,5]\n",
    "counter = 0 \n",
    "for i in list1:\n",
    "    counter += 1 \n",
    "print(counter)"
   ]
  },
  {
   "cell_type": "code",
   "execution_count": 22,
   "metadata": {},
   "outputs": [
    {
     "name": "stdout",
     "output_type": "stream",
     "text": [
      "Smallest number in the list: 1\n",
      "Greatest number in the list: 5\n"
     ]
    }
   ],
   "source": [
    "list1 = [1,2,3,4,5]\n",
    "smallest = list1[0]\n",
    "greatest = list1[1]\n",
    "\n",
    "for i in range(len(list1)):\n",
    "    if list1[i] <= smallest:\n",
    "        smallest = list1[i]\n",
    "print(\"Smallest number in the list:\", smallest)\n",
    "\n",
    "for i in range(len(list1)):\n",
    "    if list1[i] >= greatest:\n",
    "        greatest = list1[i]\n",
    "print(\"Greatest number in the list:\", greatest)"
   ]
  },
  {
   "cell_type": "code",
   "execution_count": 24,
   "metadata": {},
   "outputs": [
    {
     "name": "stdout",
     "output_type": "stream",
     "text": [
      "Smallest number in the list: 1\n",
      "Largest number in the list: 7\n"
     ]
    }
   ],
   "source": [
    "list1 = [1,2,3,4,5,6,7]\n",
    "smallest = list1[3]\n",
    "largest = list1[2]\n",
    "for i in range(len(list1)):\n",
    "    if list1[i] <= smallest:\n",
    "        smallest = list1[i]\n",
    "print(\"Smallest number in the list:\", smallest)\n",
    "\n",
    "for i in range(len(list1)):\n",
    "    if list1[i] >= largest:\n",
    "        largest = list1[i]\n",
    "print(\"Largest number in the list:\", largest)"
   ]
  },
  {
   "cell_type": "code",
   "execution_count": 31,
   "metadata": {},
   "outputs": [
    {
     "ename": "TypeError",
     "evalue": "descriptor 'append' for 'list' objects doesn't apply to a 'str' object",
     "output_type": "error",
     "traceback": [
      "\u001b[1;31m---------------------------------------------------------------------------\u001b[0m",
      "\u001b[1;31mTypeError\u001b[0m                                 Traceback (most recent call last)",
      "Cell \u001b[1;32mIn[31], line 5\u001b[0m\n\u001b[0;32m      3\u001b[0m \u001b[38;5;28;01mfor\u001b[39;00m i \u001b[38;5;129;01min\u001b[39;00m \u001b[38;5;28mrange\u001b[39m(num):\n\u001b[0;32m      4\u001b[0m     i \u001b[38;5;241m=\u001b[39m \u001b[38;5;28minput\u001b[39m(\u001b[38;5;124m\"\u001b[39m\u001b[38;5;124mEnter the item you want in the list:\u001b[39m\u001b[38;5;124m\"\u001b[39m)\n\u001b[1;32m----> 5\u001b[0m     \u001b[38;5;28;43mlist\u001b[39;49m\u001b[38;5;241;43m.\u001b[39;49m\u001b[43mappend\u001b[49m\u001b[43m(\u001b[49m\u001b[43mi\u001b[49m\u001b[43m)\u001b[49m\n\u001b[0;32m      6\u001b[0m \u001b[38;5;28mprint\u001b[39m(\u001b[38;5;124m\"\u001b[39m\u001b[38;5;124mList is :\u001b[39m\u001b[38;5;124m\"\u001b[39m , list1)\n\u001b[0;32m      8\u001b[0m num1 \u001b[38;5;241m=\u001b[39m \u001b[38;5;28mint\u001b[39m(\u001b[38;5;28minput\u001b[39m(\u001b[38;5;124m\"\u001b[39m\u001b[38;5;124mEnter the number you want to remove from the list:\u001b[39m\u001b[38;5;124m\"\u001b[39m))\n",
      "\u001b[1;31mTypeError\u001b[0m: descriptor 'append' for 'list' objects doesn't apply to a 'str' object"
     ]
    }
   ],
   "source": [
    "list1 = []\n",
    "num = int(input(\"How many numbers you want in the list:\"))\n",
    "for i in range(num):\n",
    "    i = input(\"Enter the item you want in the list:\")\n",
    "    list.append(i)\n",
    "print(\"List is :\" , list1)\n",
    "\n",
    "num1 = int(input(\"Enter the number you want to remove from the list:\"))\n",
    "for i in range(len(list1)):\n",
    "    if num1 == list1[i]:\n",
    "        list1.remove(num1)\n",
    "        print(\"Deleted number from list :\",num1)\n",
    "        print(list1)\n",
    "        break\n",
    "    else:\n",
    "        print(\"Number not found in the list\")"
   ]
  },
  {
   "cell_type": "code",
   "execution_count": 32,
   "metadata": {},
   "outputs": [
    {
     "name": "stdout",
     "output_type": "stream",
     "text": [
      "Original list: [2, 5, 6, 12]\n",
      "New list: [4, 25, 36, 144]\n"
     ]
    }
   ],
   "source": [
    "list1 = [2,5,6,12]\n",
    "list2 = []\n",
    "for i in list1:\n",
    "    list2.append(i**2)\n",
    "print(\"Original list:\",list1)\n",
    "print(\"New list:\",list2)"
   ]
  },
  {
   "cell_type": "code",
   "execution_count": 33,
   "metadata": {},
   "outputs": [
    {
     "name": "stdout",
     "output_type": "stream",
     "text": [
      "Original list: [1, 3, 5, 7, 9]\n",
      "New list: [1, 9, 25, 49, 81]\n"
     ]
    }
   ],
   "source": [
    "list1 = [1,3,5,7,9]\n",
    "list2 = []\n",
    "for i in list1:\n",
    "    list2.append(i**2)\n",
    "print(\"Original list:\",list1)\n",
    "print(\"New list:\",list2)"
   ]
  },
  {
   "cell_type": "code",
   "execution_count": 34,
   "metadata": {},
   "outputs": [
    {
     "data": {
      "text/plain": [
       "[1, 4, 9, 16, 25]"
      ]
     },
     "execution_count": 34,
     "metadata": {},
     "output_type": "execute_result"
    }
   ],
   "source": [
    "list1 = [1,2,3,4,5]\n",
    "list2 = []\n",
    "list2 = [(i**2) for i in list1]\n",
    "list2"
   ]
  },
  {
   "cell_type": "code",
   "execution_count": 35,
   "metadata": {},
   "outputs": [
    {
     "data": {
      "text/plain": [
       "[4, 16, 36, 64, 100]"
      ]
     },
     "execution_count": 35,
     "metadata": {},
     "output_type": "execute_result"
    }
   ],
   "source": [
    "list1 = [2,4,6,8,10]\n",
    "list2 = []\n",
    "list2 = [(i**2) for i in list1]\n",
    "list2"
   ]
  },
  {
   "cell_type": "code",
   "execution_count": 36,
   "metadata": {},
   "outputs": [
    {
     "name": "stdout",
     "output_type": "stream",
     "text": [
      "Even numbers:  [0, 2, 4, 6, 8, 10, 12, 14, 16, 18, 20, 22, 24, 26, 28, 30, 32, 34, 36, 38, 40, 42, 44, 46, 48, 50, 52, 54, 56, 58, 60, 62, 64, 66, 68, 70, 72, 74, 76, 78, 80, 82, 84, 86, 88, 90, 92, 94, 96, 98, 100, 102, 104, 106, 108, 110, 112, 114, 116, 118, 120, 122, 124, 126, 128, 130, 132, 134, 136, 138, 140, 142, 144, 146, 148, 150]\n",
      "********************************************************************************************************************************************************************************************************************************************************************************************************************************************************************************************\n",
      "Odd numbers:  [1, 3, 5, 7, 9, 11, 13, 15, 17, 19, 21, 23, 25, 27, 29, 31, 33, 35, 37, 39, 41, 43, 45, 47, 49, 51, 53, 55, 57, 59, 61, 63, 65, 67, 69, 71, 73, 75, 77, 79, 81, 83, 85, 87, 89, 91, 93, 95, 97, 99, 101, 103, 105, 107, 109, 111, 113, 115, 117, 119, 121, 123, 125, 127, 129, 131, 133, 135, 137, 139, 141, 143, 145, 147, 149, 151]\n"
     ]
    }
   ],
   "source": [
    "even_numbers = []\n",
    "odd_numbers = []\n",
    "for i in range(0 , 152):\n",
    "    if i%2 == 0:\n",
    "        even_numbers.append(i)\n",
    "    else:\n",
    "        odd_numbers.append(i)\n",
    "print(\"Even numbers: \", even_numbers)\n",
    "print(\"*\"*380)\n",
    "print(\"Odd numbers: \", odd_numbers)"
   ]
  },
  {
   "cell_type": "code",
   "execution_count": 37,
   "metadata": {},
   "outputs": [
    {
     "name": "stdout",
     "output_type": "stream",
     "text": [
      "Even numbers:  [0, 2, 4, 6, 8, 10, 12, 14, 16, 18, 20, 22, 24, 26, 28, 30, 32, 34, 36, 38, 40, 42, 44, 46, 48]\n",
      "********************************************************************************************************************************************************************************************************************************************************************************************************************************************************************************************\n",
      "Odd numbers:  [1, 3, 5, 7, 9, 11, 13, 15, 17, 19, 21, 23, 25, 27, 29, 31, 33, 35, 37, 39, 41, 43, 45, 47, 49]\n"
     ]
    }
   ],
   "source": [
    "even_numbers = []\n",
    "odd_numbers = []\n",
    "for i in range(0, 50):\n",
    "    if i%2 == 0:\n",
    "        even_numbers.append(i)\n",
    "    else:\n",
    "        odd_numbers.append(i)\n",
    "print(\"Even numbers: \", even_numbers)\n",
    "print(\"*\"*380)\n",
    "print(\"Odd numbers: \", odd_numbers)"
   ]
  },
  {
   "cell_type": "code",
   "execution_count": 38,
   "metadata": {},
   "outputs": [
    {
     "name": "stdout",
     "output_type": "stream",
     "text": [
      "Even numbers: [0, 2, 4, 6, 8, 10, 12, 14, 16, 18, 20, 22, 24, 26, 28, 30, 32, 34, 36, 38, 40, 42, 44, 46, 48, 50, 52, 54, 56, 58, 60, 62, 64, 66, 68, 70, 72, 74, 76, 78, 80, 82, 84, 86, 88, 90, 92, 94, 96, 98, 100, 102, 104, 106, 108, 110, 112, 114, 116, 118, 120, 122, 124, 126, 128, 130, 132, 134, 136, 138, 140, 142, 144, 146, 148, 150]\n",
      "********************************************************************************************************************************************************************************************************************************************************************************************************************************************************************************************************************************************************************************************************************\n",
      "Even count of numbers: 76\n",
      "\n",
      "\n",
      "Odd numbers: [1, 3, 5, 7, 9, 11, 13, 15, 17, 19, 21, 23, 25, 27, 29, 31, 33, 35, 37, 39, 41, 43, 45, 47, 49, 51, 53, 55, 57, 59, 61, 63, 65, 67, 69, 71, 73, 75, 77, 79, 81, 83, 85, 87, 89, 91, 93, 95, 97, 99, 101, 103, 105, 107, 109, 111, 113, 115, 117, 119, 121, 123, 125, 127, 129, 131, 133, 135, 137, 139, 141, 143, 145, 147, 149, 151]\n",
      "********************************************************************************************************************************************************************************************************************************************************************************************************************************************************************************************************************************************************************************************************************\n",
      "Odd count of numbers: 76\n"
     ]
    }
   ],
   "source": [
    "even_numbers = []\n",
    "even_count = 0\n",
    "odd_numbers = []\n",
    "odd_count = 0\n",
    "for i in range(0 , 152):\n",
    "    if i%2 == 0:\n",
    "        even_numbers.append(i)\n",
    "        even_count += 1\n",
    "    else:\n",
    "        odd_numbers.append(i)\n",
    "        odd_count += 1\n",
    "print(\"Even numbers:\", even_numbers)\n",
    "print(\"*\"*500)\n",
    "print(\"Even count of numbers:\", even_count)\n",
    "print()\n",
    "print()\n",
    "print(\"Odd numbers:\", odd_numbers)\n",
    "print(\"*\"*500)\n",
    "print(\"Odd count of numbers:\", odd_count)"
   ]
  },
  {
   "cell_type": "code",
   "execution_count": 39,
   "metadata": {},
   "outputs": [
    {
     "name": "stdout",
     "output_type": "stream",
     "text": [
      "Even numbers: [0, 2, 4, 6, 8, 10, 12, 14, 16, 18, 20, 22, 24, 26, 28, 30, 32, 34, 36, 38, 40, 42, 44, 46, 48, 50, 52, 54, 56, 58, 60, 62, 64, 66, 68, 70, 72, 74, 76, 78, 80, 82, 84, 86, 88, 90, 92, 94, 96, 98, 100, 102, 104, 106, 108, 110, 112, 114, 116, 118, 120, 122, 124, 126, 128, 130, 132, 134, 136, 138, 140, 142, 144, 146, 148, 150]\n",
      "********************************************************************************************************************************************************************************************************************************************************************************************************************************************************************************************************************************************************************************************************************\n",
      "Even count of numbers: 76\n",
      "\n",
      "\n",
      "Odd numbers: [1, 3, 5, 7, 9, 11, 13, 15, 17, 19, 21, 23, 25, 27, 29, 31, 33, 35, 37, 39, 41, 43, 45, 47, 49, 51, 53, 55, 57, 59, 61, 63, 65, 67, 69, 71, 73, 75, 77, 79, 81, 83, 85, 87, 89, 91, 93, 95, 97, 99, 101, 103, 105, 107, 109, 111, 113, 115, 117, 119, 121, 123, 125, 127, 129, 131, 133, 135, 137, 139, 141, 143, 145, 147, 149, 151]\n",
      "********************************************************************************************************************************************************************************************************************************************************************************************************************************************************************************************************************************************************************************************************************\n",
      "Odd count of numbers: 76\n"
     ]
    }
   ],
   "source": [
    "even_numbers = []\n",
    "even_count = 0 \n",
    "odd_numbers = []\n",
    "odd_count = 0\n",
    "for i in range(0, 152):\n",
    "    if i%2 == 0:\n",
    "        even_numbers.append(i)\n",
    "        even_count += 1\n",
    "    else:\n",
    "        odd_numbers.append(i)\n",
    "        odd_count += 1\n",
    "print(\"Even numbers:\", even_numbers)\n",
    "print(\"*\"*500)\n",
    "print(\"Even count of numbers:\", even_count)\n",
    "print()\n",
    "print()\n",
    "print(\"Odd numbers:\", odd_numbers)\n",
    "print(\"*\"*500)\n",
    "print(\"Odd count of numbers:\", odd_count)"
   ]
  },
  {
   "cell_type": "code",
   "execution_count": 40,
   "metadata": {},
   "outputs": [
    {
     "name": "stdout",
     "output_type": "stream",
     "text": [
      "Numbers divisible by 4 are: [0, 4, 8, 12, 16, 20, 24, 28, 32, 36, 40, 44, 48, 52, 56, 60, 64, 68, 72, 76, 80, 84, 88, 92, 96, 100, 104, 108, 112, 116, 120, 124, 128, 132, 136, 140, 144, 148]\n",
      "\n",
      "Numbers divisible by 6 are: [0, 6, 12, 18, 24, 30, 36, 42, 48, 54, 60, 66, 72, 78, 84, 90, 96, 102, 108, 114, 120, 126, 132, 138, 144, 150]\n",
      "\n",
      "Numbers divisible by 8 are: [0, 8, 16, 24, 32, 40, 48, 56, 64, 72, 80, 88, 96, 104, 112, 120, 128, 136, 144]\n",
      "\n",
      "Numbers divisible by 10 are: [0, 10, 20, 30, 40, 50, 60, 70, 80, 90, 100, 110, 120, 130, 140, 150]\n",
      "\n",
      "Numbers divisible by 3 are: [0, 3, 6, 9, 12, 15, 18, 21, 24, 27, 30, 33, 36, 39, 42, 45, 48, 51, 54, 57, 60, 63, 66, 69, 72, 75, 78, 81, 84, 87, 90, 93, 96, 99, 102, 105, 108, 111, 114, 117, 120, 123, 126, 129, 132, 135, 138, 141, 144, 147, 150]\n",
      "\n",
      "Numbers are divisible by 5 are: [0, 5, 10, 15, 20, 25, 30, 35, 40, 45, 50, 55, 60, 65, 70, 75, 80, 85, 90, 95, 100, 105, 110, 115, 120, 125, 130, 135, 140, 145, 150]\n",
      "\n",
      "Numbers divisible by 7 are: [0, 7, 14, 21, 28, 35, 42, 49, 56, 63, 70, 77, 84, 91, 98, 105, 112, 119, 126, 133, 140, 147]\n",
      "\n",
      "Numbers divisible by 9 are: [0, 9, 18, 27, 36, 45, 54, 63, 72, 81, 90, 99, 108, 117, 126, 135, 144]\n"
     ]
    }
   ],
   "source": [
    "divisible_4 = []\n",
    "divisible_6 = []\n",
    "divisible_8 = []\n",
    "divisible_10 = []\n",
    "divisible_3 = []\n",
    "divisible_5 = []\n",
    "divisible_7 = []\n",
    "divisible_9 = []\n",
    "\n",
    "for i in range(0 , 152):\n",
    "    if i%4 == 0:\n",
    "        divisible_4.append(i)\n",
    "    if i%6==0:\n",
    "        divisible_6.append(i)\n",
    "    if i%8==0:\n",
    "        divisible_8.append(i)\n",
    "    if i%10==0:\n",
    "        divisible_10.append(i)\n",
    "    if i%3==0:\n",
    "        divisible_3.append(i)\n",
    "    if i%5==0:\n",
    "        divisible_5.append(i)\n",
    "    if i%7==0:\n",
    "        divisible_7.append(i)\n",
    "    if i%9==0:\n",
    "        divisible_9.append(i)\n",
    "print(\"Numbers divisible by 4 are:\",divisible_4)\n",
    "print()\n",
    "print(\"Numbers divisible by 6 are:\",divisible_6)\n",
    "print()\n",
    "print(\"Numbers divisible by 8 are:\",divisible_8)\n",
    "print()\n",
    "print(\"Numbers divisible by 10 are:\",divisible_10)\n",
    "print()\n",
    "print(\"Numbers divisible by 3 are:\",divisible_3)\n",
    "print()\n",
    "print(\"Numbers are divisible by 5 are:\",divisible_5)\n",
    "print()\n",
    "print(\"Numbers divisible by 7 are:\",divisible_7)\n",
    "print()\n",
    "print(\"Numbers divisible by 9 are:\",divisible_9)"
   ]
  },
  {
   "cell_type": "code",
   "execution_count": 41,
   "metadata": {},
   "outputs": [
    {
     "name": "stdout",
     "output_type": "stream",
     "text": [
      "Integer list:  [1, 2, 3]\n",
      "\n",
      "Float list:  [4.12, 5.35]\n",
      "\n",
      "String list:  ['hello', 'welcome']\n"
     ]
    }
   ],
   "source": [
    "l1=[1,2,3,\"hello\",\"welcome\",4.12,5.35]\n",
    "int_list = []\n",
    "string_list = []\n",
    "float_list = []\n",
    "for i in l1:\n",
    "    if type(i) == int:\n",
    "        int_list.append(i)\n",
    "    if type(i) == float:\n",
    "        float_list.append(i)\n",
    "    if type(i) == str:\n",
    "        string_list.append(i)\n",
    "print(\"Integer list: \", int_list)\n",
    "print()\n",
    "print(\"Float list: \", float_list)\n",
    "print()\n",
    "print(\"String list: \", string_list)"
   ]
  },
  {
   "cell_type": "code",
   "execution_count": 42,
   "metadata": {},
   "outputs": [
    {
     "name": "stdout",
     "output_type": "stream",
     "text": [
      "Integer list:  [1, 2, 3]\n",
      "\n",
      "Float list:  [4.12, 5.35]\n",
      "\n",
      "String list:  ['hello', 'welcome']\n"
     ]
    }
   ],
   "source": [
    "l1=[1,2,3,\"hello\",\"welcome\",4.12,5.35]\n",
    "int_list = []\n",
    "string_list = []\n",
    "float_list = []\n",
    "for i in l1:\n",
    "    if type(i) == int:\n",
    "        int_list.append(i)\n",
    "    if type(i) == float:\n",
    "        float_list.append(i)\n",
    "    if type(i) == str:\n",
    "        string_list.append(i)\n",
    "print(\"Integer list: \", int_list)\n",
    "print()\n",
    "print(\"Float list: \", float_list)\n",
    "print()\n",
    "print(\"String list: \", string_list)"
   ]
  },
  {
   "cell_type": "code",
   "execution_count": 43,
   "metadata": {},
   "outputs": [
    {
     "data": {
      "text/plain": [
       "[2, 3, 4, 5, 6, 1, 2, 3, 4, 5]"
      ]
     },
     "execution_count": 43,
     "metadata": {},
     "output_type": "execute_result"
    }
   ],
   "source": [
    "l1 = [1,2,3,4,5]\n",
    "l2 = [2,3,4,5,6]\n",
    "l2.extend(l1)\n",
    "l2"
   ]
  },
  {
   "cell_type": "code",
   "execution_count": 44,
   "metadata": {},
   "outputs": [
    {
     "data": {
      "text/plain": [
       "[1, 2, 3, 4, 5, 2, 3, 4, 5, 6]"
      ]
     },
     "execution_count": 44,
     "metadata": {},
     "output_type": "execute_result"
    }
   ],
   "source": [
    "l1 = [1,2,3,4,5]\n",
    "l2 = [2,3,4,5,6]\n",
    "l1.extend(l2)\n",
    "l1"
   ]
  },
  {
   "cell_type": "code",
   "execution_count": 45,
   "metadata": {},
   "outputs": [
    {
     "name": "stdout",
     "output_type": "stream",
     "text": [
      "Sorted list: [30, 11, 10, 9, 7, 6, 5, 4, 2, 1]\n",
      "Third largest number: 10\n"
     ]
    }
   ],
   "source": [
    "l1=[10, 2, 4, 5, 6, 2, 9, 1, 7, 5, 4, 11, 30]\n",
    "sorted_numbers = sorted(set(l1) , reverse=True)\n",
    "print(\"Sorted list:\",sorted_numbers)\n",
    "print(\"Third largest number:\",sorted_numbers[2])"
   ]
  },
  {
   "cell_type": "code",
   "execution_count": 46,
   "metadata": {},
   "outputs": [
    {
     "name": "stdout",
     "output_type": "stream",
     "text": [
      "Sorted list:  [30, 11, 10, 9, 7, 6, 5, 4, 2, 1]\n",
      "Third largest number:  10\n"
     ]
    }
   ],
   "source": [
    "l1=[10, 2, 4, 5, 6, 2, 9, 1, 7, 5, 4, 11, 30]\n",
    "sorted_numbers = sorted(set(l1),reverse=True)\n",
    "print(\"Sorted list: \",sorted_numbers)\n",
    "print(\"Third largest number: \",sorted_numbers[2])"
   ]
  },
  {
   "cell_type": "code",
   "execution_count": 47,
   "metadata": {},
   "outputs": [
    {
     "name": "stdout",
     "output_type": "stream",
     "text": [
      "{1: 2, 2: 2, 3: 2, 4: 2}\n"
     ]
    }
   ],
   "source": [
    "l1=[1,2,3,4,1,2,3,4]\n",
    "l2 = {}\n",
    "for i in l1:\n",
    "    if i in l2:\n",
    "        l2[i] = l2[i] + 1\n",
    "    else:\n",
    "        l2[i] = 1\n",
    "print(l2)"
   ]
  },
  {
   "cell_type": "code",
   "execution_count": 48,
   "metadata": {},
   "outputs": [
    {
     "name": "stdout",
     "output_type": "stream",
     "text": [
      "{1: 2, 2: 2, 3: 2, 4: 2}\n"
     ]
    }
   ],
   "source": [
    "l1=[1,2,3,4,1,2,3,4]\n",
    "l2 = {}\n",
    "for i in l1:\n",
    "    if i in l2:\n",
    "        l2[i] = l2[i] + 1\n",
    "    else:\n",
    "        l2[i] = 1\n",
    "print(l2)"
   ]
  },
  {
   "cell_type": "code",
   "execution_count": 49,
   "metadata": {},
   "outputs": [
    {
     "name": "stdout",
     "output_type": "stream",
     "text": [
      "l2 is subset of l1\n"
     ]
    }
   ],
   "source": [
    "l1=[[1,2,3,4],1,2,3,4]\n",
    "l2=[1,2,3,4]\n",
    "if l2 in l1:\n",
    "    print(\"l2 is subset of l1\")\n",
    "else:\n",
    "    print(\"l2 is not a subset of l1\")"
   ]
  },
  {
   "cell_type": "code",
   "execution_count": 50,
   "metadata": {},
   "outputs": [
    {
     "name": "stdout",
     "output_type": "stream",
     "text": [
      "l2 is subset of l1\n"
     ]
    }
   ],
   "source": [
    "l1=[[1,2,3,4],1,2,3,4]\n",
    "l2=[1,2,3,4]\n",
    "if l2 in l1:\n",
    "    print(\"l2 is subset of l1\")\n",
    "else:\n",
    "    print(\"l2 is not a subset of l1\")"
   ]
  },
  {
   "cell_type": "code",
   "execution_count": 51,
   "metadata": {},
   "outputs": [
    {
     "data": {
      "text/plain": [
       "[[], [1], [1, 2], [2], [1, 2, 3], [2, 3], [3]]"
      ]
     },
     "execution_count": 51,
     "metadata": {},
     "output_type": "execute_result"
    }
   ],
   "source": [
    "l1 = [1,2,3]\n",
    "sub_l1 = [[]]\n",
    "for i in range(len(l1)+1):\n",
    "    for j in range(i):\n",
    "        sub_l1.append(l1[j:i])\n",
    "sub_l1"
   ]
  },
  {
   "cell_type": "code",
   "execution_count": 52,
   "metadata": {},
   "outputs": [
    {
     "data": {
      "text/plain": [
       "[[], [1], [1, 2], [2], [1, 2, 3], [2, 3], [3]]"
      ]
     },
     "execution_count": 52,
     "metadata": {},
     "output_type": "execute_result"
    }
   ],
   "source": [
    "l1 = [1,2,3]\n",
    "sub_l1 = [[]]\n",
    "for i in range(len(l1)+1):\n",
    "    for j in range(i):\n",
    "        sub_l1.append(l1[j:i])\n",
    "sub_l1"
   ]
  },
  {
   "cell_type": "code",
   "execution_count": 53,
   "metadata": {},
   "outputs": [
    {
     "name": "stdout",
     "output_type": "stream",
     "text": [
      "Common elements are : {10, 20, 50, 30}\n"
     ]
    }
   ],
   "source": [
    "l1=[10,20,30,40]\n",
    "l2=[10,20,30,50]\n",
    "common_items = set(l1) and set(l2)\n",
    "print(\"Common elements are :\",common_items)"
   ]
  },
  {
   "cell_type": "code",
   "execution_count": 54,
   "metadata": {},
   "outputs": [
    {
     "name": "stdout",
     "output_type": "stream",
     "text": [
      "Common elements are : {10, 20, 50, 30}\n"
     ]
    }
   ],
   "source": [
    "l1=[10,20,30,40]\n",
    "l2=[10,20,30,50]\n",
    "common_items = set(l1) and set(l2)\n",
    "print(\"Common elements are :\",common_items)"
   ]
  },
  {
   "cell_type": "code",
   "execution_count": 55,
   "metadata": {},
   "outputs": [
    {
     "name": "stdout",
     "output_type": "stream",
     "text": [
      "Flattened list is : [1, 2, 3, 4, 5, 6, 7, 8, 9]\n"
     ]
    }
   ],
   "source": [
    "l1=[[1,2,3],[4,5,6],[7,8,9]]\n",
    "from itertools import chain\n",
    "flattened_list = list(chain(*l1))\n",
    "print(\"Flattened list is :\",flattened_list)"
   ]
  },
  {
   "cell_type": "code",
   "execution_count": 56,
   "metadata": {},
   "outputs": [
    {
     "name": "stdout",
     "output_type": "stream",
     "text": [
      "Flattened list is : [1, 2, 3, 4, 5, 6, 7, 8, 9]\n"
     ]
    }
   ],
   "source": [
    "l1=[[1,2,3],[4,5,6],[7,8,9]]\n",
    "from itertools import chain\n",
    "flattened_list = list(chain(*l1))\n",
    "print(\"Flattened list is :\",flattened_list)"
   ]
  },
  {
   "cell_type": "code",
   "execution_count": 57,
   "metadata": {},
   "outputs": [
    {
     "data": {
      "text/plain": [
       "(1, 2, 2, 3, 4, 4, 5, 7, 9)"
      ]
     },
     "execution_count": 57,
     "metadata": {},
     "output_type": "execute_result"
    }
   ],
   "source": [
    "tuple1 = (2,3,5,2,1,4,7,9,4)\n",
    "tuple2 = list(tuple1)\n",
    "tuple2.sort()\n",
    "tuple(tuple2)"
   ]
  },
  {
   "cell_type": "code",
   "execution_count": 58,
   "metadata": {},
   "outputs": [
    {
     "data": {
      "text/plain": [
       "(0, 2, 3, 3, 4, 5, 5, 5, 7, 8)"
      ]
     },
     "execution_count": 58,
     "metadata": {},
     "output_type": "execute_result"
    }
   ],
   "source": [
    "tuple1 = (3,4,5,2,3,5,7,5,8,0)\n",
    "tuple2 = list(tuple1)\n",
    "tuple2.sort()\n",
    "tuple(tuple2)"
   ]
  },
  {
   "cell_type": "code",
   "execution_count": 59,
   "metadata": {},
   "outputs": [
    {
     "name": "stdout",
     "output_type": "stream",
     "text": [
      "113050"
     ]
    }
   ],
   "source": [
    "l1 = [11,30,50]\n",
    "for i in l1:\n",
    "    print(i , end=\"\")"
   ]
  },
  {
   "cell_type": "code",
   "execution_count": 60,
   "metadata": {},
   "outputs": [
    {
     "name": "stdout",
     "output_type": "stream",
     "text": [
      "223212"
     ]
    }
   ],
   "source": [
    "l1 = [22,32,12]\n",
    "for i in l1:\n",
    "    print(i , end=\"\")"
   ]
  },
  {
   "cell_type": "code",
   "execution_count": 61,
   "metadata": {},
   "outputs": [
    {
     "name": "stdout",
     "output_type": "stream",
     "text": [
      "List is not empty\n"
     ]
    }
   ],
   "source": [
    "l1 = [1]\n",
    "if l1 == []:\n",
    "    print(\"List is empty\")\n",
    "else:\n",
    "    print(\"List is not empty\")"
   ]
  },
  {
   "cell_type": "code",
   "execution_count": 62,
   "metadata": {},
   "outputs": [
    {
     "name": "stdout",
     "output_type": "stream",
     "text": [
      "List is empty\n"
     ]
    }
   ],
   "source": [
    "l1 = []\n",
    "if l1 == []:\n",
    "    print(\"List is empty\")\n",
    "else:\n",
    "    print(\"List is not empty\")"
   ]
  },
  {
   "cell_type": "code",
   "execution_count": 63,
   "metadata": {},
   "outputs": [
    {
     "data": {
      "text/plain": [
       "[1, 2, 3, 4, 5, 6]"
      ]
     },
     "execution_count": 63,
     "metadata": {},
     "output_type": "execute_result"
    }
   ],
   "source": [
    "l1 = [1,2,3]\n",
    "l2 = [4,5,6]\n",
    "l1+l2"
   ]
  },
  {
   "cell_type": "code",
   "execution_count": 65,
   "metadata": {},
   "outputs": [
    {
     "data": {
      "text/plain": [
       "[1, 2, 3, 4, 5, 6, 4, 5, 6]"
      ]
     },
     "execution_count": 65,
     "metadata": {},
     "output_type": "execute_result"
    }
   ],
   "source": [
    "l1.extend(l2)\n",
    "l1"
   ]
  },
  {
   "cell_type": "code",
   "execution_count": 66,
   "metadata": {},
   "outputs": [
    {
     "data": {
      "text/plain": [
       "2"
      ]
     },
     "execution_count": 66,
     "metadata": {},
     "output_type": "execute_result"
    }
   ],
   "source": [
    "l1=[1,2,3,1,2,3,4,5,6,4,5,6]\n",
    "l1.count(2)"
   ]
  },
  {
   "cell_type": "code",
   "execution_count": 67,
   "metadata": {},
   "outputs": [
    {
     "data": {
      "text/plain": [
       "2"
      ]
     },
     "execution_count": 67,
     "metadata": {},
     "output_type": "execute_result"
    }
   ],
   "source": [
    "l1.count(1)"
   ]
  },
  {
   "cell_type": "code",
   "execution_count": 68,
   "metadata": {},
   "outputs": [
    {
     "data": {
      "text/plain": [
       "[1, 2, 3, 4, 5, 6, 7, 8, 9]"
      ]
     },
     "execution_count": 68,
     "metadata": {},
     "output_type": "execute_result"
    }
   ],
   "source": [
    "l1=[[1,2,3],[4,5,6],[7,8,9]]\n",
    "from itertools import chain\n",
    "flattened_list = list(chain(*l1))\n",
    "flattened_list"
   ]
  },
  {
   "cell_type": "code",
   "execution_count": 69,
   "metadata": {},
   "outputs": [
    {
     "data": {
      "text/plain": [
       "[1, 2, 3, 4, 5, 6, 7, 8, 9]"
      ]
     },
     "execution_count": 69,
     "metadata": {},
     "output_type": "execute_result"
    }
   ],
   "source": [
    "l1=[[1,2,3],[4,5,6],[7,8,9]]\n",
    "from itertools import chain\n",
    "flattened_list = list(chain(*l1))\n",
    "flattened_list"
   ]
  },
  {
   "cell_type": "markdown",
   "metadata": {},
   "source": [
    "## Revision of Linear regression \n",
    "> Linear regreaaion \n",
    "* It is a predictive model used to find the linear relationship between dependent variable and one or more independent variables.\n",
    "* Which says that it finds out how the value of dependent variable changes according to the value of independent variables.\n",
    "* It is a parameteric algorithm >> assumptions on distribution of data\n",
    "* Our aim in linear regression is to find the linear relationship between dependent variable and one or more independent variables.\n",
    "\n",
    "> Types of Linear Regression\n",
    "1. SImple Linear Regression \n",
    "* If a single independent variable is used to find out the value od dependent variable then it is called as Simple Linear Regression.\n",
    "* We have only one independent variable.\n",
    "* y = mx + c\n",
    "* m >> Slope >> linear regression coefficients >> scale factor to each input value.\n",
    "* c >> intercept of the line >> gives an additional degree of freedom \n",
    "* x >> Independent variable\n",
    "* y >> dependent variable\n",
    "\n",
    "2. Multiple Linear Regression\n",
    "* If we use more than one independent variable to predict the value of dependent variable then it is called as Multiple Linear Regression.\n",
    "* We have one or more independent variables\n",
    "* Y = m1X1 + m2X2 + m3X3 + c\n",
    "* m1,m2,m3 >> slope \n",
    "* x1,x2,x3 >> Indepndent variable\n",
    "* Y >> dependent variable\n",
    "* Slope >> m = (Y2 - Y1) / (X2 - X1)\n",
    "\n",
    "> Residuals or errors or coefficients of regression(e)\n",
    "* Distance between actual value and predicted value is called as error.\n",
    "* If the observed points are far away from the regression line then the error will be higher and higher will be the cost function.\n",
    "* If the observed points are near the regression line then the error will be less and less will be the cost function.\n",
    "* e = Yactual - Ypredicted\n",
    "* Yactual >> actual value of Y >> Original value .. data point\n",
    "* Ypredicted >> predicted value of Y >> Value according to  the regression line\n",
    "* \n",
    "> Linear regression line\n",
    "* A linear line showing linear relationship between dependent variable and one or more independent variables is called as a linear regression line.\n",
    "* Positive linear relationship : (R = 1)\n",
    "* If we increase our value in independent variables and accordingly the value in dependent variable increases then such relationship will be called as Positive Linear Relationship.\n",
    "* Negative linear relationship : (R = -1)\n",
    "* If we decrease our value in independent variables and accordingly the value in dependent variable decreases then such relationship will be called as Negative Linear Relationship.\n",
    "* \n",
    "> Advantages of Linear Regression\n",
    "1. Simple to implement and easier to interpret the output coefficients.\n",
    "2. When you know there is a linear relationship between the dependent variable and the independent variable then this is best algorithm to use and it is less complex as comared to other algorithms.\n",
    "3. Linear regression is prone to Overfitting and it can be avoided by using the dimensionality reduction technique(PCA) , Regularization(L1 and L2) , Cross Validation.\n",
    "* \n",
    "> Disadvantages of Linear regression\n",
    "1. When the independent variables are corelated then it may affect the performance of the model.\n",
    "2. It is only efficient for linear data(High corr between x and y)\n",
    "3. Sometimes a lot of feature engineering is required.\n",
    "4. Scaling is required.\n",
    "5. It is often prone to noise and overfitting.\n",
    "6. It is sensitive to missing values.\n",
    "7. It is sensitive to Outliers.\n",
    "* \n",
    "> Applications of Linear regression \n",
    "1. Forecasting the data \n",
    "2. Analyzing the Time series\n",
    "3. Prize predictions\n",
    "4. Salary predictions\n",
    "* \n",
    "> Assumptions of Linear regression\n",
    "1. Linearity : Linear relationships between the dependent variable and Independent variables\n",
    "2. NoMulticolinearity : Indepndent variables should be independent to each other.\n",
    "3. Normality of residuals\n",
    "4. Homoscedasticity\n",
    "* \n",
    "1. Linearity >> There should be linear relationships between the dependent variable and Independent variables.\n",
    "* A linear relationship tells us how a unit difference in Independent variable affects the dependent variable.\n",
    "* An additive relationship tells us that effect of Independent variable on dependent variable is independent of other Independent variable.\n",
    "* In Linear regression a straight line will be passed through maximum data points as good as possible.\n",
    "* As the line will be passed through the maximum data points our coefficient of regression will be minimum.\n",
    "* The line shows linear relationship between independent variable and dependent variable.\n",
    "* \n",
    "> How to check Linearity?\n",
    "* Coefficient of corelation\n",
    "* Scatterplot\n",
    "* Corelation matrix\n",
    "* \n",
    "> "
   ]
  },
  {
   "cell_type": "code",
   "execution_count": 1,
   "metadata": {},
   "outputs": [
    {
     "name": "stdout",
     "output_type": "stream",
     "text": [
      "cat\n",
      "cta\n",
      "act\n",
      "atc\n",
      "tca\n",
      "tac\n"
     ]
    }
   ],
   "source": [
    "from itertools import permutations\n",
    "\n",
    "def display_permutations(input_str):\n",
    "    # Get all permutations using itertools.permutations\n",
    "    perms = permutations(input_str)\n",
    "\n",
    "    # Print each permutation\n",
    "    for perm in perms:\n",
    "        print(''.join(perm))\n",
    "\n",
    "# Sample Input\n",
    "input_string = \"cat\"\n",
    "\n",
    "# Display Permutations\n",
    "display_permutations(input_string)\n"
   ]
  },
  {
   "cell_type": "code",
   "execution_count": 1,
   "metadata": {},
   "outputs": [
    {
     "name": "stdout",
     "output_type": "stream",
     "text": [
      "OrderedDict([('rajnish', '9'), ('ravi', '10'), ('sanjeev', '15'), ('suraj', '32'), ('yash', '2')]) "
     ]
    }
   ],
   "source": [
    "from collections import OrderedDict\n",
    "dict1 = {'ravi': '10', 'rajnish': '9',\n",
    "        'sanjeev': '15', 'yash': '2', 'suraj': '32'}\n",
    "x = OrderedDict(sorted(dict1.items()))\n",
    "print(x , end=\" \")"
   ]
  },
  {
   "cell_type": "code",
   "execution_count": 2,
   "metadata": {},
   "outputs": [
    {
     "name": "stdout",
     "output_type": "stream",
     "text": [
      "OrderedDict([('rajnish', '9'), ('ravi', '10'), ('sanjeev', '15'), ('suraj', '32'), ('yash', '2')]) "
     ]
    }
   ],
   "source": [
    "from collections import OrderedDict\n",
    "dict1 = {'ravi': '10', 'rajnish': '9',\n",
    "        'sanjeev': '15', 'yash': '2', 'suraj': '32'}\n",
    "x = OrderedDict(sorted(dict1.items()))\n",
    "print(x , end=\" \")"
   ]
  },
  {
   "cell_type": "code",
   "execution_count": 3,
   "metadata": {},
   "outputs": [
    {
     "name": "stdout",
     "output_type": "stream",
     "text": [
      "('a', 88) ('d', 42) ('l', 11) ('o', 89) ('p', 5) "
     ]
    }
   ],
   "source": [
    "key_value={'l':11,'o':89,'a':88,'d':42,'p':5}\n",
    "for i in sorted(key_value):\n",
    "    print((i , key_value[i]) , end=\" \")\n"
   ]
  },
  {
   "cell_type": "code",
   "execution_count": 4,
   "metadata": {},
   "outputs": [
    {
     "name": "stdout",
     "output_type": "stream",
     "text": [
      "('a', 88) ('d', 42) ('l', 11) ('o', 89) ('p', 5) "
     ]
    }
   ],
   "source": [
    "key_value={'l':11,'o':89,'a':88,'d':42,'p':5}\n",
    "for i in sorted(key_value):\n",
    "    print((i , key_value[i]) , end=\" \")"
   ]
  },
  {
   "cell_type": "code",
   "execution_count": 5,
   "metadata": {},
   "outputs": [
    {
     "data": {
      "text/plain": [
       "[('p', 5), ('l', 11), ('d', 42), ('a', 88), ('o', 89)]"
      ]
     },
     "execution_count": 5,
     "metadata": {},
     "output_type": "execute_result"
    }
   ],
   "source": [
    "def sort(dict1):\n",
    "    sorted_dict = sorted(dict1.items() , key=lambda x : x[1])\n",
    "    return sorted_dict\n",
    "sort({'l':11,'o':89,'a':88,'d':42,'p':5})"
   ]
  },
  {
   "cell_type": "code",
   "execution_count": 6,
   "metadata": {},
   "outputs": [
    {
     "data": {
      "text/plain": [
       "[('p', 5), ('l', 11), ('d', 42), ('a', 88), ('o', 89)]"
      ]
     },
     "execution_count": 6,
     "metadata": {},
     "output_type": "execute_result"
    }
   ],
   "source": [
    "def sort(dict1):\n",
    "    sorted_dict = sorted(dict1.items() , key=lambda x : x[1])\n",
    "    return sorted_dict\n",
    "sort({'l':11,'o':89,'a':88,'d':42,'p':5})"
   ]
  },
  {
   "cell_type": "code",
   "execution_count": 7,
   "metadata": {},
   "outputs": [
    {
     "name": "stdout",
     "output_type": "stream",
     "text": [
      "{'cc': 3, 'bb': 6, 'dd': 12, 'aa': 44}\n"
     ]
    }
   ],
   "source": [
    "dt = {'aa':44, 'bb':6, 'cc':3,'dd':12}\n",
    "sorted_dict = {i : j for i,j in sorted(dt.items() , key=lambda x : x[1])}\n",
    "print(sorted_dict)"
   ]
  },
  {
   "cell_type": "code",
   "execution_count": 8,
   "metadata": {},
   "outputs": [
    {
     "name": "stdout",
     "output_type": "stream",
     "text": [
      "{'cc': 3, 'bb': 6, 'dd': 12, 'aa': 44}\n"
     ]
    }
   ],
   "source": [
    "dt = {'aa':44, 'bb':6, 'cc':3,'dd':12}\n",
    "sorted_dict = {i : j for i , j in sorted(dt.items() , key=lambda x : x[1])}\n",
    "print(sorted_dict)"
   ]
  },
  {
   "cell_type": "code",
   "execution_count": 10,
   "metadata": {},
   "outputs": [
    {
     "data": {
      "text/plain": [
       "65"
      ]
     },
     "execution_count": 10,
     "metadata": {},
     "output_type": "execute_result"
    }
   ],
   "source": [
    "dt = {'aa':44, 'bb':6, 'cc':3,'dd':12}\n",
    "x = dt.values()\n",
    "sum(x)"
   ]
  },
  {
   "cell_type": "code",
   "execution_count": 12,
   "metadata": {},
   "outputs": [
    {
     "data": {
      "text/plain": [
       "['aa', 'bb', 'cc', 'dd']"
      ]
     },
     "execution_count": 12,
     "metadata": {},
     "output_type": "execute_result"
    }
   ],
   "source": [
    "dt = {'aa':44, 'bb':6, 'cc':3,'dd':12}\n",
    "y = dt.keys()\n",
    "x = sorted(y)\n",
    "x"
   ]
  },
  {
   "cell_type": "code",
   "execution_count": 13,
   "metadata": {},
   "outputs": [
    {
     "data": {
      "text/plain": [
       "65"
      ]
     },
     "execution_count": 13,
     "metadata": {},
     "output_type": "execute_result"
    }
   ],
   "source": [
    "dt = {'aa':44, 'bb':6, 'cc':3,'dd':12}\n",
    "x = dt.values()\n",
    "sum(x)"
   ]
  },
  {
   "cell_type": "code",
   "execution_count": 14,
   "metadata": {},
   "outputs": [
    {
     "data": {
      "text/plain": [
       "65"
      ]
     },
     "execution_count": 14,
     "metadata": {},
     "output_type": "execute_result"
    }
   ],
   "source": [
    "def return_sum(dict1):\n",
    "    list1 = []\n",
    "    for i in dict1:\n",
    "        list1.append(dict1[i])\n",
    "    final = sum(list1)\n",
    "\n",
    "    return final\n",
    "return_sum({'aa':44, 'bb':6, 'cc':3,'dd':12})"
   ]
  },
  {
   "cell_type": "code",
   "execution_count": 15,
   "metadata": {},
   "outputs": [
    {
     "data": {
      "text/plain": [
       "65"
      ]
     },
     "execution_count": 15,
     "metadata": {},
     "output_type": "execute_result"
    }
   ],
   "source": [
    "def return_sum(dict1):\n",
    "    list1 = []\n",
    "    for i in dict1:\n",
    "        list1.append(dict1[i])\n",
    "    final = sum(list1)\n",
    "\n",
    "    return final\n",
    "return_sum({'aa':44, 'bb':6, 'cc':3,'dd':12})"
   ]
  },
  {
   "cell_type": "code",
   "execution_count": 16,
   "metadata": {},
   "outputs": [
    {
     "data": {
      "text/plain": [
       "65"
      ]
     },
     "execution_count": 16,
     "metadata": {},
     "output_type": "execute_result"
    }
   ],
   "source": [
    "def return_sum(dict1):\n",
    "    sum1 = 0 \n",
    "    for i in dict1.values():\n",
    "        sum1 = sum1 + i\n",
    "    return sum1\n",
    "return_sum({'aa':44, 'bb':6, 'cc':3,'dd':12})"
   ]
  },
  {
   "cell_type": "code",
   "execution_count": 17,
   "metadata": {},
   "outputs": [
    {
     "data": {
      "text/plain": [
       "65"
      ]
     },
     "execution_count": 17,
     "metadata": {},
     "output_type": "execute_result"
    }
   ],
   "source": [
    "def return_sum(dict1):\n",
    "    sum1 = 0 \n",
    "    for i in dict1.values():\n",
    "        sum1 = sum1 + i \n",
    "\n",
    "    return sum1\n",
    "return_sum({'aa':44, 'bb':6, 'cc':3,'dd':12})"
   ]
  },
  {
   "cell_type": "code",
   "execution_count": 18,
   "metadata": {},
   "outputs": [
    {
     "data": {
      "text/plain": [
       "{'Arushi': 22, 'Haritha': 21}"
      ]
     },
     "execution_count": 18,
     "metadata": {},
     "output_type": "execute_result"
    }
   ],
   "source": [
    "test_dict = {\"Arushi\": 22, \"Mani\": 21, \"Haritha\": 21}\n",
    "del test_dict[\"Mani\"]\n",
    "test_dict"
   ]
  },
  {
   "cell_type": "code",
   "execution_count": 19,
   "metadata": {},
   "outputs": [
    {
     "data": {
      "text/plain": [
       "{'Arushi': 22, 'Haritha': 21}"
      ]
     },
     "execution_count": 19,
     "metadata": {},
     "output_type": "execute_result"
    }
   ],
   "source": [
    "test_dict"
   ]
  },
  {
   "cell_type": "code",
   "execution_count": 20,
   "metadata": {},
   "outputs": [
    {
     "data": {
      "text/plain": [
       "{'Arushi': 22}"
      ]
     },
     "execution_count": 20,
     "metadata": {},
     "output_type": "execute_result"
    }
   ],
   "source": [
    "del test_dict[\"Haritha\"]\n",
    "test_dict"
   ]
  },
  {
   "cell_type": "code",
   "execution_count": 21,
   "metadata": {},
   "outputs": [],
   "source": [
    "del test_dict"
   ]
  },
  {
   "cell_type": "code",
   "execution_count": 22,
   "metadata": {},
   "outputs": [
    {
     "ename": "NameError",
     "evalue": "name 'test_dict' is not defined",
     "output_type": "error",
     "traceback": [
      "\u001b[1;31m---------------------------------------------------------------------------\u001b[0m",
      "\u001b[1;31mNameError\u001b[0m                                 Traceback (most recent call last)",
      "Cell \u001b[1;32mIn[22], line 1\u001b[0m\n\u001b[1;32m----> 1\u001b[0m \u001b[43mtest_dict\u001b[49m\n",
      "\u001b[1;31mNameError\u001b[0m: name 'test_dict' is not defined"
     ]
    }
   ],
   "source": [
    "test_dict"
   ]
  },
  {
   "cell_type": "code",
   "execution_count": 25,
   "metadata": {},
   "outputs": [
    {
     "data": {
      "text/plain": [
       "21"
      ]
     },
     "execution_count": 25,
     "metadata": {},
     "output_type": "execute_result"
    }
   ],
   "source": [
    "test_dict = {\"Arushi\": 22, \"Mani\": 21, \"Haritha\": 21}\n",
    "test_dict.pop(\"Mani\")"
   ]
  },
  {
   "cell_type": "code",
   "execution_count": 26,
   "metadata": {},
   "outputs": [
    {
     "data": {
      "text/plain": [
       "{'Arushi': 22, 'Haritha': 21}"
      ]
     },
     "execution_count": 26,
     "metadata": {},
     "output_type": "execute_result"
    }
   ],
   "source": [
    "test_dict"
   ]
  },
  {
   "cell_type": "code",
   "execution_count": 27,
   "metadata": {},
   "outputs": [
    {
     "data": {
      "text/plain": [
       "22"
      ]
     },
     "execution_count": 27,
     "metadata": {},
     "output_type": "execute_result"
    }
   ],
   "source": [
    "test_dict.pop(\"Arushi\")"
   ]
  },
  {
   "cell_type": "code",
   "execution_count": 28,
   "metadata": {},
   "outputs": [
    {
     "data": {
      "text/plain": [
       "{'Arushi': 22,\n",
       " 'Mani': 21,\n",
       " 'Haritha': 21,\n",
       " 'Leena': 32,\n",
       " 'aa': 44,\n",
       " 'bb': 6,\n",
       " 'cc': 3,\n",
       " 'dd': 12}"
      ]
     },
     "execution_count": 28,
     "metadata": {},
     "output_type": "execute_result"
    }
   ],
   "source": [
    "d1= {\"Arushi\": 22, \"Mani\": 21, \"Haritha\": 21,'Leena':32}\n",
    "d2={'aa':44, 'bb':6, 'cc':3,'dd':12}\n",
    "x = {**d1 , **d2}\n",
    "x"
   ]
  },
  {
   "cell_type": "code",
   "execution_count": 29,
   "metadata": {},
   "outputs": [
    {
     "data": {
      "text/plain": [
       "{'aa': 44,\n",
       " 'bb': 6,\n",
       " 'cc': 3,\n",
       " 'dd': 12,\n",
       " 'Arushi': 22,\n",
       " 'Mani': 21,\n",
       " 'Haritha': 21,\n",
       " 'Leena': 32}"
      ]
     },
     "execution_count": 29,
     "metadata": {},
     "output_type": "execute_result"
    }
   ],
   "source": [
    "d1= {\"Arushi\": 22, \"Mani\": 21, \"Haritha\": 21,'Leena':32}\n",
    "d2={'aa':44, 'bb':6, 'cc':3,'dd':12}\n",
    "x = {**d2 , **d1}\n",
    "x"
   ]
  },
  {
   "cell_type": "code",
   "execution_count": 30,
   "metadata": {},
   "outputs": [
    {
     "data": {
      "text/plain": [
       "{'Arushi': 22,\n",
       " 'Mani': 21,\n",
       " 'Haritha': 21,\n",
       " 'Leena': 32,\n",
       " 'aa': 44,\n",
       " 'bb': 6,\n",
       " 'cc': 3,\n",
       " 'dd': 12}"
      ]
     },
     "execution_count": 30,
     "metadata": {},
     "output_type": "execute_result"
    }
   ],
   "source": [
    "d1= {\"Arushi\": 22, \"Mani\": 21, \"Haritha\": 21,'Leena':32}\n",
    "d2={'aa':44, 'bb':6, 'cc':3,'dd':12}\n",
    "d1.update(d2)\n",
    "d1"
   ]
  },
  {
   "cell_type": "code",
   "execution_count": 31,
   "metadata": {},
   "outputs": [
    {
     "data": {
      "text/plain": [
       "{'aa': 44,\n",
       " 'bb': 6,\n",
       " 'cc': 3,\n",
       " 'dd': 12,\n",
       " 'Arushi': 22,\n",
       " 'Mani': 21,\n",
       " 'Haritha': 21,\n",
       " 'Leena': 32}"
      ]
     },
     "execution_count": 31,
     "metadata": {},
     "output_type": "execute_result"
    }
   ],
   "source": [
    "d2.update(d1)\n",
    "d2"
   ]
  },
  {
   "cell_type": "code",
   "execution_count": 32,
   "metadata": {},
   "outputs": [
    {
     "name": "stdout",
     "output_type": "stream",
     "text": [
      "Percentage recieved by the student is : 80.0\n",
      "Grade recieved by the student is : A\n"
     ]
    }
   ],
   "source": [
    "def cal(percent):\n",
    "    if percent >= 90:\n",
    "        return \"A+\"\n",
    "    if 80 <= percent < 90:\n",
    "        return \"A\"\n",
    "    if 70 <= percent < 80:\n",
    "        return \"B\"\n",
    "    if 60 <= percent < 70:\n",
    "        return \"C\"\n",
    "    if 50 <= percent < 60:\n",
    "        return \"D\"\n",
    "    else:\n",
    "        return \"Fail\"\n",
    "    \n",
    "def main():\n",
    "    total_marks = 0 \n",
    "    no_of_subjects = int(input(\"Enter the number of subjects:\"))\n",
    "\n",
    "    for i in range(no_of_subjects):\n",
    "        marks = eval(input(\"Enter the marks of the subject:\"))\n",
    "        total_marks += marks\n",
    "\n",
    "    average_percent = total_marks / no_of_subjects\n",
    "    grade = cal(average_percent)\n",
    "    print(f\"Percentage recieved by the student is : {average_percent}\")\n",
    "    print(f\"Grade recieved by the student is : {grade}\")\n",
    "\n",
    "if __name__ == \"__main__\":\n",
    "    main()"
   ]
  },
  {
   "cell_type": "code",
   "execution_count": 33,
   "metadata": {},
   "outputs": [
    {
     "name": "stdout",
     "output_type": "stream",
     "text": [
      "Percentage recieved by the student:71.25\n",
      "Grade recieved by the subject : B\n"
     ]
    }
   ],
   "source": [
    "def cal(percent):\n",
    "    if percent >= 90:\n",
    "        return \"A+\"\n",
    "    if 80 <= percent < 90:\n",
    "        return \"A\"\n",
    "    if 70 <= percent < 80:\n",
    "        return \"B\"\n",
    "    if 60 <= percent < 70:\n",
    "        return \"C\"\n",
    "    if 50 <= percent < 60:\n",
    "        return \"D\"\n",
    "    else:\n",
    "        return \"Fail\"\n",
    "def main():\n",
    "    total_marks = 0\n",
    "    no_of_subjects = int(input(\"Enter the number of subjects:\"))\n",
    "\n",
    "    for i in range(no_of_subjects):\n",
    "        marks = eval(input(\"Enter the mark for the subject:\"))\n",
    "        total_marks = total_marks + marks\n",
    "\n",
    "    average_percent = total_marks / no_of_subjects\n",
    "    grade = cal(average_percent)\n",
    "    print(f\"Percentage recieved by the student:{average_percent}\")\n",
    "    print(f\"Grade recieved by the subject : {grade}\")\n",
    "\n",
    "if __name__ == \"__main__\":\n",
    "    main()"
   ]
  },
  {
   "cell_type": "code",
   "execution_count": 34,
   "metadata": {},
   "outputs": [
    {
     "name": "stdout",
     "output_type": "stream",
     "text": [
      "Anagram groups:\n",
      "['listen', 'silent', 'enlist']\n",
      "['hello']\n",
      "['world']\n",
      "['act', 'cat']\n",
      "['dog', 'god']\n"
     ]
    }
   ],
   "source": [
    "def group_anagrams(words):\n",
    "    anagram_dict = {}\n",
    "    for word in words:\n",
    "        sorted_word = \" \".join(sorted(word))\n",
    "        if sorted_word in anagram_dict:\n",
    "            anagram_dict[sorted_word].append(word)\n",
    "        else:\n",
    "            anagram_dict[sorted_word] = [word]\n",
    "\n",
    "    return anagram_dict.values()\n",
    "\n",
    "def main():\n",
    "    words = [\"listen\", \"silent\", \"enlist\", \"hello\", \"world\", \"act\", \"cat\", \"dog\", \"god\"]\n",
    "\n",
    "    anagram_groups = group_anagrams(words)\n",
    "\n",
    "    print(\"Anagram groups:\")\n",
    "    for group in anagram_groups:\n",
    "        print(group)\n",
    "\n",
    "if __name__ == \"__main__\":\n",
    "    main()"
   ]
  },
  {
   "cell_type": "code",
   "execution_count": 35,
   "metadata": {},
   "outputs": [
    {
     "name": "stdout",
     "output_type": "stream",
     "text": [
      "Anagram groups:\n",
      "['listen', 'silent', 'enlist']\n",
      "['hello']\n",
      "['world']\n",
      "['act', 'cat']\n",
      "['dog', 'god']\n"
     ]
    }
   ],
   "source": [
    "def group_anagrams(words):\n",
    "    anagram_dict = {}\n",
    "\n",
    "    for word in words:\n",
    "        sorted_word = \" \".join(sorted(word))\n",
    "        if sorted_word in anagram_dict:\n",
    "            anagram_dict[sorted_word].append(word)\n",
    "        else:\n",
    "            anagram_dict[sorted_word] = [word]\n",
    "    return anagram_dict.values()\n",
    "\n",
    "def main():\n",
    "    words = [\"listen\", \"silent\", \"enlist\", \"hello\", \"world\", \"act\", \"cat\", \"dog\", \"god\"]\n",
    "\n",
    "    anagram_groups = group_anagrams(words)\n",
    "\n",
    "    print(\"Anagram groups:\")\n",
    "\n",
    "    for i in anagram_groups:\n",
    "        print(i)\n",
    "\n",
    "if __name__ == \"__main__\":\n",
    "    main()"
   ]
  },
  {
   "cell_type": "code",
   "execution_count": 36,
   "metadata": {},
   "outputs": [
    {
     "name": "stdout",
     "output_type": "stream",
     "text": [
      "Anagram Groups:\n",
      "['listen', 'silent', 'enlist']\n",
      "['hello']\n",
      "['world']\n",
      "['act', 'cat']\n",
      "['dog', 'god']\n"
     ]
    }
   ],
   "source": [
    "def group_anagrams(words):\n",
    "\n",
    "    anagram_dict = {}\n",
    "    for word in words:\n",
    "        sorted_word = \" \".join(sorted(word))\n",
    "        if sorted_word in anagram_dict:\n",
    "            anagram_dict[sorted_word].append(word)\n",
    "        else:\n",
    "            anagram_dict[sorted_word] = [word]\n",
    "\n",
    "    return anagram_dict.values()\n",
    "\n",
    "def main():\n",
    "\n",
    "    words = [\"listen\", \"silent\", \"enlist\", \"hello\", \"world\", \"act\", \"cat\", \"dog\", \"god\"]\n",
    "\n",
    "    anagram_groups = group_anagrams(words)\n",
    "\n",
    "    print(\"Anagram Groups:\")\n",
    "    for i in anagram_groups:\n",
    "        print(i)\n",
    "\n",
    "if __name__ == \"__main__\":\n",
    "    main()"
   ]
  },
  {
   "cell_type": "code",
   "execution_count": 38,
   "metadata": {},
   "outputs": [
    {
     "name": "stdout",
     "output_type": "stream",
     "text": [
      "The binary representation of 10 and 20 are not anagrams\n"
     ]
    }
   ],
   "source": [
    "def check_bin(num1 , num2):\n",
    "    binary_num1 = bin(num1)[2:]\n",
    "    binary_num2 = bin(num2)[2:]\n",
    "\n",
    "    return sorted(binary_num1) == sorted(binary_num2)\n",
    "\n",
    "num1 = 10 \n",
    "num2 = 20 \n",
    "if check_bin(num1 , num2):\n",
    "    print(f\"The binary representation of {num1} and {num2} are anagrams\")\n",
    "else:\n",
    "    print(f\"The binary representation of {num1} and {num2} are not anagrams\")\n"
   ]
  },
  {
   "cell_type": "code",
   "execution_count": 39,
   "metadata": {},
   "outputs": [
    {
     "name": "stdout",
     "output_type": "stream",
     "text": [
      "The Binary representation of 20 and 25 are not anagrams\n"
     ]
    }
   ],
   "source": [
    "def check_bin(num1 , num2):\n",
    "    binary_num1 = bin(num1)[2:]\n",
    "    binary_num2 = bin(num2)[2:]\n",
    "\n",
    "    return sorted(binary_num1) == sorted(binary_num2)\n",
    "\n",
    "num1 = 20 \n",
    "num2 = 25\n",
    "if check_bin(num1 , num2):\n",
    "    print(f\"The Binary representation of {num1} and {num2} are anagrams.\")\n",
    "else:\n",
    "    print(f\"The Binary representation of {num1} and {num2} are not anagrams\")"
   ]
  },
  {
   "cell_type": "code",
   "execution_count": 40,
   "metadata": {},
   "outputs": [
    {
     "name": "stdout",
     "output_type": "stream",
     "text": [
      "The Binary representation of 20 and 20 are anagrams\n"
     ]
    }
   ],
   "source": [
    "def check_bin(num1 , num2):\n",
    "    binary_num1 = bin(num1)[2:]\n",
    "    binary_num2 = bin(num2)[2:]\n",
    "\n",
    "    return sorted(binary_num1) == sorted(binary_num2)\n",
    "num1 = 20 \n",
    "num2 = 20 \n",
    "if check_bin(num1 , num2):\n",
    "    print(f\"The Binary representation of {num1} and {num2} are anagrams\")\n",
    "else:\n",
    "    print(f\"The Binary representation of {num1} and {num2} are not anagrams\")"
   ]
  },
  {
   "cell_type": "code",
   "execution_count": 41,
   "metadata": {},
   "outputs": [
    {
     "name": "stdout",
     "output_type": "stream",
     "text": [
      "Size of the largest anagram subset: 3\n",
      "Largest anagram groups: [['cat', 'tac', 'act']]\n"
     ]
    }
   ],
   "source": [
    "from collections import defaultdict\n",
    "from collections import Counter\n",
    "words = [\"cat\" , \"dog\" , \"tac\" , \"god\" ,\"act\"]\n",
    "anagram_groups = defaultdict(list)\n",
    "\n",
    "for i in words:\n",
    "    tuple_sorted = tuple(sorted((Counter(i).items())))\n",
    "    anagram_groups[tuple_sorted].append(i)\n",
    "\n",
    "max_size = max([len(i) for i in anagram_groups.values()])\n",
    "max_anagram = [i for i in anagram_groups.values() if len(i) == max_size]\n",
    "\n",
    "print(\"Size of the largest anagram subset:\",max_size)\n",
    "print(\"Largest anagram groups:\",max_anagram)\n"
   ]
  },
  {
   "cell_type": "code",
   "execution_count": 42,
   "metadata": {},
   "outputs": [
    {
     "name": "stdout",
     "output_type": "stream",
     "text": [
      "Size of the largest anagram subset: 3\n",
      "Largest anagram group(s): [['cat', 'tac', 'act']]\n"
     ]
    }
   ],
   "source": [
    "from collections import defaultdict\n",
    "from collections import Counter\n",
    "words = [\"cat\" , \"dog\" , \"tac\" , \"god\" , \"act\"]\n",
    "\n",
    "anagram_groups = defaultdict(list)\n",
    "\n",
    "for i in words:\n",
    "    tuple_sorted = tuple(sorted((Counter(i).items())))\n",
    "    anagram_groups[tuple_sorted].append(i)\n",
    "\n",
    "max_size = max([len(i) for i in anagram_groups.values()])\n",
    "max_anagram = [i for i in anagram_groups.values() if len(i) == max_size]\n",
    "\n",
    "print(\"Size of the largest anagram subset:\",max_size)\n",
    "print(\"Largest anagram group(s):\",max_anagram)\n"
   ]
  },
  {
   "cell_type": "code",
   "execution_count": 43,
   "metadata": {},
   "outputs": [
    {
     "name": "stdout",
     "output_type": "stream",
     "text": [
      "Size of the largest anagram subset: 3\n",
      "Largest anagram group(s): [['cat', 'tac', 'act']]\n"
     ]
    }
   ],
   "source": [
    "from collections import defaultdict,Counter\n",
    "words = [\"cat\", \"dog\", \"tac\", \"god\", \"act\"]\n",
    "anagram_groups = defaultdict(list)\n",
    "for i in words:\n",
    "    tuple_sorted = tuple(sorted((Counter(i).items())))\n",
    "    anagram_groups[tuple_sorted].append(i)\n",
    "\n",
    "max_size = max([len(i) for i in anagram_groups.values()])\n",
    "max_anagram = [i for i in anagram_groups.values() if len(i) == max_size]\n",
    "\n",
    "print(\"Size of the largest anagram subset:\",max_size)\n",
    "print(\"Largest anagram group(s):\",max_anagram)"
   ]
  },
  {
   "cell_type": "code",
   "execution_count": 44,
   "metadata": {},
   "outputs": [
    {
     "name": "stdout",
     "output_type": "stream",
     "text": [
      "Mirror characters: {'h', 's'}\n"
     ]
    }
   ],
   "source": [
    "def find_mirror_charcters(input_string):\n",
    "    mirror_dict = {'a': 'z', 'b': 'y', 'c': 'x', 'd': 'w', 'e': 'v',\n",
    "                   'f': 'u', 'g': 't', 'h': 's', 'i': 'r', 'j': 'q',\n",
    "                   'k': 'p', 'l': 'o', 'm': 'n', 'n': 'm', 'o': 'l',\n",
    "                   'p': 'k', 'q': 'j', 'r': 'i', 's': 'h', 't': 'g',\n",
    "                   'u': 'f', 'v': 'e', 'w': 'd', 'x': 'c', 'y': 'b', 'z': 'a'}\n",
    "    mirror_charcacters = set()\n",
    "\n",
    "    for char in input_string:\n",
    "        mirror_char = mirror_dict.get(char.lower() , None)\n",
    "        if mirror_char and mirror_char in input_string.lower():\n",
    "            mirror_charcacters.add(char.lower())\n",
    "    return mirror_charcacters\n",
    "# Example \n",
    "input_string = \"Abhishek\"\n",
    "result = find_mirror_charcters(input_string)\n",
    "print(\"Mirror characters:\",result)"
   ]
  },
  {
   "cell_type": "code",
   "execution_count": 45,
   "metadata": {},
   "outputs": [
    {
     "name": "stdout",
     "output_type": "stream",
     "text": [
      "Mirror characters: set()\n"
     ]
    }
   ],
   "source": [
    "def find_mirror_charcters(input_string):\n",
    "    mirror_dict = {'a': 'z', 'b': 'y', 'c': 'x', 'd': 'w', 'e': 'v',\n",
    "                   'f': 'u', 'g': 't', 'h': 's', 'i': 'r', 'j': 'q',\n",
    "                   'k': 'p', 'l': 'o', 'm': 'n', 'n': 'm', 'o': 'l',\n",
    "                   'p': 'k', 'q': 'j', 'r': 'i', 's': 'h', 't': 'g',\n",
    "                   'u': 'f', 'v': 'e', 'w': 'd', 'x': 'c', 'y': 'b', 'z': 'a'}\n",
    "    mirror_characters = set()\n",
    "    for char in input_string:\n",
    "        mirror_char = mirror_dict.get(char.lower(), None)\n",
    "        if mirror_char and mirror_char in input_string.lower():\n",
    "            mirror_characters.add(char.lower())\n",
    "    return mirror_characters\n",
    "\n",
    "# Example usage \n",
    "input_string = \"Wakchuare\"\n",
    "result = find_mirror_charcters(input_string)\n",
    "print(\"Mirror characters:\",result)"
   ]
  },
  {
   "cell_type": "code",
   "execution_count": 47,
   "metadata": {},
   "outputs": [
    {
     "name": "stdout",
     "output_type": "stream",
     "text": [
      "1 : 5\n",
      "5 : 2\n",
      "3 : 3\n",
      "4 : 3\n",
      "2 : 4\n"
     ]
    }
   ],
   "source": [
    "def count_freq(list1):\n",
    "    freq = {}\n",
    "\n",
    "    for i in list1:\n",
    "        if i in freq:\n",
    "            freq[i] += 1\n",
    "        else:\n",
    "            freq[i] = 1\n",
    "\n",
    "    for key , values in freq.items():\n",
    "        print(\"%d : %d\" % (key , values))\n",
    "\n",
    "result = count_freq([1, 1, 1, 5, 5, 3, 1, 3, 3, 1,4, 4, 4, 2, 2, 2, 2])\n",
    "result"
   ]
  },
  {
   "cell_type": "code",
   "execution_count": 48,
   "metadata": {},
   "outputs": [
    {
     "name": "stdout",
     "output_type": "stream",
     "text": [
      "1 : 5\n",
      "5 : 2\n",
      "3 : 3\n",
      "4 : 3\n",
      "2 : 4\n"
     ]
    }
   ],
   "source": [
    "def count_freq(list1):\n",
    "    freq = {}\n",
    "\n",
    "    for i in list1:\n",
    "        if i in freq:\n",
    "            freq[i] += 1\n",
    "        else:\n",
    "            freq[i] = 1\n",
    "\n",
    "    for key , values in freq.items():\n",
    "        print(\"%d : %d\" % (key , values))\n",
    "result = count_freq([1, 1, 1, 5, 5, 3, 1, 3, 3, 1,4, 4, 4, 2, 2, 2, 2])\n",
    "result"
   ]
  },
  {
   "cell_type": "code",
   "execution_count": 49,
   "metadata": {},
   "outputs": [
    {
     "name": "stdout",
     "output_type": "stream",
     "text": [
      "1 : 5\n",
      "5 : 2\n",
      "3 : 3\n",
      "4 : 3\n",
      "2 : 4\n"
     ]
    }
   ],
   "source": [
    "def count_freq(list1):\n",
    "    freq = {}\n",
    "    \n",
    "    for i in list1:\n",
    "        if i in freq:\n",
    "            freq[i] += 1\n",
    "        else:\n",
    "            freq[i] = 1\n",
    "\n",
    "    for key , values in freq.items():\n",
    "        print(\"%d : %d\" % (key , values))\n",
    "\n",
    "result = count_freq([1, 1, 1, 5, 5, 3, 1, 3, 3, 1,4, 4, 4, 2, 2, 2, 2])\n",
    "result"
   ]
  },
  {
   "cell_type": "code",
   "execution_count": 50,
   "metadata": {},
   "outputs": [
    {
     "name": "stdout",
     "output_type": "stream",
     "text": [
      "{'akash': 10, 'gaurav': 12, 'anand': 14, 'suraj': 20, 'akhil': 25, 'ashish': 30}\n"
     ]
    }
   ],
   "source": [
    "tups = [(\"akash\", 10), (\"gaurav\", 12), (\"anand\", 14), \n",
    "    (\"suraj\", 20), (\"akhil\", 25), (\"ashish\", 30)]\n",
    "dict1 = {}\n",
    "for key , values in tups:\n",
    "    dict1[key] = values\n",
    "\n",
    "print(dict1)"
   ]
  },
  {
   "cell_type": "code",
   "execution_count": 51,
   "metadata": {},
   "outputs": [
    {
     "name": "stdout",
     "output_type": "stream",
     "text": [
      "{'akash': 10, 'gaurav': 12, 'anand': 14, 'suraj': 20, 'akhil': 25, 'ashish': 30}\n"
     ]
    }
   ],
   "source": [
    "tups = [(\"akash\", 10), (\"gaurav\", 12), (\"anand\", 14), \n",
    "    (\"suraj\", 20), (\"akhil\", 25), (\"ashish\", 30)]\n",
    "dict1 = {}\n",
    "for key , values in tups:\n",
    "    dict1[key] = values\n",
    "\n",
    "print(dict1)"
   ]
  },
  {
   "cell_type": "code",
   "execution_count": 52,
   "metadata": {},
   "outputs": [
    {
     "name": "stdout",
     "output_type": "stream",
     "text": [
      "{'akash': 10, 'gaurav': 12, 'anand': 14, 'suraj': 20, 'akhil': 25, 'ashish': 30}\n"
     ]
    }
   ],
   "source": [
    "tups = [(\"akash\", 10), (\"gaurav\", 12), (\"anand\", 14), \n",
    "    (\"suraj\", 20), (\"akhil\", 25), (\"ashish\", 30)]\n",
    "dict1 = {}\n",
    "for key , values in tups:\n",
    "    dict1[key] = values\n",
    "\n",
    "print(dict1)"
   ]
  },
  {
   "cell_type": "code",
   "execution_count": 53,
   "metadata": {},
   "outputs": [
    {
     "data": {
      "text/plain": [
       "[(2, 8), (3, 27), (4, 64), (5, 125), (6, 216)]"
      ]
     },
     "execution_count": 53,
     "metadata": {},
     "output_type": "execute_result"
    }
   ],
   "source": [
    "numbers = [2,3,4,5,6]\n",
    "tuple_list = [(num , num**3) for num in numbers]\n",
    "tuple_list"
   ]
  },
  {
   "cell_type": "code",
   "execution_count": 54,
   "metadata": {},
   "outputs": [
    {
     "data": {
      "text/plain": [
       "[(2, 8), (3, 27), (4, 64), (5, 125), (6, 216)]"
      ]
     },
     "execution_count": 54,
     "metadata": {},
     "output_type": "execute_result"
    }
   ],
   "source": [
    "numbers = [2,3,4,5,6]\n",
    "tuple_list = [(num , num**3) for num in numbers]\n",
    "tuple_list"
   ]
  },
  {
   "cell_type": "code",
   "execution_count": 55,
   "metadata": {},
   "outputs": [
    {
     "data": {
      "text/plain": [
       "[(2, 8), (3, 27), (4, 64), (5, 125), (6, 216)]"
      ]
     },
     "execution_count": 55,
     "metadata": {},
     "output_type": "execute_result"
    }
   ],
   "source": [
    "numbers = [2,3,4,5,6]\n",
    "tuple_list = [(num , num**3) for num in numbers]\n",
    "tuple_list"
   ]
  },
  {
   "cell_type": "code",
   "execution_count": 56,
   "metadata": {},
   "outputs": [
    {
     "data": {
      "text/plain": [
       "[(1, 1), (2, 8), (3, 27), (4, 64), (5, 125)]"
      ]
     },
     "execution_count": 56,
     "metadata": {},
     "output_type": "execute_result"
    }
   ],
   "source": [
    "tuples_list = [(2, 8), (3, 27), (1, 1), (5, 125), (4, 64)]\n",
    "\n",
    "sorted_tuples = sorted(tuples_list , key=lambda x : x[1])\n",
    "sorted_tuples"
   ]
  },
  {
   "cell_type": "code",
   "execution_count": 57,
   "metadata": {},
   "outputs": [
    {
     "data": {
      "text/plain": [
       "[(1, 1), (2, 8), (3, 27), (4, 64), (5, 125)]"
      ]
     },
     "execution_count": 57,
     "metadata": {},
     "output_type": "execute_result"
    }
   ],
   "source": [
    "tuples_list = [(2, 8), (3, 27), (1, 1), (5, 125), (4, 64)]\n",
    "sorted_tuples = sorted(tuples_list , key=lambda x : x[1])\n",
    "sorted_tuples"
   ]
  },
  {
   "cell_type": "code",
   "execution_count": 58,
   "metadata": {},
   "outputs": [],
   "source": [
    "def fact(n):\n",
    "    fact = 1 \n",
    "    for i in range(1 , n+1):\n",
    "        fact = fact * i \n",
    "    return fact\n",
    "\n"
   ]
  },
  {
   "cell_type": "code",
   "execution_count": 60,
   "metadata": {},
   "outputs": [
    {
     "data": {
      "text/plain": [
       "3628800"
      ]
     },
     "execution_count": 60,
     "metadata": {},
     "output_type": "execute_result"
    }
   ],
   "source": [
    "def fact(n):\n",
    "    fact = 1 \n",
    "    for i in range(1 , n+1):\n",
    "        fact = fact * i\n",
    "    return fact\n",
    "fact(10)"
   ]
  },
  {
   "cell_type": "code",
   "execution_count": 61,
   "metadata": {},
   "outputs": [
    {
     "data": {
      "text/plain": [
       "120"
      ]
     },
     "execution_count": 61,
     "metadata": {},
     "output_type": "execute_result"
    }
   ],
   "source": [
    "def fact(n):\n",
    "    fact = 1 \n",
    "    for i in range(1 , n+1):\n",
    "        fact = fact * i\n",
    "    return fact\n",
    "fact(5)"
   ]
  },
  {
   "cell_type": "code",
   "execution_count": 64,
   "metadata": {},
   "outputs": [
    {
     "name": "stdout",
     "output_type": "stream",
     "text": [
      "[3, 5]\n",
      "Sum of Odd factors of a number: 8\n"
     ]
    }
   ],
   "source": [
    "n = 15\n",
    "m = []\n",
    "for i in range(2 , n):\n",
    "    if n%i==0:\n",
    "        if i%2!=0:\n",
    "            m.append(i)\n",
    "print(m)\n",
    "sum1 = 0 \n",
    "for i in m:\n",
    "    sum1 = sum1 + i \n",
    "print(\"Sum of Odd factors of a number:\",sum1)"
   ]
  },
  {
   "cell_type": "code",
   "execution_count": 65,
   "metadata": {},
   "outputs": [
    {
     "name": "stdout",
     "output_type": "stream",
     "text": [
      "[3, 7]\n",
      "Sum of Odd factors of a number: 10\n"
     ]
    }
   ],
   "source": [
    "n = 21\n",
    "m = []\n",
    "for i in range(2 , n):\n",
    "    if n%i==0:\n",
    "        if i%2!=0:\n",
    "            m.append(i)\n",
    "print(m)\n",
    "sum1 = 0 \n",
    "for i in m:\n",
    "    sum1 = sum1 + i \n",
    "print(\"Sum of Odd factors of a number:\",sum1)"
   ]
  },
  {
   "cell_type": "code",
   "execution_count": 66,
   "metadata": {},
   "outputs": [
    {
     "name": "stdout",
     "output_type": "stream",
     "text": [
      "[3, 11]\n",
      "SUm of Odd factors of a number: 14\n"
     ]
    }
   ],
   "source": [
    "n = 33\n",
    "m = []\n",
    "for i in range(2 , n):\n",
    "    if n%i==0:\n",
    "        if i%2!=0:\n",
    "            m.append(i)\n",
    "\n",
    "print(m)\n",
    "sum1 = 0 \n",
    "for i in m:\n",
    "    sum1 = sum1 + i\n",
    "print(\"SUm of Odd factors of a number:\",sum1)"
   ]
  },
  {
   "cell_type": "code",
   "execution_count": 67,
   "metadata": {},
   "outputs": [
    {
     "name": "stdout",
     "output_type": "stream",
     "text": [
      "Warehouse Inventory Report:\n",
      "Item       Quantity  \n",
      "--------------------\n",
      "Item1      5         \n",
      "Item2      0         \n",
      "Item3      40        \n"
     ]
    }
   ],
   "source": [
    "def generate_inventory_report(transaction_log):\n",
    "    inventory = {}\n",
    "\n",
    "    # Process each line in the transaction log\n",
    "    for line in transaction_log.strip().split('\\n'):\n",
    "        item, quantity = line.split()\n",
    "        quantity = int(quantity)\n",
    "\n",
    "        # Update the inventory based on the transaction\n",
    "        if item in inventory:\n",
    "            inventory[item] += quantity\n",
    "        else:\n",
    "            inventory[item] = quantity\n",
    "\n",
    "    # Print the inventory report\n",
    "    print(\"Warehouse Inventory Report:\")\n",
    "    print(\"{:<10} {:<10}\".format(\"Item\", \"Quantity\"))\n",
    "    print(\"-\" * 20)\n",
    "    for item, quantity in inventory.items():\n",
    "        print(\"{:<10} {:<10}\".format(item, quantity))\n",
    "\n",
    "# Example usage with the provided transaction log\n",
    "transaction_log = \"\"\"\n",
    "Item1   10  \n",
    "Item2    1    \n",
    "Item1   -5          \n",
    "Item3   40        \n",
    "Item2   -1      \n",
    "\"\"\"\n",
    "\n",
    "generate_inventory_report(transaction_log)\n"
   ]
  },
  {
   "cell_type": "code",
   "execution_count": 68,
   "metadata": {},
   "outputs": [
    {
     "name": "stdout",
     "output_type": "stream",
     "text": [
      "Divisors of 12 are: [1, 2, 3, 4, 6]\n",
      "Odd divisors of 12 are: [1, 3]\n"
     ]
    }
   ],
   "source": [
    "n = 12 \n",
    "m = []\n",
    "n1 = []\n",
    "for i in range(1,12):\n",
    "    if n%i==0:\n",
    "        m.append(i)\n",
    "        if i%2!=0:\n",
    "            n1.append(i)\n",
    "print(f\"Divisors of {n} are:\",m)\n",
    "print(f\"Odd divisors of {n} are:\",n1)"
   ]
  },
  {
   "cell_type": "code",
   "execution_count": 70,
   "metadata": {},
   "outputs": [
    {
     "name": "stdout",
     "output_type": "stream",
     "text": [
      "Divisors of 15 are: [1, 3, 5]\n",
      "Odd divisors of 15 are: [1, 3, 5]\n"
     ]
    }
   ],
   "source": [
    "n = 15 \n",
    "m = []\n",
    "n1 = []\n",
    "for i in range(1,15):\n",
    "    if n%i==0:\n",
    "        m.append(i)\n",
    "        if i%2!=0:\n",
    "            n1.append(i)\n",
    "print(f\"Divisors of {n} are:\",m)\n",
    "print(f\"Odd divisors of {n} are:\",n1)"
   ]
  },
  {
   "cell_type": "code",
   "execution_count": 72,
   "metadata": {},
   "outputs": [
    {
     "name": "stdout",
     "output_type": "stream",
     "text": [
      "Divisors of 18 are: [1, 2, 3, 6, 9]\n",
      "Odd divisors of 18 are: [1, 3, 9]\n"
     ]
    }
   ],
   "source": [
    "n = 18 \n",
    "m = []\n",
    "n1 = []\n",
    "for i in range(1,18):\n",
    "    if n%i==0:\n",
    "        m.append(i)\n",
    "        if i%2!=0:\n",
    "            n1.append(i)\n",
    "print(f\"Divisors of {n} are:\",m)\n",
    "print(f\"Odd divisors of {n} are:\",n1)"
   ]
  },
  {
   "cell_type": "code",
   "execution_count": 74,
   "metadata": {},
   "outputs": [
    {
     "name": "stdout",
     "output_type": "stream",
     "text": [
      "Divisors of 10 are: [1, 2, 5]\n",
      "Divisors of 20 are: [1, 2, 4, 5, 10]\n",
      "Common divisors of 10 and 20 are: {1, 2, 5}\n"
     ]
    }
   ],
   "source": [
    "m1 = []\n",
    "m2 = []\n",
    "n1 = int(input(\"Enter Number 1 :\"))\n",
    "for i in range(1,n1):\n",
    "    if n1%i==0:\n",
    "        m1.append(i)\n",
    "print(f\"Divisors of {n1} are:\",m1)\n",
    "\n",
    "n2 = int(input(\"Enter Number 2 :\"))\n",
    "for i in range(1,n2):\n",
    "    if n2%i==0:\n",
    "        m2.append(i)\n",
    "print(f\"Divisors of {n2} are:\",m2)\n",
    "\n",
    "common_divisors = set(m1) & set(m2)\n",
    "print(f\"Common divisors of {n1} and {n2} are:\",common_divisors)"
   ]
  },
  {
   "cell_type": "code",
   "execution_count": 75,
   "metadata": {},
   "outputs": [
    {
     "name": "stdout",
     "output_type": "stream",
     "text": [
      "Divisors of 12 are : [1, 2, 3, 4, 6]\n",
      "Divisors of 14 are : [1, 2, 7]\n",
      "Common divisors of 12 and 14 are : {1, 2}\n"
     ]
    }
   ],
   "source": [
    "m1 = []\n",
    "m2 = []\n",
    "n1 = int(input(\"Enter Number 1 :\"))\n",
    "for i in range(1,n1):\n",
    "    if n1%i==0:\n",
    "        m1.append(i)\n",
    "print(f\"Divisors of {n1} are :\",m1)\n",
    "n2 = int(input(\"Enter Number 2 :\")) \n",
    "for i in range(1, n2):\n",
    "    if n2%i==0:\n",
    "        m2.append(i)\n",
    "print(f\"Divisors of {n2} are :\",m2)\n",
    "common_divisors = set(m1) & set(m2)\n",
    "print(f\"Common divisors of {n1} and {n2} are :\",common_divisors)"
   ]
  },
  {
   "cell_type": "code",
   "execution_count": 76,
   "metadata": {},
   "outputs": [
    {
     "name": "stdout",
     "output_type": "stream",
     "text": [
      "Divisors of 8 are : [1, 2, 4]\n",
      "Number of divisors are: 3\n",
      "Count of divisors are odd.\n"
     ]
    }
   ],
   "source": [
    "n = 8 \n",
    "m = []\n",
    "for i in range(1, n):\n",
    "    if n%i==0:\n",
    "        m.append(i)\n",
    "print(f\"Divisors of {n} are :\",m)\n",
    "count = 0 \n",
    "for i in range(len(m)):\n",
    "    count = count + i\n",
    "print(\"Number of divisors are:\",count)\n",
    "if count%2==0:\n",
    "    print(\"Count of divisors are even.\")\n",
    "else:\n",
    "    print(\"Count of divisors are odd.\")"
   ]
  },
  {
   "cell_type": "code",
   "execution_count": 77,
   "metadata": {},
   "outputs": [
    {
     "name": "stdout",
     "output_type": "stream",
     "text": [
      "Divisors of 14 are : [1, 2, 7]\n",
      "Number of divisors are: 3\n",
      "Count of Divisors are Odd\n"
     ]
    }
   ],
   "source": [
    "n = 14\n",
    "m = []\n",
    "for i in range(1, n):\n",
    "    if n%i==0:\n",
    "        m.append(i)\n",
    "print(f\"Divisors of {n} are :\",m)\n",
    "count = 0\n",
    "for i in range(len(m)):\n",
    "    count = count + i\n",
    "print(\"Number of divisors are:\",count)\n",
    "if count%2==0:\n",
    "    print(\"Count of Divisors are even\")\n",
    "else:\n",
    "    print(\"Count of Divisors are Odd\")"
   ]
  },
  {
   "cell_type": "code",
   "execution_count": 80,
   "metadata": {},
   "outputs": [
    {
     "name": "stdout",
     "output_type": "stream",
     "text": [
      "The minimum sum of factors of 8 is: 6\n"
     ]
    }
   ],
   "source": [
    "def min_sum_of_factors(num):\n",
    "    factors = []\n",
    "    i = 2\n",
    "\n",
    "    while i <= num:\n",
    "        if (num % i) == 0:\n",
    "            factors.append(i)\n",
    "            num = num / i\n",
    "        else:\n",
    "            i += 1\n",
    "\n",
    "    # Calculate the sum of factors\n",
    "    sum_of_factors = sum(factors)\n",
    "\n",
    "    return sum_of_factors\n",
    "\n",
    "# Example usage\n",
    "number = int(input(\"Enter a number: \"))\n",
    "result = min_sum_of_factors(number)\n",
    "print(f\"The minimum sum of factors of {number} is: {result}\")\n"
   ]
  },
  {
   "cell_type": "code",
   "execution_count": 81,
   "metadata": {},
   "outputs": [
    {
     "name": "stdout",
     "output_type": "stream",
     "text": [
      "The difference between the sums of odd and even digits is: -13824\n"
     ]
    }
   ],
   "source": [
    "def digit_differences(number):\n",
    "\n",
    "    num = str(number)\n",
    "    odd_sum = 0 \n",
    "    even_sum = 0\n",
    "    for i in num:\n",
    "        digit = int(num)\n",
    "\n",
    "        if digit%2==0:\n",
    "            even_sum += digit\n",
    "        else:\n",
    "            odd_sum += digit\n",
    "\n",
    "    diff = odd_sum - even_sum\n",
    "\n",
    "    return diff\n",
    "input_number = int(input(\"Enter a number: \"))\n",
    "result = digit_differences(input_number)\n",
    "print(f\"The difference between the sums of odd and even digits is: {result}\")"
   ]
  },
  {
   "cell_type": "code",
   "execution_count": 82,
   "metadata": {},
   "outputs": [
    {
     "name": "stdout",
     "output_type": "stream",
     "text": [
      "[100, 101, 102, 103, 104, 105, 106, 107, 108, 109, 110, 111, 112, 113, 114, 115, 116, 117, 118, 119, 120, 121, 122, 123, 124, 125, 126, 127, 128, 129, 130, 131, 132, 133, 134, 135, 136, 137, 138, 139, 140, 141, 142, 143, 144, 145, 146, 147, 148, 149, 150, 151, 152, 153, 154, 155, 156, 157, 158, 159, 160, 161, 162, 163, 164, 165, 166, 167, 168, 169, 170, 171, 172, 173, 174, 175, 176, 177, 178, 179, 180, 181, 182, 183, 184, 185, 186, 187, 188, 189, 190, 191, 192, 193, 194, 195, 196, 197, 198, 199, 200, 201, 202, 203, 204, 205, 206, 207, 208, 209, 210, 211, 212, 213, 214, 215, 216, 217, 218, 219, 220, 221, 222, 223, 224, 225, 226, 227, 228, 229, 230, 231, 232, 233, 234, 235, 236, 237, 238, 239, 240, 241, 242, 243, 244, 245, 246, 247, 248, 249, 250, 251, 252, 253, 254, 255, 256, 257, 258, 259, 260, 261, 262, 263, 264, 265, 266, 267, 268, 269, 270, 271, 272, 273, 274, 275, 276, 277, 278, 279, 280, 281, 282, 283, 284, 285, 286, 287, 288, 289, 290, 291, 292, 293, 294, 295, 296, 297, 298, 299, 300, 301, 302, 303, 304, 305, 306, 307, 308, 309, 310, 311, 312, 313, 314, 315, 316, 317, 318, 319, 320, 321, 322, 323, 324, 325, 326, 327, 328, 329, 330, 331, 332, 333, 334, 335, 336, 337, 338, 339, 340, 341, 342, 343, 344, 345, 346, 347, 348, 349, 350, 351, 352, 353, 354, 355, 356, 357, 358, 359, 360, 361, 362, 363, 364, 365, 366, 367, 368, 369, 370, 371, 372, 373, 374, 375, 376, 377, 378, 379, 380, 381, 382, 383, 384, 385, 386, 387, 388, 389, 390, 391, 392, 393, 394, 395, 396, 397, 398, 399, 400, 401, 402, 403, 404, 405, 406, 407, 408, 409, 410, 411, 412, 413, 414, 415, 416, 417, 418, 419, 420, 421, 422, 423, 424, 425, 426, 427, 428, 429, 430, 431, 432, 433, 434, 435, 436, 437, 438, 439, 440, 441, 442, 443, 444, 445, 446, 447, 448, 449, 450, 451, 452, 453, 454, 455, 456, 457, 458, 459, 460, 461, 462, 463, 464, 465, 466, 467, 468, 469, 470, 471, 472, 473, 474, 475, 476, 477, 478, 479, 480, 481, 482, 483, 484, 485, 486, 487, 488, 489, 490, 491, 492, 493, 494, 495, 496, 497, 498, 499, 500, 501, 502, 503, 504, 505, 506, 507, 508, 509, 510, 511, 512, 513, 514, 515, 516, 517, 518, 519, 520, 521, 522, 523, 524, 525, 526, 527, 528, 529, 530, 531, 532, 533, 534, 535, 536, 537, 538, 539, 540, 541, 542, 543, 544, 545, 546, 547, 548, 549, 550, 551, 552, 553, 554, 555, 556, 557, 558, 559, 560, 561, 562, 563, 564, 565, 566, 567, 568, 569, 570, 571, 572, 573, 574, 575, 576, 577, 578, 579, 580, 581, 582, 583, 584, 585, 586, 587, 588, 589, 590, 591, 592, 593, 594, 595, 596, 597, 598, 599, 600, 601, 602, 603, 604, 605, 606, 607, 608, 609, 610, 611, 612, 613, 614, 615, 616, 617, 618, 619, 620, 621, 622, 623, 624, 625, 626, 627, 628, 629, 630, 631, 632, 633, 634, 635, 636, 637, 638, 639, 640, 641, 642, 643, 644, 645, 646, 647, 648, 649, 650, 651, 652, 653, 654, 655, 656, 657, 658, 659, 660, 661, 662, 663, 664, 665, 666, 667, 668, 669, 670, 671, 672, 673, 674, 675, 676, 677, 678, 679, 680, 681, 682, 683, 684, 685, 686, 687, 688, 689, 690, 691, 692, 693, 694, 695, 696, 697, 698, 699, 700, 701, 702, 703, 704, 705, 706, 707, 708, 709, 710, 711, 712, 713, 714, 715, 716, 717, 718, 719, 720, 721, 722, 723, 724, 725, 726, 727, 728, 729, 730, 731, 732, 733, 734, 735, 736, 737, 738, 739, 740, 741, 742, 743, 744, 745, 746, 747, 748, 749, 750, 751, 752, 753, 754, 755, 756, 757, 758, 759, 760, 761, 762, 763, 764, 765, 766, 767, 768, 769, 770, 771, 772, 773, 774, 775, 776, 777, 778, 779, 780, 781, 782, 783, 784, 785, 786, 787, 788, 789, 790, 791, 792, 793, 794, 795, 796, 797, 798, 799, 800, 801, 802, 803, 804, 805, 806, 807, 808, 809, 810, 811, 812, 813, 814, 815, 816, 817, 818, 819, 820, 821, 822, 823, 824, 825, 826, 827, 828, 829, 830, 831, 832, 833, 834, 835, 836, 837, 838, 839, 840, 841, 842, 843, 844, 845, 846, 847, 848, 849, 850, 851, 852, 853, 854, 855, 856, 857, 858, 859, 860, 861, 862, 863, 864, 865, 866, 867, 868, 869, 870, 871, 872, 873, 874, 875, 876, 877, 878, 879, 880, 881, 882, 883, 884, 885, 886, 887, 888, 889, 890, 891, 892, 893, 894, 895, 896, 897, 898, 899, 900, 901, 902, 903, 904, 905, 906, 907, 908, 909, 910, 911, 912, 913, 914, 915, 916, 917, 918, 919, 920, 921, 922, 923, 924, 925, 926, 927, 928, 929, 930, 931, 932, 933, 934, 935, 936, 937, 938, 939, 940, 941, 942, 943, 944, 945, 946, 947, 948, 949, 950, 951, 952, 953, 954, 955, 956, 957, 958, 959, 960, 961, 962, 963, 964, 965, 966, 967, 968, 969, 970, 971, 972, 973, 974, 975, 976, 977, 978, 979, 980, 981, 982, 983, 984, 985, 986, 987, 988, 989, 990, 991, 992, 993, 994, 995, 996, 997, 998]\n",
      "Largest of 2 digit number divisible by 1 is : 998\n",
      "Smallest of 2 digit number divisible by 1 is : 100\n"
     ]
    }
   ],
   "source": [
    "x = int(input(\"Enter a number: \"))\n",
    "l = []\n",
    "for i in range(100,999):\n",
    "    if i%x == 0:\n",
    "        l.append(i)\n",
    "print(l)\n",
    "print(f\"Largest of 2 digit number divisible by {x} is :\",max(l))\n",
    "print(f\"Smallest of 2 digit number divisible by {x} is :\",min(l))\n"
   ]
  },
  {
   "cell_type": "code",
   "execution_count": 83,
   "metadata": {},
   "outputs": [
    {
     "name": "stdout",
     "output_type": "stream",
     "text": [
      "[105, 112, 119, 126, 133, 140, 147, 154, 161, 168, 175, 182, 189, 196, 203, 210, 217, 224, 231, 238, 245, 252, 259, 266, 273, 280, 287, 294, 301, 308, 315, 322, 329, 336, 343, 350, 357, 364, 371, 378, 385, 392, 399, 406, 413, 420, 427, 434, 441, 448, 455, 462, 469, 476, 483, 490, 497, 504, 511, 518, 525, 532, 539, 546, 553, 560, 567, 574, 581, 588, 595, 602, 609, 616, 623, 630, 637, 644, 651, 658, 665, 672, 679, 686, 693, 700, 707, 714, 721, 728, 735, 742, 749, 756, 763, 770, 777, 784, 791, 798, 805, 812, 819, 826, 833, 840, 847, 854, 861, 868, 875, 882, 889, 896, 903, 910, 917, 924, 931, 938, 945, 952, 959, 966, 973, 980, 987, 994]\n",
      "Largest of 2 digit number divisible by 7 is : 994\n",
      "Smallest of 2 digit number divisible by 7 is : 105\n"
     ]
    }
   ],
   "source": [
    "x = int(input(\"Enter a number: \"))\n",
    "l = []\n",
    "for i in range(100,999):\n",
    "    if i%x == 0:\n",
    "        l.append(i)\n",
    "print(l)\n",
    "print(f\"Largest of 2 digit number divisible by {x} is :\",max(l))\n",
    "print(f\"Smallest of 2 digit number divisible by {x} is :\",min(l))"
   ]
  },
  {
   "cell_type": "code",
   "execution_count": 85,
   "metadata": {},
   "outputs": [
    {
     "name": "stdout",
     "output_type": "stream",
     "text": [
      "List of divisors of given number are: [1, 2, 3, 4, 6, 8, 12]\n",
      "List of even divisors of given number are: [2, 4, 6, 8, 12]\n",
      "Sum of even divisors of given number are: 32\n"
     ]
    }
   ],
   "source": [
    "n = 24 \n",
    "divisors = []\n",
    "even_divisors = []\n",
    "for i in range(1 , n):\n",
    "    if n%i == 0:\n",
    "        divisors.append(i)\n",
    "        if i%2==0:\n",
    "            even_divisors.append(i)\n",
    "print(\"List of divisors of given number are:\",divisors)\n",
    "print(f\"List of even divisors of given number are:\",even_divisors)\n",
    "print(f\"Sum of even divisors of given number are:\",sum(even_divisors))"
   ]
  },
  {
   "cell_type": "code",
   "execution_count": 88,
   "metadata": {},
   "outputs": [
    {
     "data": {
      "text/plain": [
       "['3']"
      ]
     },
     "execution_count": 88,
     "metadata": {},
     "output_type": "execute_result"
    }
   ],
   "source": [
    "n = \"39\"\n",
    "s = list(n)\n",
    "m = []\n",
    "for i in s:\n",
    "    if int(n)%int(i)==0:\n",
    "        m.append(i)\n",
    "m"
   ]
  },
  {
   "cell_type": "code",
   "execution_count": 89,
   "metadata": {},
   "outputs": [
    {
     "data": {
      "text/plain": [
       "['2']"
      ]
     },
     "execution_count": 89,
     "metadata": {},
     "output_type": "execute_result"
    }
   ],
   "source": [
    "n = \"26\"\n",
    "s = list(n)\n",
    "m = []\n",
    "for i in s:\n",
    "    if int(n)%int(i)==0:\n",
    "        m.append(i)\n",
    "m"
   ]
  },
  {
   "cell_type": "code",
   "execution_count": 90,
   "metadata": {},
   "outputs": [],
   "source": [
    "with open(\"Abhishek.txt\", \"w\") as f:\n",
    "    f.write(\"line1 \\n line2 \\n line3 \\n line4 \\n\")\n",
    "    "
   ]
  },
  {
   "cell_type": "code",
   "execution_count": 93,
   "metadata": {},
   "outputs": [],
   "source": [
    "f = open(\"Abhishek.txt\", \"r\")\n",
    "f.read()\n",
    "f.seek(0)\n",
    "f.readline(3)\n",
    "f.close()\n"
   ]
  },
  {
   "cell_type": "code",
   "execution_count": 94,
   "metadata": {},
   "outputs": [],
   "source": [
    "f = open(\"Abhishek.txt\", \"r\")\n",
    "fn1 = open(\"Copy.txt\",\"w\")\n",
    "\n",
    "content = f.readlines()\n",
    "type(content)\n",
    "for i in range(1 , len(content)):\n",
    "    if i%2!=0:\n",
    "        fn1.write(content[i])\n",
    "    else:\n",
    "        pass\n",
    "fn1.close()\n"
   ]
  },
  {
   "cell_type": "code",
   "execution_count": 96,
   "metadata": {},
   "outputs": [],
   "source": [
    "with open(\"Copy.txt\" , \"r\") as fn1:\n",
    "    fn1.read()"
   ]
  },
  {
   "cell_type": "code",
   "execution_count": 97,
   "metadata": {},
   "outputs": [
    {
     "data": {
      "text/plain": [
       "' line2 \\n line4 \\n'"
      ]
     },
     "execution_count": 97,
     "metadata": {},
     "output_type": "execute_result"
    }
   ],
   "source": [
    "f = open(\"Copy.txt\" , \"r\")\n",
    "f.read()"
   ]
  },
  {
   "cell_type": "code",
   "execution_count": 98,
   "metadata": {},
   "outputs": [],
   "source": [
    "f = open(\"Abhishek.txt\",\"r\")\n",
    "fn = open(\"Copy.txt\",\"w\")\n",
    "content = f.readlines()\n",
    "type(content)\n",
    "for i in range(1 , len(content)):\n",
    "    if i%2==0:\n",
    "        fn.write(content[i])\n",
    "    else:\n",
    "        pass\n",
    "fn.close()"
   ]
  },
  {
   "cell_type": "code",
   "execution_count": 99,
   "metadata": {},
   "outputs": [
    {
     "data": {
      "text/plain": [
       "' line3 \\n'"
      ]
     },
     "execution_count": 99,
     "metadata": {},
     "output_type": "execute_result"
    }
   ],
   "source": [
    "f = open(\"Copy.txt\" , \"r\")\n",
    "f.read()"
   ]
  },
  {
   "cell_type": "code",
   "execution_count": 100,
   "metadata": {},
   "outputs": [
    {
     "data": {
      "text/plain": [
       "'23-08-2003'"
      ]
     },
     "execution_count": 100,
     "metadata": {},
     "output_type": "execute_result"
    }
   ],
   "source": [
    "from datetime import datetime\n",
    "input_date = \"2003-08-23\"\n",
    "date_object = datetime.strptime(input_date , \"%Y-%m-%d\")\n",
    "output_date = date_object.strftime(\"%d-%m-%Y\")\n",
    "output_date"
   ]
  },
  {
   "cell_type": "code",
   "execution_count": 101,
   "metadata": {},
   "outputs": [
    {
     "data": {
      "text/plain": [
       "'23-08-2024'"
      ]
     },
     "execution_count": 101,
     "metadata": {},
     "output_type": "execute_result"
    }
   ],
   "source": [
    "from datetime import datetime\n",
    "input_date = \"2024-08-23\"\n",
    "date_object = datetime.strptime(input_date , \"%Y-%m-%d\")\n",
    "output_date = date_object.strftime(\"%d-%m-%Y\")\n",
    "output_date"
   ]
  },
  {
   "cell_type": "code",
   "execution_count": 102,
   "metadata": {},
   "outputs": [
    {
     "name": "stdout",
     "output_type": "stream",
     "text": [
      "List of words starting with a or e in given string: ['abhishek', 'a']\n"
     ]
    }
   ],
   "source": [
    "string = \"abhishek wakchuare is a good boy\"\n",
    "t = string.split()\n",
    "m = []\n",
    "for i in t:\n",
    "    if i[0] == \"a\" or i[0] == \"e\":\n",
    "        m.append(i)\n",
    "print(\"List of words starting with a or e in given string:\",m)"
   ]
  },
  {
   "cell_type": "code",
   "execution_count": 1,
   "metadata": {},
   "outputs": [
    {
     "name": "stdout",
     "output_type": "stream",
     "text": [
      "Otiginal list of tuples:\n",
      "[('English', 88), ('Science', 90), ('Maths', 97), ('Social sciences', 82)]\n",
      "\n",
      " Sorting the list of tuples:\n",
      "[('Social sciences', 82), ('English', 88), ('Science', 90), ('Maths', 97)]\n"
     ]
    }
   ],
   "source": [
    "subject_marks = [(\"English\",88) , (\"Science\",90) , (\"Maths\",97) , (\"Social sciences\",82)]\n",
    "print(\"Otiginal list of tuples:\")\n",
    "print(subject_marks)\n",
    "subject_marks.sort(key=lambda x : x[1])\n",
    "print(\"\\n Sorting the list of tuples:\")\n",
    "print(subject_marks)"
   ]
  },
  {
   "cell_type": "code",
   "execution_count": 2,
   "metadata": {},
   "outputs": [
    {
     "name": "stdout",
     "output_type": "stream",
     "text": [
      "Original list of tuples:\n",
      "[('English', 88), ('Science', 90), ('Maths', 97), ('Social sciences', 82)]\n",
      "\n",
      " Sorting the list of tuples:\n",
      "[('English', 88), ('Maths', 97), ('Science', 90), ('Social sciences', 82)]\n"
     ]
    }
   ],
   "source": [
    "subject_marks = [(\"English\",88) , (\"Science\",90) , (\"Maths\",97) , (\"Social sciences\",82)]\n",
    "print(\"Original list of tuples:\")\n",
    "print(subject_marks)\n",
    "subject_marks.sort(key=lambda x : x[0])\n",
    "print(\"\\n Sorting the list of tuples:\")\n",
    "print(subject_marks)"
   ]
  },
  {
   "cell_type": "code",
   "execution_count": 3,
   "metadata": {},
   "outputs": [
    {
     "name": "stdout",
     "output_type": "stream",
     "text": [
      "Original list of tuples:\n",
      "[('English', 88), ('Science', 90), ('Maths', 97), ('Social sciences', 82)]\n",
      "\n",
      " Sorting the list of tuples:\n",
      "[('Social sciences', 82), ('English', 88), ('Science', 90), ('Maths', 97)]\n"
     ]
    }
   ],
   "source": [
    "subject_marks = [(\"English\",88) , (\"Science\",90) , (\"Maths\",97) , (\"Social sciences\",82)]\n",
    "print(\"Original list of tuples:\")\n",
    "print(subject_marks)\n",
    "subject_marks.sort(key=lambda x : x[1])\n",
    "print(\"\\n Sorting the list of tuples:\")\n",
    "print(subject_marks)"
   ]
  },
  {
   "cell_type": "code",
   "execution_count": 5,
   "metadata": {},
   "outputs": [
    {
     "name": "stdout",
     "output_type": "stream",
     "text": [
      "The list printed sorting by age:\n",
      "[{'name': 'Nikhil', 'age': 19}, {'name': 'Nandini', 'age': 20}, {'name': 'Manjeet', 'age': 20}]\n",
      "\n",
      "The list printed sorting by age and name:\n",
      "[{'name': 'Nikhil', 'age': 19}, {'name': 'Manjeet', 'age': 20}, {'name': 'Nandini', 'age': 20}]\n",
      "\n",
      "The list printed sorting by age in descending order:\n",
      "[{'name': 'Nandini', 'age': 20}, {'name': 'Manjeet', 'age': 20}, {'name': 'Nikhil', 'age': 19}]\n"
     ]
    }
   ],
   "source": [
    "list1 = [{\"name\" : \"Nandini\" , \"age\" : 20} ,\n",
    "        {\"name\" : \"Manjeet\" , \"age\" : 20} ,\n",
    "        {\"name\" : \"Nikhil\" , \"age\" : 19}]\n",
    "print(\"The list printed sorting by age:\")\n",
    "print(sorted(list1 , key=lambda x : x[\"age\"]))\n",
    "print(\"\\r\")\n",
    "\n",
    "print(\"The list printed sorting by age and name:\")\n",
    "print(sorted(list1 , key=lambda x : (x[\"age\"] , x[\"name\"])))\n",
    "print(\"\\r\")\n",
    "\n",
    "print(\"The list printed sorting by age in descending order:\")\n",
    "print(sorted(list1 , key=lambda x : x[\"age\"] , reverse=True))"
   ]
  },
  {
   "cell_type": "code",
   "execution_count": 6,
   "metadata": {},
   "outputs": [
    {
     "name": "stdout",
     "output_type": "stream",
     "text": [
      "The list sorting by age:\n",
      "[{'name': 'Nikhil', 'age': 19}, {'name': 'Nandini', 'age': 20}, {'name': 'Manjeet', 'age': 20}]\n",
      "\n",
      "The list sorting by age and name:\n",
      "[{'name': 'Nikhil', 'age': 19}, {'name': 'Manjeet', 'age': 20}, {'name': 'Nandini', 'age': 20}]\n",
      "\n",
      "The list printed sorting by age in descending order\n",
      "[{'name': 'Nandini', 'age': 20}, {'name': 'Manjeet', 'age': 20}, {'name': 'Nikhil', 'age': 19}]\n"
     ]
    }
   ],
   "source": [
    "list1 = [{\"name\" : \"Nandini\" , \"age\" : 20} ,\n",
    "        {\"name\" : \"Manjeet\" , \"age\" : 20} ,\n",
    "        {\"name\" : \"Nikhil\" , \"age\" : 19}]\n",
    "print(\"The list sorting by age:\")\n",
    "print(sorted(list1 , key=lambda x : x[\"age\"]))\n",
    "print(\"\\r\")\n",
    "\n",
    "print(\"The list sorting by age and name:\")\n",
    "print(sorted(list1 , key=lambda x : (x[\"age\"] , x[\"name\"])))\n",
    "print(\"\\r\")\n",
    "\n",
    "print(\"The list printed sorting by age in descending order\")\n",
    "print(sorted(list1 , key= lambda x : x[\"age\"] , reverse=True))\n"
   ]
  },
  {
   "cell_type": "code",
   "execution_count": 7,
   "metadata": {},
   "outputs": [
    {
     "name": "stdout",
     "output_type": "stream",
     "text": [
      "Original list of integers: [1, 2, 3, 4, 5, 6, 7, 8, 9, 10]\n",
      "\n",
      "Square of every number:\n",
      "[1, 4, 9, 16, 25, 36, 49, 64, 81, 100]\n",
      "\n",
      "Cube of every number:\n",
      "[1, 8, 27, 64, 125, 216, 343, 512, 729, 1000]\n"
     ]
    }
   ],
   "source": [
    "input_numbers = [1, 2, 3, 4, 5, 6, 7, 8, 9, 10]\n",
    "\n",
    "square_result = [(lambda x : x**2)(num) for num in input_numbers]\n",
    "cube_result = [(lambda x : x**3)(num) for num in input_numbers]\n",
    "print(\"Original list of integers:\", input_numbers)\n",
    "print(\"\\nSquare of every number:\")\n",
    "print(square_result)\n",
    "print(\"\\nCube of every number:\")\n",
    "print(cube_result)"
   ]
  },
  {
   "cell_type": "code",
   "execution_count": 8,
   "metadata": {},
   "outputs": [
    {
     "name": "stdout",
     "output_type": "stream",
     "text": [
      "Original list of integers: [1, 2, 3, 4, 5, 6, 7, 8, 9, 10]\n",
      "\n",
      "Square of every number:\n",
      "[1, 4, 9, 16, 25, 36, 49, 64, 81, 100]\n",
      "\n",
      "Cube of every number:\n",
      "[1, 8, 27, 64, 125, 216, 343, 512, 729, 1000]\n"
     ]
    }
   ],
   "source": [
    "input_numbers = [1,2,3,4,5,6,7,8,9,10]\n",
    "square_result = [(lambda x : x**2)(num) for num in input_numbers]\n",
    "cube_result = [(lambda x : x**3)(num) for num in input_numbers]\n",
    "print(\"Original list of integers:\", input_numbers)\n",
    "print(\"\\nSquare of every number:\")\n",
    "print(square_result)\n",
    "print(\"\\nCube of every number:\")\n",
    "print(cube_result)"
   ]
  },
  {
   "cell_type": "code",
   "execution_count": 9,
   "metadata": {},
   "outputs": [
    {
     "data": {
      "text/plain": [
       "[1, 4, 9, 16]"
      ]
     },
     "execution_count": 9,
     "metadata": {},
     "output_type": "execute_result"
    }
   ],
   "source": [
    "square_result = (lambda list1 : [i**2 for i in list1])([1,2,3,4])\n",
    "square_result"
   ]
  },
  {
   "cell_type": "code",
   "execution_count": 10,
   "metadata": {},
   "outputs": [
    {
     "data": {
      "text/plain": [
       "[1, 8, 27, 64]"
      ]
     },
     "execution_count": 10,
     "metadata": {},
     "output_type": "execute_result"
    }
   ],
   "source": [
    "cube_result = (lambda list1 : [i**3 for i in list1])([1,2,3,4])\n",
    "cube_result"
   ]
  },
  {
   "cell_type": "code",
   "execution_count": 11,
   "metadata": {},
   "outputs": [
    {
     "data": {
      "text/plain": [
       "[1, 4, 9, 16]"
      ]
     },
     "execution_count": 11,
     "metadata": {},
     "output_type": "execute_result"
    }
   ],
   "source": [
    "square_result = (lambda list1 : [i**2 for i in list1])([1,2,3,4])\n",
    "square_result"
   ]
  },
  {
   "cell_type": "code",
   "execution_count": 14,
   "metadata": {},
   "outputs": [
    {
     "data": {
      "text/plain": [
       "[1, 8, 27, 64, 125]"
      ]
     },
     "execution_count": 14,
     "metadata": {},
     "output_type": "execute_result"
    }
   ],
   "source": [
    "cube_result = (lambda list1 : [i**3 for i in list1])([1,2,3,4,5])\n",
    "cube_result"
   ]
  },
  {
   "cell_type": "code",
   "execution_count": 15,
   "metadata": {},
   "outputs": [
    {
     "name": "stdout",
     "output_type": "stream",
     "text": [
      "True\n"
     ]
    }
   ],
   "source": [
    "starts_with = lambda x : True if x.startswith(\"P\") else False\n",
    "print(starts_with(\"Python\"))"
   ]
  },
  {
   "cell_type": "code",
   "execution_count": 16,
   "metadata": {},
   "outputs": [
    {
     "name": "stdout",
     "output_type": "stream",
     "text": [
      "False\n"
     ]
    }
   ],
   "source": [
    "starts_with = lambda x : True if x.startswith(\"O\") else False\n",
    "print(starts_with(\"Abhishek\"))"
   ]
  },
  {
   "cell_type": "code",
   "execution_count": 17,
   "metadata": {},
   "outputs": [
    {
     "name": "stdout",
     "output_type": "stream",
     "text": [
      "False\n"
     ]
    }
   ],
   "source": [
    "starts_with = lambda y : True if y.startswith(\"U\") else False\n",
    "print(starts_with(\"Abhishek\"))"
   ]
  },
  {
   "cell_type": "code",
   "execution_count": 18,
   "metadata": {},
   "outputs": [
    {
     "data": {
      "text/plain": [
       "[]"
      ]
     },
     "execution_count": 18,
     "metadata": {},
     "output_type": "execute_result"
    }
   ],
   "source": [
    "import re\n",
    "x = (lambda y : re.findall(\"^p\" , y))(y = \"Abhishek\")\n",
    "x"
   ]
  },
  {
   "cell_type": "code",
   "execution_count": 19,
   "metadata": {},
   "outputs": [
    {
     "data": {
      "text/plain": [
       "[]"
      ]
     },
     "execution_count": 19,
     "metadata": {},
     "output_type": "execute_result"
    }
   ],
   "source": [
    "x = (lambda y : re.findall(\"^t\", y))(y = \"Abhishek\")\n",
    "x"
   ]
  },
  {
   "cell_type": "code",
   "execution_count": 20,
   "metadata": {},
   "outputs": [
    {
     "data": {
      "text/plain": [
       "False"
      ]
     },
     "execution_count": 20,
     "metadata": {},
     "output_type": "execute_result"
    }
   ],
   "source": [
    "x = (lambda y : y.startswith(\"u\"))(y = \"Abhishek\")\n",
    "x"
   ]
  },
  {
   "cell_type": "code",
   "execution_count": 21,
   "metadata": {},
   "outputs": [
    {
     "data": {
      "text/plain": [
       "True"
      ]
     },
     "execution_count": 21,
     "metadata": {},
     "output_type": "execute_result"
    }
   ],
   "source": [
    "x = (lambda y : y.startswith(\"p\"))(y = \"pepe\")\n",
    "x"
   ]
  },
  {
   "cell_type": "code",
   "execution_count": 22,
   "metadata": {},
   "outputs": [
    {
     "data": {
      "text/plain": [
       "False"
      ]
     },
     "execution_count": 22,
     "metadata": {},
     "output_type": "execute_result"
    }
   ],
   "source": [
    "x = (lambda y : y.startswith(\"l\"))(y = \"pepe\")\n",
    "x"
   ]
  },
  {
   "cell_type": "code",
   "execution_count": 23,
   "metadata": {},
   "outputs": [
    {
     "data": {
      "text/plain": [
       "[0, 1, 1, 2, 3, 5, 8, 13, 21, 34]"
      ]
     },
     "execution_count": 23,
     "metadata": {},
     "output_type": "execute_result"
    }
   ],
   "source": [
    "from functools import reduce\n",
    "fib = lambda n : reduce(lambda n,_:n+[n[-1]+n[-2]] , range(n-2) , [0,1])\n",
    "fib(10)"
   ]
  },
  {
   "cell_type": "code",
   "execution_count": 24,
   "metadata": {},
   "outputs": [
    {
     "name": "stdout",
     "output_type": "stream",
     "text": [
      "0 1 1 2 3 5 8 13 21 "
     ]
    }
   ],
   "source": [
    "n = 9 \n",
    "f1 = 0 \n",
    "f2 = 1 \n",
    "print(f1 , f2, end=\" \")\n",
    "for i in range(2 , n):\n",
    "    f3 = f1 + f2\n",
    "    f1,f2 = f2,f3\n",
    "    print(f3 , end=\" \")\n",
    "    "
   ]
  },
  {
   "cell_type": "code",
   "execution_count": 25,
   "metadata": {},
   "outputs": [
    {
     "name": "stdout",
     "output_type": "stream",
     "text": [
      "0 1 1 2 3 5 8 13 21 34 "
     ]
    }
   ],
   "source": [
    "n= 10 \n",
    "f1 = 0 \n",
    "f2 = 1 \n",
    "print(f1 , f2, end=\" \")\n",
    "for i in range(2 , n):\n",
    "    f3 = f1 + f2\n",
    "    f1,f2 = f2,f3\n",
    "    print(f3 , end=\" \")\n",
    "    "
   ]
  },
  {
   "cell_type": "code",
   "execution_count": 26,
   "metadata": {},
   "outputs": [
    {
     "name": "stdout",
     "output_type": "stream",
     "text": [
      "0 1 1 2 3 5 8 13 21 34 55 89 144 233 377 "
     ]
    }
   ],
   "source": [
    "n= 15 \n",
    "f1 = 0 \n",
    "f2 = 1 \n",
    "print(f1 , f2 , end=\" \")\n",
    "for i in range(2 , n):\n",
    "    f3 = f1 + f2 \n",
    "    f1,f2 = f2,f3\n",
    "    print(f3 , end=\" \")"
   ]
  },
  {
   "cell_type": "code",
   "execution_count": 27,
   "metadata": {},
   "outputs": [
    {
     "data": {
      "text/plain": [
       "[3, 4]"
      ]
     },
     "execution_count": 27,
     "metadata": {},
     "output_type": "execute_result"
    }
   ],
   "source": [
    "list1 = [1,2,3,4]\n",
    "list2 = [3,4,5,6]\n",
    "x = list(filter(lambda x : x in list1,list2))\n",
    "x"
   ]
  },
  {
   "cell_type": "code",
   "execution_count": 28,
   "metadata": {},
   "outputs": [
    {
     "data": {
      "text/plain": [
       "[3, 4]"
      ]
     },
     "execution_count": 28,
     "metadata": {},
     "output_type": "execute_result"
    }
   ],
   "source": [
    "list1 = [1,2,3,4]\n",
    "list2 = [3,4,5,6]\n",
    "x = list(filter(lambda x : x in list1,list2))\n",
    "x"
   ]
  },
  {
   "cell_type": "code",
   "execution_count": 29,
   "metadata": {},
   "outputs": [
    {
     "data": {
      "text/plain": [
       "[2, 5, 7, 8, 9, -1, -3, -10]"
      ]
     },
     "execution_count": 29,
     "metadata": {},
     "output_type": "execute_result"
    }
   ],
   "source": [
    "list1 = [-1,2,-3,5,7,8,9,-10]\n",
    "r = lambda list1 : [x for x in list1 if x>=0] + [x for x in list1 if x < 0]\n",
    "l2 = r(list1)\n",
    "l2"
   ]
  },
  {
   "cell_type": "code",
   "execution_count": 30,
   "metadata": {},
   "outputs": [
    {
     "data": {
      "text/plain": [
       "[-1, -3, -10, 2, 5, 7, 8, 9]"
      ]
     },
     "execution_count": 30,
     "metadata": {},
     "output_type": "execute_result"
    }
   ],
   "source": [
    "list1 = [-1,2,-3,5,7,8,9,-10]\n",
    "r = lambda list1 : [x for x in list1 if x < 0] + [x for x in list1 if x>=0]\n",
    "l2 = r(list1)\n",
    "l2"
   ]
  },
  {
   "cell_type": "code",
   "execution_count": 31,
   "metadata": {},
   "outputs": [
    {
     "data": {
      "text/plain": [
       "[-1, -3, -10, 2, 5, 7, 8, 9]"
      ]
     },
     "execution_count": 31,
     "metadata": {},
     "output_type": "execute_result"
    }
   ],
   "source": [
    "list1 = [-1,2,-3,5,7,8,9,-10]\n",
    "r = lambda list1 : [x for x in list1 if x<0] + [x for x in list1 if x>=0]\n",
    "l2 = r(list1)\n",
    "l2"
   ]
  },
  {
   "cell_type": "code",
   "execution_count": 32,
   "metadata": {},
   "outputs": [
    {
     "name": "stdout",
     "output_type": "stream",
     "text": [
      "Original arrays:\n",
      "[1, 2, 3, 5, 7, 8, 9, 10]\n",
      "\n",
      "Numbers of even numbers in the array: 3\n",
      "\n",
      "Numbers of odd numbers in the array: 5\n"
     ]
    }
   ],
   "source": [
    "array_nums = [1,2,3,5,7,8,9,10]\n",
    "print(\"Original arrays:\")\n",
    "print(array_nums)\n",
    "even_count = len(list(filter(lambda x : (x%2==0),array_nums)))\n",
    "odd_count = len(list(filter(lambda x : (x%2!=0),array_nums)))\n",
    "print(\"\\nNumbers of even numbers in the array:\",even_count)\n",
    "print(\"\\nNumbers of odd numbers in the array:\",odd_count)"
   ]
  },
  {
   "cell_type": "code",
   "execution_count": 33,
   "metadata": {},
   "outputs": [
    {
     "name": "stdout",
     "output_type": "stream",
     "text": [
      "Original arrays:\n",
      "[1, 2, 3, 4, 5, 6, 7, 8, 9, 10]\n",
      "Numbers of even count is : 5\n",
      "Numbers of Odd count is : 5\n"
     ]
    }
   ],
   "source": [
    "array_nums = [1,2,3,4,5,6,7,8,9,10]\n",
    "print(\"Original arrays:\")\n",
    "print(array_nums)\n",
    "even_count = len(list(filter(lambda x : (x%2==0),array_nums)))\n",
    "odd_count = len(list(filter(lambda x : (x%2!=0),array_nums)))\n",
    "print(\"Numbers of even count is :\",even_count)\n",
    "print(\"Numbers of Odd count is :\",odd_count)"
   ]
  },
  {
   "cell_type": "code",
   "execution_count": 34,
   "metadata": {},
   "outputs": [
    {
     "data": {
      "text/plain": [
       "[5, 7, 9]"
      ]
     },
     "execution_count": 34,
     "metadata": {},
     "output_type": "execute_result"
    }
   ],
   "source": [
    "list1 = [1,2,3]\n",
    "list2 = [4,5,6]\n",
    "add = map(lambda x1,x2 : x1+x2 ,list1,list2)\n",
    "list(add)"
   ]
  },
  {
   "cell_type": "code",
   "execution_count": 35,
   "metadata": {},
   "outputs": [
    {
     "data": {
      "text/plain": [
       "[5, 7, 9]"
      ]
     },
     "execution_count": 35,
     "metadata": {},
     "output_type": "execute_result"
    }
   ],
   "source": [
    "list1 = [1,2,3]\n",
    "list2 = [4,5,6]\n",
    "add = map(lambda x1,x2 : x1+x2 , list1,list2)\n",
    "list(add)"
   ]
  },
  {
   "cell_type": "code",
   "execution_count": 36,
   "metadata": {},
   "outputs": [
    {
     "data": {
      "text/plain": [
       "[4, 10, 18]"
      ]
     },
     "execution_count": 36,
     "metadata": {},
     "output_type": "execute_result"
    }
   ],
   "source": [
    "list1 = [1,2,3]\n",
    "list2 = [4,5,6]\n",
    "mul = map(lambda x1,x2 : x1*x2 , list1,list2)\n",
    "list(mul)"
   ]
  },
  {
   "cell_type": "code",
   "execution_count": 37,
   "metadata": {},
   "outputs": [
    {
     "data": {
      "text/plain": [
       "[0.25, 0.4, 0.5]"
      ]
     },
     "execution_count": 37,
     "metadata": {},
     "output_type": "execute_result"
    }
   ],
   "source": [
    "list1 = [1,2,3]\n",
    "list2 = [4,5,6]\n",
    "div = map(lambda x1,x2 : x1/x2 , list1 , list2)\n",
    "list(div)"
   ]
  },
  {
   "cell_type": "code",
   "execution_count": 38,
   "metadata": {},
   "outputs": [
    {
     "data": {
      "text/plain": [
       "[13, 26, 38, 39, 57]"
      ]
     },
     "execution_count": 38,
     "metadata": {},
     "output_type": "execute_result"
    }
   ],
   "source": [
    "list1 = [13,26,38,39,57,15,17]\n",
    "x = list(filter(lambda x : (x%13==0 or x%19==0) , list1))\n",
    "x"
   ]
  },
  {
   "cell_type": "code",
   "execution_count": 39,
   "metadata": {},
   "outputs": [
    {
     "data": {
      "text/plain": [
       "[13, 26, 38, 39, 57, 15, 17]"
      ]
     },
     "execution_count": 39,
     "metadata": {},
     "output_type": "execute_result"
    }
   ],
   "source": [
    "list1 = [13,26,38,39,57,15,17]\n",
    "x = list(filter(lambda x : (x%13!=0 or x%19!=0),list1))\n",
    "x"
   ]
  },
  {
   "cell_type": "code",
   "execution_count": 40,
   "metadata": {},
   "outputs": [
    {
     "data": {
      "text/plain": [
       "[13, 26, 38, 39, 57]"
      ]
     },
     "execution_count": 40,
     "metadata": {},
     "output_type": "execute_result"
    }
   ],
   "source": [
    "list1 = [13,26,38,39,57,15,17]\n",
    "x = list(filter(lambda x: (x%13==0 or x%19==0),list1))\n",
    "x"
   ]
  },
  {
   "cell_type": "code",
   "execution_count": 46,
   "metadata": {},
   "outputs": [
    {
     "name": "stdout",
     "output_type": "stream",
     "text": [
      "Original list of strings:\n",
      "['php', 'w3r', 'Python', 'abcd', 'Java', 'aaa']\n"
     ]
    },
    {
     "data": {
      "text/plain": [
       "['php', 'aaa']"
      ]
     },
     "execution_count": 46,
     "metadata": {},
     "output_type": "execute_result"
    }
   ],
   "source": [
    "texts = [\"php\" , \"w3r\" , \"Python\" , \"abcd\" ,\"Java\" , \"aaa\"]\n",
    "print(\"Original list of strings:\")\n",
    "print(texts)\n",
    "x = list(filter(lambda x : (x ==\"\".join(reversed(x))),texts))\n",
    "x"
   ]
  },
  {
   "cell_type": "code",
   "execution_count": 47,
   "metadata": {},
   "outputs": [
    {
     "name": "stdout",
     "output_type": "stream",
     "text": [
      "Original list of strings:\n",
      "['php', 'w3r', 'Python', 'abcd', 'Java', 'aaa']\n"
     ]
    },
    {
     "data": {
      "text/plain": [
       "['php', 'aaa']"
      ]
     },
     "execution_count": 47,
     "metadata": {},
     "output_type": "execute_result"
    }
   ],
   "source": [
    "texts = [\"php\" , \"w3r\" , \"Python\" , \"abcd\" ,\"Java\" , \"aaa\"]\n",
    "print(\"Original list of strings:\")\n",
    "print(texts)\n",
    "x = list(filter(lambda x : (x == \"\".join(reversed(x))),texts))\n",
    "x"
   ]
  },
  {
   "cell_type": "code",
   "execution_count": 48,
   "metadata": {},
   "outputs": [
    {
     "name": "stdout",
     "output_type": "stream",
     "text": [
      "Original list of strings:\n",
      "['php', 'w3r', 'Python', 'abcd', 'Java', 'aaa']\n"
     ]
    },
    {
     "data": {
      "text/plain": [
       "['php', 'aaa']"
      ]
     },
     "execution_count": 48,
     "metadata": {},
     "output_type": "execute_result"
    }
   ],
   "source": [
    "texts = [\"php\" , \"w3r\" , \"Python\" , \"abcd\" ,\"Java\" , \"aaa\"]\n",
    "print(\"Original list of strings:\")\n",
    "print(texts)\n",
    "x = list(filter(lambda x : (x == \"\".join(reversed(x))),texts))\n",
    "x"
   ]
  },
  {
   "cell_type": "code",
   "execution_count": 49,
   "metadata": {},
   "outputs": [
    {
     "name": "stdout",
     "output_type": "stream",
     "text": [
      "Original list of strings:\n",
      "['bcda', 'abce', 'cbda', 'cbea', 'adcb']\n",
      "['bcda', 'cbda', 'adcb']\n"
     ]
    }
   ],
   "source": [
    "from collections import Counter\n",
    "texts = [\"bcda\",\"abce\",\"cbda\",\"cbea\",\"adcb\"]\n",
    "str = \"abcd\"\n",
    "print(\"Original list of strings:\")\n",
    "print(texts)\n",
    "result = list(filter(lambda x : (Counter(str) == Counter(x)), texts))\n",
    "print(result)"
   ]
  },
  {
   "cell_type": "code",
   "execution_count": 50,
   "metadata": {},
   "outputs": [
    {
     "name": "stdout",
     "output_type": "stream",
     "text": [
      "Original list of strings:\n",
      "['bcda', 'abce', 'cbda', 'cbea', 'adcb']\n",
      "['bcda', 'cbda', 'adcb']\n"
     ]
    }
   ],
   "source": [
    "from collections import Counter\n",
    "texts = [\"bcda\",\"abce\",\"cbda\",\"cbea\",\"adcb\"]\n",
    "str = \"abcd\"\n",
    "print(\"Original list of strings:\")\n",
    "print(texts)\n",
    "result = list(filter(lambda x : (Counter(str) == Counter(x)),texts))\n",
    "print(result)"
   ]
  },
  {
   "cell_type": "code",
   "execution_count": 51,
   "metadata": {},
   "outputs": [
    {
     "data": {
      "text/plain": [
       "[10, 15, 20, 25]"
      ]
     },
     "execution_count": 51,
     "metadata": {},
     "output_type": "execute_result"
    }
   ],
   "source": [
    "list1 = [2,3,4,5]\n",
    "list2 = list(map(lambda x : x*5 , list1))\n",
    "list2"
   ]
  },
  {
   "cell_type": "code",
   "execution_count": 53,
   "metadata": {},
   "outputs": [
    {
     "data": {
      "text/plain": [
       "[4, 9, 16, 25]"
      ]
     },
     "execution_count": 53,
     "metadata": {},
     "output_type": "execute_result"
    }
   ],
   "source": [
    "list1 = [2,3,4,5]\n",
    "list2 = list(map(lambda x : x**2 , list1))\n",
    "list2"
   ]
  },
  {
   "cell_type": "code",
   "execution_count": 54,
   "metadata": {},
   "outputs": [
    {
     "name": "stdout",
     "output_type": "stream",
     "text": [
      "Sum of Positive numbers are: 7\n",
      "Sum of Negative numbers are : -3\n"
     ]
    }
   ],
   "source": [
    "list1 = [-1,-2,3,4]\n",
    "positive_number = list(filter(lambda list1 : list1 > 0 , list1))\n",
    "negative_number = list(filter(lambda list1 : list1 < 0 , list1))\n",
    "print(\"Sum of Positive numbers are:\",sum(positive_number))\n",
    "print(\"Sum of Negative numbers are :\",sum(negative_number))"
   ]
  },
  {
   "cell_type": "code",
   "execution_count": 55,
   "metadata": {},
   "outputs": [
    {
     "name": "stdout",
     "output_type": "stream",
     "text": [
      "Sum of Positive numbers are: 7\n",
      "Sum of Negative numbers are : -3\n"
     ]
    }
   ],
   "source": [
    "list1 = [-1,-2,3,4]\n",
    "positive_number = list(filter(lambda list1 : list1 > 0 , list1))\n",
    "negative_number = list(filter(lambda list1 : list1 < 0 , list1))\n",
    "print(\"Sum of Positive numbers are:\",sum(positive_number))\n",
    "print(\"Sum of Negative numbers are :\",sum(negative_number))"
   ]
  },
  {
   "cell_type": "code",
   "execution_count": 57,
   "metadata": {},
   "outputs": [
    {
     "name": "stdout",
     "output_type": "stream",
     "text": [
      "[13, 15, 17]\n",
      "[0]\n"
     ]
    }
   ],
   "source": [
    "list1 = [[0],[1,3],[5,7],[9,11],[13,15,17]]\n",
    "max_list = max(list1 , key=lambda x : len(x))\n",
    "min_list = min(list1 , key=lambda x : len(x))\n",
    "print(max_list)\n",
    "print(min_list)"
   ]
  },
  {
   "cell_type": "code",
   "execution_count": 58,
   "metadata": {},
   "outputs": [
    {
     "name": "stdout",
     "output_type": "stream",
     "text": [
      "[13, 15, 17]\n",
      "[0]\n"
     ]
    }
   ],
   "source": [
    "list1 = [[0],[1,3],[5,7],[9,11],[13,15,17]]\n",
    "max_list = max(list1 , key=lambda x : len(x))\n",
    "min_list = min(list1 , key=lambda x : len(x))\n",
    "print(max_list)\n",
    "print(min_list)\n"
   ]
  },
  {
   "cell_type": "code",
   "execution_count": 60,
   "metadata": {},
   "outputs": [
    {
     "data": {
      "text/plain": [
       "True"
      ]
     },
     "execution_count": 60,
     "metadata": {},
     "output_type": "execute_result"
    }
   ],
   "source": [
    "nums1 = [1,2,4,6,8,10,12,14,18,17]\n",
    "x = bool(filter(lambda nums1 : (nums1 == sorted(nums1)), nums1))\n",
    "x"
   ]
  },
  {
   "cell_type": "code",
   "execution_count": 61,
   "metadata": {},
   "outputs": [
    {
     "name": "stdout",
     "output_type": "stream",
     "text": [
      "Is sample_list_1 sorted? True\n",
      "Is sample_list_2 sorted? False\n"
     ]
    }
   ],
   "source": [
    "is_sorted = lambda x : x == sorted(x)\n",
    "sample_list_1 = [1, 2, 3, 4, 5]\n",
    "sample_list_2 = [5, 3, 1, 4, 2]\n",
    "print(\"Is sample_list_1 sorted?\", is_sorted(sample_list_1))\n",
    "print(\"Is sample_list_2 sorted?\", is_sorted(sample_list_2))"
   ]
  },
  {
   "cell_type": "code",
   "execution_count": 62,
   "metadata": {},
   "outputs": [
    {
     "name": "stdout",
     "output_type": "stream",
     "text": [
      "Is sample_list_1 sorted? True\n",
      "Is sample_list_2 sorted? False\n"
     ]
    }
   ],
   "source": [
    "is_sorted = lambda x : x == sorted(x)\n",
    "sample_list_1 = [1, 2, 3, 4, 5]\n",
    "sample_list_2 = [5, 3, 1, 4, 2]\n",
    "print(\"Is sample_list_1 sorted?\", is_sorted(sample_list_1))\n",
    "print(\"Is sample_list_2 sorted?\", is_sorted(sample_list_2))"
   ]
  },
  {
   "cell_type": "code",
   "execution_count": 63,
   "metadata": {},
   "outputs": [
    {
     "name": "stdout",
     "output_type": "stream",
     "text": [
      "Is sample_list_1 sorted? True\n",
      "Is sample_list_2 sorted? False\n"
     ]
    }
   ],
   "source": [
    "is_sorted = lambda x : x == sorted(x)\n",
    "sample_list_1 = [1, 2, 3, 4, 5]\n",
    "sample_list_2 = [5, 3, 1, 4, 2]\n",
    "print(\"Is sample_list_1 sorted?\", is_sorted(sample_list_1))\n",
    "print(\"Is sample_list_2 sorted?\", is_sorted(sample_list_2))"
   ]
  },
  {
   "cell_type": "code",
   "execution_count": 65,
   "metadata": {},
   "outputs": [
    {
     "data": {
      "text/plain": [
       "[1, 3, 5, 7, 9, 10]"
      ]
     },
     "execution_count": 65,
     "metadata": {},
     "output_type": "execute_result"
    }
   ],
   "source": [
    "list1 = [1,2,3,4,5,6,7,8,9,10]\n",
    "list2 = [2,4,6,8]\n",
    "result = list(filter(lambda x : x not in list2 , list1))\n",
    "result"
   ]
  },
  {
   "cell_type": "code",
   "execution_count": 66,
   "metadata": {},
   "outputs": [
    {
     "data": {
      "text/plain": [
       "[]"
      ]
     },
     "execution_count": 66,
     "metadata": {},
     "output_type": "execute_result"
    }
   ],
   "source": [
    "list1 = [1,2,3,4,5,6,7,8,9,10]\n",
    "list2 = [2,4,6,8]\n",
    "result = list(filter(lambda x : x not in list1 , list2))\n",
    "result"
   ]
  },
  {
   "cell_type": "code",
   "execution_count": 67,
   "metadata": {},
   "outputs": [
    {
     "data": {
      "text/plain": [
       "((223, 33), (1416, 55), (2345, 34))"
      ]
     },
     "execution_count": 67,
     "metadata": {},
     "output_type": "execute_result"
    }
   ],
   "source": [
    "tuple_str = ((\"223\",\"ABCD\",\"33\") , (\"1416\",\"EFGH\",\"55\") , (\"2345\",\"WERT\",\"34\"))\n",
    "result = tuple(map(lambda x : (int(x[0]) , int(x[2])) , tuple_str))\n",
    "result"
   ]
  },
  {
   "cell_type": "code",
   "execution_count": 68,
   "metadata": {},
   "outputs": [
    {
     "data": {
      "text/plain": [
       "((223, 33), (1416, 55), (2345, 34))"
      ]
     },
     "execution_count": 68,
     "metadata": {},
     "output_type": "execute_result"
    }
   ],
   "source": [
    "tuple_str = ((\"223\",\"ABCD\",\"33\") , (\"1416\",\"EFGH\",\"55\") , (\"2345\",\"WERT\",\"34\"))\n",
    "result = tuple(map(lambda x : (int(x[0]) , int(x[2])),tuple_str))\n",
    "result"
   ]
  },
  {
   "cell_type": "code",
   "execution_count": 69,
   "metadata": {},
   "outputs": [
    {
     "data": {
      "text/plain": [
       "{3: 4, 4: 2, 5: 3, 8: 2, 0: 2, 1: 1, 2: 2}"
      ]
     },
     "execution_count": 69,
     "metadata": {},
     "output_type": "execute_result"
    }
   ],
   "source": [
    "nums = [3,4,5,8,0,3,8,5,0,3,1,5,2,3,4,2]\n",
    "result = dict(map(lambda x : (x , list(nums).count(x)) , nums))\n",
    "result"
   ]
  },
  {
   "cell_type": "code",
   "execution_count": 70,
   "metadata": {},
   "outputs": [
    {
     "data": {
      "text/plain": [
       "{3: 4, 4: 2, 5: 3, 8: 2, 0: 2, 1: 1, 2: 2}"
      ]
     },
     "execution_count": 70,
     "metadata": {},
     "output_type": "execute_result"
    }
   ],
   "source": [
    "nums = [3,4,5,8,0,3,8,5,0,3,1,5,2,3,4,2]\n",
    "result = dict(map(lambda x : (x , list(nums).count(x)),nums))\n",
    "result"
   ]
  },
  {
   "cell_type": "code",
   "execution_count": 71,
   "metadata": {},
   "outputs": [
    {
     "data": {
      "text/plain": [
       "{3: 4, 4: 2, 5: 3, 8: 2, 0: 2, 1: 1, 2: 2}"
      ]
     },
     "execution_count": 71,
     "metadata": {},
     "output_type": "execute_result"
    }
   ],
   "source": [
    "nums = [3,4,5,8,0,3,8,5,0,3,1,5,2,3,4,2]\n",
    "result = dict(map(lambda x : (x , list(nums).count(x)),nums))\n",
    "result"
   ]
  },
  {
   "cell_type": "code",
   "execution_count": 72,
   "metadata": {},
   "outputs": [
    {
     "data": {
      "text/plain": [
       "[12, 15, 18]"
      ]
     },
     "execution_count": 72,
     "metadata": {},
     "output_type": "execute_result"
    }
   ],
   "source": [
    "l1 = [1,2,3]\n",
    "l2 = [4,5,6]\n",
    "l3 = [7,8,9]\n",
    "result = list(map(lambda x1,x2,x3 : x1+x2+x3 , l1,l2,l3))\n",
    "result"
   ]
  },
  {
   "cell_type": "code",
   "execution_count": 73,
   "metadata": {},
   "outputs": [
    {
     "data": {
      "text/plain": [
       "[12, 15, 18]"
      ]
     },
     "execution_count": 73,
     "metadata": {},
     "output_type": "execute_result"
    }
   ],
   "source": [
    "l1 = [1,2,3]\n",
    "l2 = [4,5,6]\n",
    "l3 = [7,8,9]\n",
    "result = list(map(lambda x1,x2,x3 : x1+x2+x3 ,l1 , l2 ,l3))\n",
    "result"
   ]
  },
  {
   "cell_type": "code",
   "execution_count": 74,
   "metadata": {},
   "outputs": [
    {
     "data": {
      "text/plain": [
       "[12, 15, 18]"
      ]
     },
     "execution_count": 74,
     "metadata": {},
     "output_type": "execute_result"
    }
   ],
   "source": [
    "l1 = [1,2,3]\n",
    "l2 = [4,5,6]\n",
    "l3 = [7,8,9]\n",
    "result = list(map(lambda x1,x2,x3 : x1+x2+x3 , l1,l2,l3))\n",
    "result"
   ]
  },
  {
   "cell_type": "code",
   "execution_count": 75,
   "metadata": {},
   "outputs": [
    {
     "data": {
      "text/plain": [
       "[['y', 'e', 'l', 'l', 'o', 'w'],\n",
       " ['b', 'l', 'u', 'e'],\n",
       " ['t', 'r', 'i', 'c', 'o', 'l', 'o', 'r']]"
      ]
     },
     "execution_count": 75,
     "metadata": {},
     "output_type": "execute_result"
    }
   ],
   "source": [
    "l1 = [\"yellow\",\"blue\",\"tricolor\"]\n",
    "x = list(map(list , l1))\n",
    "x"
   ]
  },
  {
   "cell_type": "code",
   "execution_count": 76,
   "metadata": {},
   "outputs": [
    {
     "data": {
      "text/plain": [
       "[['y', 'e', 'l', 'l', 'o', 'w'],\n",
       " ['b', 'l', 'u', 'e'],\n",
       " ['t', 'r', 'i', 'c', 'o', 'l', 'o', 'r']]"
      ]
     },
     "execution_count": 76,
     "metadata": {},
     "output_type": "execute_result"
    }
   ],
   "source": [
    "l1 = [\"yellow\",\"blue\",\"tricolor\"]\n",
    "x = list(map(list , l1))\n",
    "x"
   ]
  },
  {
   "cell_type": "code",
   "execution_count": 77,
   "metadata": {},
   "outputs": [
    {
     "data": {
      "text/plain": [
       "[['y', 'e', 'l', 'l', 'o', 'w'],\n",
       " ['b', 'l', 'u', 'e'],\n",
       " ['t', 'r', 'i', 'c', 'o', 'l', 'o', 'r']]"
      ]
     },
     "execution_count": 77,
     "metadata": {},
     "output_type": "execute_result"
    }
   ],
   "source": [
    "l1 = [\"yellow\",\"blue\",\"tricolor\"]\n",
    "x = list(map(list , l1))\n",
    "x"
   ]
  },
  {
   "cell_type": "code",
   "execution_count": 78,
   "metadata": {},
   "outputs": [
    {
     "data": {
      "text/plain": [
       "[144, 225, 324]"
      ]
     },
     "execution_count": 78,
     "metadata": {},
     "output_type": "execute_result"
    }
   ],
   "source": [
    "l1 = [12,15,18]\n",
    "result = list(map(lambda x : x**2 , l1))\n",
    "result"
   ]
  },
  {
   "cell_type": "code",
   "execution_count": 79,
   "metadata": {},
   "outputs": [
    {
     "data": {
      "text/plain": [
       "[529, 625, 900]"
      ]
     },
     "execution_count": 79,
     "metadata": {},
     "output_type": "execute_result"
    }
   ],
   "source": [
    "l1 = [23,25,30]\n",
    "result = list(map(lambda x : x**2 , l1))\n",
    "result"
   ]
  },
  {
   "cell_type": "code",
   "execution_count": 80,
   "metadata": {},
   "outputs": [
    {
     "data": {
      "text/plain": [
       "[8, 35937, 85184]"
      ]
     },
     "execution_count": 80,
     "metadata": {},
     "output_type": "execute_result"
    }
   ],
   "source": [
    "l1 = [2,33,44]\n",
    "result = list(map(lambda x : x**3 , l1))\n",
    "result\n"
   ]
  },
  {
   "cell_type": "code",
   "execution_count": 81,
   "metadata": {},
   "outputs": [
    {
     "name": "stdout",
     "output_type": "stream",
     "text": [
      "[4]\n",
      "[1]\n"
     ]
    },
    {
     "data": {
      "text/plain": [
       "[4, 1]"
      ]
     },
     "execution_count": 81,
     "metadata": {},
     "output_type": "execute_result"
    }
   ],
   "source": [
    "l1 = [2,3,4]\n",
    "l2 = [1,2,3]\n",
    "l3 = list(set(l1) - set(l2))\n",
    "l4 = list(set(l2) - set(l1))\n",
    "print(l3)\n",
    "print(l4)\n",
    "l5 = l3 + l4\n",
    "l5"
   ]
  },
  {
   "cell_type": "code",
   "execution_count": 83,
   "metadata": {},
   "outputs": [
    {
     "name": "stdout",
     "output_type": "stream",
     "text": [
      "List 1: [1, 2, 3, 4, 5]\n",
      "List 2: [5, 4, 3, 2, 1]\n",
      "Sum of corresponding elements: [6, 6, 6, 6, 6]\n",
      "Differences between corresponding elements: [-4, -2, 0, 2, 4]\n"
     ]
    }
   ],
   "source": [
    "list1 = [1, 2, 3, 4, 5]\n",
    "list2 = [5, 4, 3, 2, 1]\n",
    "add = list(map(lambda x1,x2 : x1+x2 , list1 , list2))\n",
    "sub = list(map(lambda x1,x2 : x1-x2 , list1 , list2))\n",
    "print(\"List 1:\", list1)\n",
    "print(\"List 2:\", list2)\n",
    "print(\"Sum of corresponding elements:\", add)\n",
    "print(\"Differences between corresponding elements:\", sub)"
   ]
  },
  {
   "cell_type": "code",
   "execution_count": 84,
   "metadata": {},
   "outputs": [
    {
     "name": "stdout",
     "output_type": "stream",
     "text": [
      "List 1: [1, 2, 3, 4, 5]\n",
      "List 2: [5, 4, 3, 2, 1]\n",
      "Sum of corresponding elements: [6, 6, 6, 6, 6]\n",
      "Differences between corresponding elements: [-4, -2, 0, 2, 4]\n"
     ]
    }
   ],
   "source": [
    "list1 = [1, 2, 3, 4, 5]\n",
    "list2 = [5, 4, 3, 2, 1]\n",
    "add = list(map(lambda x1,x2 : x1+x2 , list1 ,list2))\n",
    "sub = list(map(lambda x1,x2 : x1-x2 , list1 , list2))\n",
    "print(\"List 1:\", list1)\n",
    "print(\"List 2:\", list2)\n",
    "print(\"Sum of corresponding elements:\", add)\n",
    "print(\"Differences between corresponding elements:\", sub)"
   ]
  },
  {
   "cell_type": "code",
   "execution_count": 88,
   "metadata": {},
   "outputs": [
    {
     "data": {
      "text/plain": [
       "15"
      ]
     },
     "execution_count": 88,
     "metadata": {},
     "output_type": "execute_result"
    }
   ],
   "source": [
    "num_array = [1, 2, 3, 4, 5]\n",
    "sum_result = sum(map(lambda x : x , num_array))\n",
    "sum_result"
   ]
  },
  {
   "cell_type": "code",
   "execution_count": 90,
   "metadata": {},
   "outputs": [
    {
     "data": {
      "text/plain": [
       "21"
      ]
     },
     "execution_count": 90,
     "metadata": {},
     "output_type": "execute_result"
    }
   ],
   "source": [
    "num_array = [1, 2, 3, 4, 5 , 6]\n",
    "sum_result = sum(map(lambda x : x , num_array ))\n",
    "sum_result"
   ]
  },
  {
   "cell_type": "code",
   "execution_count": 91,
   "metadata": {},
   "outputs": [
    {
     "data": {
      "text/plain": [
       "28"
      ]
     },
     "execution_count": 91,
     "metadata": {},
     "output_type": "execute_result"
    }
   ],
   "source": [
    "num_array = [1, 2, 3, 4, 5 , 6 , 7]\n",
    "sum_result = sum(map(lambda x : x , num_array))\n",
    "sum_result"
   ]
  },
  {
   "cell_type": "code",
   "execution_count": 92,
   "metadata": {},
   "outputs": [
    {
     "data": {
      "text/plain": [
       "2"
      ]
     },
     "execution_count": 92,
     "metadata": {},
     "output_type": "execute_result"
    }
   ],
   "source": [
    "list1 = [1, 2, 3, 4, 5]\n",
    "list2 = [1, 2, 4, 8, 9]\n",
    "\n",
    "sum_list = sum(map(lambda x,y : x == y , list1 , list2))\n",
    "sum_list"
   ]
  },
  {
   "cell_type": "code",
   "execution_count": 94,
   "metadata": {},
   "outputs": [
    {
     "data": {
      "text/plain": [
       "2"
      ]
     },
     "execution_count": 94,
     "metadata": {},
     "output_type": "execute_result"
    }
   ],
   "source": [
    "list1 = [1, 2, 3, 4, 5]\n",
    "list2 = [1, 2, 4, 8, 9]\n",
    "\n",
    "sum_list = sum(map(lambda x,y : x==y , list1 , list2))\n",
    "sum_list"
   ]
  },
  {
   "cell_type": "code",
   "execution_count": 95,
   "metadata": {},
   "outputs": [
    {
     "data": {
      "text/plain": [
       "2"
      ]
     },
     "execution_count": 95,
     "metadata": {},
     "output_type": "execute_result"
    }
   ],
   "source": [
    "list1 = [1, 2, 3, 4, 5]\n",
    "list2 = [1, 2, 4, 8, 9]\n",
    "\n",
    "sum_list = sum(map(lambda x,y : x==y , list1 , list2))\n",
    "sum_list"
   ]
  },
  {
   "cell_type": "code",
   "execution_count": 96,
   "metadata": {},
   "outputs": [
    {
     "data": {
      "text/plain": [
       "[['p', 'y', 't', 'h', 'o', 'n'],\n",
       " ['m', 'a', 'c', 'h', 'i', 'n', 'e'],\n",
       " ['l', 'e', 'a', 'r', 'n', 'i', 'n', 'g']]"
      ]
     },
     "execution_count": 96,
     "metadata": {},
     "output_type": "execute_result"
    }
   ],
   "source": [
    "str1 = [\"python\",\"machine\",\"learning\"]\n",
    "result = list(map(list , str1))\n",
    "result"
   ]
  },
  {
   "cell_type": "code",
   "execution_count": 97,
   "metadata": {},
   "outputs": [
    {
     "data": {
      "text/plain": [
       "[['p', 'y', 't', 'h', 'o', 'n'],\n",
       " ['m', 'a', 'c', 'h', 'i', 'n', 'e'],\n",
       " ['l', 'e', 'a', 'r', 'n', 'i', 'n', 'g']]"
      ]
     },
     "execution_count": 97,
     "metadata": {},
     "output_type": "execute_result"
    }
   ],
   "source": [
    "str1 = [\"python\",\"machine\",\"learning\"]\n",
    "result = list(map(list , str1))\n",
    "result"
   ]
  },
  {
   "cell_type": "code",
   "execution_count": 98,
   "metadata": {},
   "outputs": [
    {
     "data": {
      "text/plain": [
       "[['p', 'y', 't', 'h', 'o', 'n'],\n",
       " ['m', 'a', 'c', 'h', 'i', 'n', 'e'],\n",
       " ['l', 'e', 'a', 'r', 'n', 'i', 'n', 'g']]"
      ]
     },
     "execution_count": 98,
     "metadata": {},
     "output_type": "execute_result"
    }
   ],
   "source": [
    "str1 = [\"python\",\"machine\",\"learning\"]\n",
    "result = list(map(list , str1))\n",
    "result"
   ]
  },
  {
   "cell_type": "code",
   "execution_count": 100,
   "metadata": {},
   "outputs": [
    {
     "data": {
      "text/plain": [
       "['python machine', 'learning data science']"
      ]
     },
     "execution_count": 100,
     "metadata": {},
     "output_type": "execute_result"
    }
   ],
   "source": [
    "list_tup = [(\"python\",\"machine\"),(\"learning\",\"data science\")]\n",
    "result = list(map(\" \".join , list_tup))\n",
    "result"
   ]
  },
  {
   "cell_type": "code",
   "execution_count": 101,
   "metadata": {},
   "outputs": [
    {
     "data": {
      "text/plain": [
       "['python machine', 'learning data science']"
      ]
     },
     "execution_count": 101,
     "metadata": {},
     "output_type": "execute_result"
    }
   ],
   "source": [
    "list_tup = [(\"python\",\"machine\"),(\"learning\",\"data science\")]\n",
    "result = list(map(\" \".join , list_tup))\n",
    "result"
   ]
  },
  {
   "cell_type": "code",
   "execution_count": 102,
   "metadata": {},
   "outputs": [
    {
     "data": {
      "text/plain": [
       "['python machine', 'learning data science']"
      ]
     },
     "execution_count": 102,
     "metadata": {},
     "output_type": "execute_result"
    }
   ],
   "source": [
    "list_tup = [(\"python\",\"machine\"),(\"learning\",\"data science\")]\n",
    "result = list(map(\" \".join , list_tup))\n",
    "result"
   ]
  },
  {
   "cell_type": "code",
   "execution_count": 103,
   "metadata": {},
   "outputs": [
    {
     "data": {
      "text/plain": [
       "[4, 5, 6]"
      ]
     },
     "execution_count": 103,
     "metadata": {},
     "output_type": "execute_result"
    }
   ],
   "source": [
    "l1 = [1,2,3]\n",
    "l2 = [1,2,4,5,6]\n",
    "result = list(filter(lambda x : x not in l1 , l2))\n",
    "result"
   ]
  },
  {
   "cell_type": "code",
   "execution_count": 105,
   "metadata": {},
   "outputs": [
    {
     "data": {
      "text/plain": [
       "[3]"
      ]
     },
     "execution_count": 105,
     "metadata": {},
     "output_type": "execute_result"
    }
   ],
   "source": [
    "l1 = [1,2,3]\n",
    "l2 = [1,2,4,5,6]\n",
    "result = list(filter(lambda x : x not in l2 , l1))\n",
    "result"
   ]
  },
  {
   "cell_type": "code",
   "execution_count": 106,
   "metadata": {},
   "outputs": [
    {
     "data": {
      "text/plain": [
       "[4, 5, 6]"
      ]
     },
     "execution_count": 106,
     "metadata": {},
     "output_type": "execute_result"
    }
   ],
   "source": [
    "l1 = [1,2,3]\n",
    "l2 = [1,2,4,5,6]\n",
    "result = list(filter(lambda x : x not in l1 , l2))\n",
    "result"
   ]
  },
  {
   "cell_type": "code",
   "execution_count": 108,
   "metadata": {},
   "outputs": [
    {
     "data": {
      "text/plain": [
       "'H   b h h e k   w h e r e   r e   u   n   w h   r e   u   n g'"
      ]
     },
     "execution_count": 108,
     "metadata": {},
     "output_type": "execute_result"
    }
   ],
   "source": [
    "from nltk.corpus import stopwords\n",
    "stopword_list = stopwords.words(\"english\")\n",
    "\n",
    "string = \"Hi abhishek where are you and what are you doing\"\n",
    "result = list(filter(lambda x : x.lower() not in stopword_list , string))\n",
    "final = \" \".join(result)\n",
    "final"
   ]
  },
  {
   "cell_type": "code",
   "execution_count": 110,
   "metadata": {},
   "outputs": [
    {
     "data": {
      "text/plain": [
       "'H   b h h e k   w h e r e   r e   u   n   w h   r e   u   n g   w h e r e   r e   u   n   w h   r e   u'"
      ]
     },
     "execution_count": 110,
     "metadata": {},
     "output_type": "execute_result"
    }
   ],
   "source": [
    "from nltk.corpus import stopwords\n",
    "stopword_list = stopwords.words(\"english\")\n",
    "string = \"Hi abhishek where are you and what are you doing where are you and what are you\"\n",
    "result = list(filter(lambda x : x.lower() not in stopword_list , string))\n",
    "final = \" \".join(result)\n",
    "final"
   ]
  },
  {
   "cell_type": "code",
   "execution_count": 112,
   "metadata": {},
   "outputs": [
    {
     "data": {
      "text/plain": [
       "'H   b h h e k   w h e r e   r e   u   n   w h   r e   u   n   w h   r e   u   n   w h   r e   u   n'"
      ]
     },
     "execution_count": 112,
     "metadata": {},
     "output_type": "execute_result"
    }
   ],
   "source": [
    "from nltk.corpus import stopwords\n",
    "stopword_list = stopwords.words(\"english\")\n",
    "string = \"Hi abhishek where are you and what are you and what are you and what are you and\"\n",
    "result = list(filter(lambda x : x.lower() not in stopword_list , string))\n",
    "final = \" \".join(result)\n",
    "final"
   ]
  },
  {
   "cell_type": "code",
   "execution_count": 113,
   "metadata": {},
   "outputs": [
    {
     "data": {
      "text/plain": [
       "[1, 2]"
      ]
     },
     "execution_count": 113,
     "metadata": {},
     "output_type": "execute_result"
    }
   ],
   "source": [
    "l1 = [1,2,3]\n",
    "l2 = [1,2,4,5,6]\n",
    "result = list(filter(lambda x : x in l2 , l1))\n",
    "result"
   ]
  },
  {
   "cell_type": "code",
   "execution_count": 114,
   "metadata": {},
   "outputs": [
    {
     "data": {
      "text/plain": [
       "[1, 2]"
      ]
     },
     "execution_count": 114,
     "metadata": {},
     "output_type": "execute_result"
    }
   ],
   "source": [
    "l1 = [1,2,3]\n",
    "l2 = [1,2,4,5,6]\n",
    "result = list(filter(lambda x : x in l1 , l2))\n",
    "result"
   ]
  },
  {
   "cell_type": "code",
   "execution_count": 115,
   "metadata": {},
   "outputs": [
    {
     "data": {
      "text/plain": [
       "[1, 2]"
      ]
     },
     "execution_count": 115,
     "metadata": {},
     "output_type": "execute_result"
    }
   ],
   "source": [
    "l1 = [1,2,3]\n",
    "l2 = [1,2,4,5,6]\n",
    "result = list(filter(lambda x : x in l1 ,l2))\n",
    "result\n"
   ]
  },
  {
   "cell_type": "code",
   "execution_count": 116,
   "metadata": {},
   "outputs": [
    {
     "data": {
      "text/plain": [
       "[1, 5]"
      ]
     },
     "execution_count": 116,
     "metadata": {},
     "output_type": "execute_result"
    }
   ],
   "source": [
    "l1 = [1,2,4,5,6]\n",
    "result = list(filter(lambda x : x%2!=0 , l1))\n",
    "result"
   ]
  },
  {
   "cell_type": "code",
   "execution_count": 117,
   "metadata": {},
   "outputs": [
    {
     "data": {
      "text/plain": [
       "[2, 4, 6]"
      ]
     },
     "execution_count": 117,
     "metadata": {},
     "output_type": "execute_result"
    }
   ],
   "source": [
    "l1 = [1,2,4,5,6]\n",
    "result = list(filter(lambda x : x%2==0  , l1))\n",
    "result"
   ]
  },
  {
   "cell_type": "code",
   "execution_count": 118,
   "metadata": {},
   "outputs": [
    {
     "data": {
      "text/plain": [
       "[1, 3, 5, 7, 9, 11, 13, 15]"
      ]
     },
     "execution_count": 118,
     "metadata": {},
     "output_type": "execute_result"
    }
   ],
   "source": [
    "l1 = [1,2,3,4,5,6,7,8,9,10,11,12,13,14,15,16]\n",
    "result = list(filter(lambda x : x%2!=0 , l1))\n",
    "result"
   ]
  },
  {
   "cell_type": "code",
   "execution_count": 119,
   "metadata": {},
   "outputs": [
    {
     "data": {
      "text/plain": [
       "[2, 4, 6, 8, 10, 12, 14, 16]"
      ]
     },
     "execution_count": 119,
     "metadata": {},
     "output_type": "execute_result"
    }
   ],
   "source": [
    "l1 = [1,2,3,4,5,6,7,8,9,10,11,12,13,14,15,16]\n",
    "result = list(filter(lambda x : x%2==0 , l1))\n",
    "result"
   ]
  },
  {
   "cell_type": "code",
   "execution_count": 120,
   "metadata": {},
   "outputs": [
    {
     "name": "stdout",
     "output_type": "stream",
     "text": [
      "Given strings are palindrome\n"
     ]
    }
   ],
   "source": [
    "x = input(\"Enter a word:\")\n",
    "if x[::] == x[::-1]:\n",
    "    print(\"Given strings are palindrome\")\n",
    "else:\n",
    "    print(\"Given strings are not palindrome\")"
   ]
  },
  {
   "cell_type": "code",
   "execution_count": 121,
   "metadata": {},
   "outputs": [
    {
     "name": "stdout",
     "output_type": "stream",
     "text": [
      "P\n",
      "y\n",
      "t\n",
      "h\n",
      "o\n",
      "n\n"
     ]
    }
   ],
   "source": [
    "str1 = \"Python\"\n",
    "for i in str1:\n",
    "    print(i)"
   ]
  },
  {
   "cell_type": "code",
   "execution_count": 122,
   "metadata": {},
   "outputs": [
    {
     "name": "stdout",
     "output_type": "stream",
     "text": [
      "P\n",
      "y\n",
      "t\n",
      "h\n",
      "o\n",
      "n\n"
     ]
    }
   ],
   "source": [
    "for i in str1:\n",
    "    print(i , end=\"\\n\")"
   ]
  },
  {
   "cell_type": "code",
   "execution_count": 123,
   "metadata": {},
   "outputs": [
    {
     "name": "stdout",
     "output_type": "stream",
     "text": [
      "P*y*t*h*o*n*"
     ]
    }
   ],
   "source": [
    "for i in str1:\n",
    "    print(i , end=\"*\")"
   ]
  },
  {
   "cell_type": "code",
   "execution_count": 124,
   "metadata": {},
   "outputs": [
    {
     "name": "stdout",
     "output_type": "stream",
     "text": [
      "0 P\n",
      "1 y\n",
      "2 t\n",
      "3 h\n",
      "4 o\n",
      "5 n\n"
     ]
    }
   ],
   "source": [
    "for index, value in enumerate(str1):\n",
    "    print(index, value)"
   ]
  },
  {
   "cell_type": "code",
   "execution_count": 125,
   "metadata": {},
   "outputs": [
    {
     "name": "stdout",
     "output_type": "stream",
     "text": [
      "char at index 0 is P\n",
      "char at index 1 is y\n",
      "char at index 2 is t\n",
      "char at index 3 is h\n",
      "char at index 4 is o\n",
      "char at index 5 is n\n"
     ]
    }
   ],
   "source": [
    "for index, value in enumerate(str1):\n",
    "    print(f\"char at index {index} is {value}\")"
   ]
  },
  {
   "cell_type": "code",
   "execution_count": 126,
   "metadata": {},
   "outputs": [
    {
     "name": "stdout",
     "output_type": "stream",
     "text": [
      "char at index 0 is P\n",
      "\n",
      "char at index 1 is y\n",
      "\n",
      "char at index 2 is t\n",
      "\n",
      "char at index 3 is h\n",
      "\n",
      "char at index 4 is o\n",
      "\n",
      "char at index 5 is n\n",
      "\n"
     ]
    }
   ],
   "source": [
    "for index, value in enumerate(str1):\n",
    "    print(f\"char at index {index} is {value}\")\n",
    "    print()"
   ]
  },
  {
   "cell_type": "code",
   "execution_count": 127,
   "metadata": {},
   "outputs": [
    {
     "name": "stdout",
     "output_type": "stream",
     "text": [
      "CHAR at index 0 is pune\n",
      "\n",
      "CHAR at index 1 is mumbai\n",
      "\n",
      "CHAR at index 2 is delhi\n",
      "\n",
      "CHAR at index 3 is Chennai\n",
      "\n",
      "CHAR at index 4 is Hyderabad\n",
      "\n"
     ]
    }
   ],
   "source": [
    "city_names=[\"pune\",\"mumbai\",\"delhi\",\"Chennai\",\"Hyderabad\"]\n",
    "for index , value in enumerate(city_names):\n",
    "    print(f\"CHAR at index {index} is {value}\")\n",
    "    print()"
   ]
  },
  {
   "cell_type": "code",
   "execution_count": 1,
   "metadata": {},
   "outputs": [
    {
     "name": "stdout",
     "output_type": "stream",
     "text": [
      "list of intergers:  [3, 4, 5, 3, 100, 200]\n",
      "list of float:  [2.9, 3.14]\n",
      "list of string:  ['python', 'raj']\n"
     ]
    }
   ],
   "source": [
    "list1=[3,4,5,\"python\",2.9,3,\"raj\",100,200,3.14]\n",
    "\n",
    "int_list=[]   # [3,4,5]\n",
    "float_list=[]  #[2.9]\n",
    "str_list=[]  #[\"python\"]\n",
    "for i in list1:\n",
    "    if type(i) == int:\n",
    "        int_list.append(i)\n",
    "    elif type(i) == float:\n",
    "        float_list.append(i)\n",
    "    else:\n",
    "        str_list.append(i)\n",
    "print(\"list of intergers: \", int_list)\n",
    "print(\"list of float: \", float_list)\n",
    "print(\"list of string: \", str_list)"
   ]
  },
  {
   "cell_type": "code",
   "execution_count": 2,
   "metadata": {},
   "outputs": [
    {
     "name": "stdout",
     "output_type": "stream",
     "text": [
      "list of intergers:  [3, 4, 5, 3, 100, 200]\n",
      "list of float:  [2.9, 3.14]\n",
      "list of string:  ['python', 'raj']\n"
     ]
    }
   ],
   "source": [
    "int_list = [i for i in list1 if type(i) == int]\n",
    "float_list = [i for i in list1 if type(i) == float]\n",
    "str_list = [i for i in list1 if type(i) == str]\n",
    "print(\"list of intergers: \", int_list)\n",
    "print(\"list of float: \", float_list)\n",
    "print(\"list of string: \", str_list)"
   ]
  },
  {
   "cell_type": "code",
   "execution_count": 3,
   "metadata": {},
   "outputs": [
    {
     "name": "stdout",
     "output_type": "stream",
     "text": [
      "5\n",
      "6\n",
      "7\n",
      "8\n",
      "9\n"
     ]
    }
   ],
   "source": [
    "for i in range(5,10):\n",
    "    print(i)"
   ]
  },
  {
   "cell_type": "code",
   "execution_count": 4,
   "metadata": {},
   "outputs": [
    {
     "name": "stdout",
     "output_type": "stream",
     "text": [
      "i== 5\n",
      "i== 6\n",
      "i== 7\n",
      "Number found\n",
      "i== 8\n",
      "i== 9\n"
     ]
    }
   ],
   "source": [
    "for i in range(5,10):\n",
    "    print(\"i==\",i)\n",
    "    if i == 7:\n",
    "        print(\"Number found\")"
   ]
  },
  {
   "cell_type": "code",
   "execution_count": 5,
   "metadata": {},
   "outputs": [
    {
     "name": "stdout",
     "output_type": "stream",
     "text": [
      "i== 5\n",
      "i== 6\n",
      "i== 7\n",
      "Number found\n",
      "Hello\n"
     ]
    }
   ],
   "source": [
    "for i in range(5,10):\n",
    "    print(\"i==\",i)\n",
    "    if i == 7:\n",
    "        print(\"Number found\")\n",
    "        break\n",
    "print(\"Hello\")"
   ]
  },
  {
   "cell_type": "code",
   "execution_count": 6,
   "metadata": {},
   "outputs": [
    {
     "name": "stdout",
     "output_type": "stream",
     "text": [
      "i== 5\n",
      "i== 6\n",
      "i== 7\n",
      "Hello\n"
     ]
    }
   ],
   "source": [
    "for i in range(5,10):\n",
    "    print(\"i==\",i)\n",
    "    if i == 7:\n",
    "        break\n",
    "        print(\"Number found\")\n",
    "print(\"Hello\")"
   ]
  },
  {
   "cell_type": "code",
   "execution_count": 7,
   "metadata": {},
   "outputs": [
    {
     "name": "stdout",
     "output_type": "stream",
     "text": [
      "['7709050463', '9881284917']\n"
     ]
    }
   ],
   "source": [
    "text = \"\"\"My mobile is \n",
    "        7709050463\n",
    "        9881284917\n",
    "        Email Id : maheshraje@gmail.com\n",
    "        Todays date : 26-07-2023\"\"\"\n",
    "import re\n",
    "mob_no = re.findall(\"[0-9]{10}\",text)\n",
    "print(mob_no)"
   ]
  },
  {
   "cell_type": "code",
   "execution_count": 8,
   "metadata": {},
   "outputs": [
    {
     "data": {
      "text/plain": [
       "['77090504', '98812849']"
      ]
     },
     "execution_count": 8,
     "metadata": {},
     "output_type": "execute_result"
    }
   ],
   "source": [
    "mob_no = re.findall(\"[0-9]{8}\",text)\n",
    "mob_no"
   ]
  },
  {
   "cell_type": "code",
   "execution_count": 9,
   "metadata": {},
   "outputs": [
    {
     "data": {
      "text/plain": [
       "['77090', '50463', '98812', '84917']"
      ]
     },
     "execution_count": 9,
     "metadata": {},
     "output_type": "execute_result"
    }
   ],
   "source": [
    "mob_no = re.findall(\"[0-9]{5}\",text)\n",
    "mob_no"
   ]
  },
  {
   "cell_type": "code",
   "execution_count": 10,
   "metadata": {},
   "outputs": [
    {
     "data": {
      "text/plain": [
       "['77',\n",
       " '09',\n",
       " '05',\n",
       " '04',\n",
       " '63',\n",
       " '98',\n",
       " '81',\n",
       " '28',\n",
       " '49',\n",
       " '17',\n",
       " '26',\n",
       " '07',\n",
       " '20',\n",
       " '23']"
      ]
     },
     "execution_count": 10,
     "metadata": {},
     "output_type": "execute_result"
    }
   ],
   "source": [
    "mob_no = re.findall(\"[0-9]{2}\",text)\n",
    "mob_no"
   ]
  },
  {
   "cell_type": "code",
   "execution_count": 12,
   "metadata": {},
   "outputs": [
    {
     "data": {
      "text/plain": [
       "['7',\n",
       " '7',\n",
       " '0',\n",
       " '9',\n",
       " '0',\n",
       " '5',\n",
       " '0',\n",
       " '4',\n",
       " '6',\n",
       " '3',\n",
       " '9',\n",
       " '8',\n",
       " '8',\n",
       " '1',\n",
       " '2',\n",
       " '8',\n",
       " '4',\n",
       " '9',\n",
       " '1',\n",
       " '7',\n",
       " '2',\n",
       " '6',\n",
       " '0',\n",
       " '7',\n",
       " '2',\n",
       " '0',\n",
       " '2',\n",
       " '3']"
      ]
     },
     "execution_count": 12,
     "metadata": {},
     "output_type": "execute_result"
    }
   ],
   "source": [
    "mob_no = re.findall(\"[0-9]{1}\",text)\n",
    "mob_no"
   ]
  },
  {
   "cell_type": "code",
   "execution_count": 13,
   "metadata": {},
   "outputs": [
    {
     "data": {
      "text/plain": [
       "'My mobile is \\n        7709050463\\n        9881284917\\n        Email Id : maheshraje@gmail.com\\n        Todays date : 26-07-2023'"
      ]
     },
     "execution_count": 13,
     "metadata": {},
     "output_type": "execute_result"
    }
   ],
   "source": [
    "text"
   ]
  },
  {
   "cell_type": "code",
   "execution_count": 15,
   "metadata": {},
   "outputs": [
    {
     "data": {
      "text/plain": [
       "['26-07-2023']"
      ]
     },
     "execution_count": 15,
     "metadata": {},
     "output_type": "execute_result"
    }
   ],
   "source": [
    "date = re.findall(\"[0-9]{2}[-][0-9]{2}[-][0-9]{4}\",text)\n",
    "date"
   ]
  },
  {
   "cell_type": "code",
   "execution_count": 17,
   "metadata": {},
   "outputs": [
    {
     "data": {
      "text/plain": [
       "['26-07-2023', '10-07-2023', '01-06-2022', '19-12-1995']"
      ]
     },
     "execution_count": 17,
     "metadata": {},
     "output_type": "execute_result"
    }
   ],
   "source": [
    "text = \"\"\"My mobile is \n",
    "        7709050463\n",
    "        9881284917\n",
    "        Email Id : maheshraje@gmail.com\n",
    "        Todays date : 26-07-2023\n",
    "        10-07-2023\n",
    "        01-06-2022\n",
    "        19-12-1995\n",
    "       \n",
    "        \"\"\"\n",
    "date = re.findall(\"[0-9]{2}[-][0-9]{2}[-][0-9]{4}\",text)\n",
    "date"
   ]
  },
  {
   "cell_type": "code",
   "execution_count": 18,
   "metadata": {},
   "outputs": [
    {
     "data": {
      "text/plain": [
       "['26-07-2023', '10-07-2023', '01-06-2022', '19-12-1995', '26/07/2023']"
      ]
     },
     "execution_count": 18,
     "metadata": {},
     "output_type": "execute_result"
    }
   ],
   "source": [
    "text = \"\"\"My mobile is \n",
    "        7709050463\n",
    "        9881284917\n",
    "        Email Id : maheshraje@gmail.com\n",
    "        Todays date : 26-07-2023\n",
    "        10-07-2023\n",
    "        01-06-2022\n",
    "        19-12-1995\n",
    "       26/07/2023\n",
    "        \"\"\"\n",
    "date = re.findall(\"[0-9]{2}[-/][0-9]{2}[-/][0-9]{4}\",text)\n",
    "date"
   ]
  },
  {
   "cell_type": "code",
   "execution_count": 19,
   "metadata": {},
   "outputs": [
    {
     "data": {
      "text/plain": [
       "['26-07-2023', '10-07-2023', '01-06-2022', '19-12-1995', '26/07/2023']"
      ]
     },
     "execution_count": 19,
     "metadata": {},
     "output_type": "execute_result"
    }
   ],
   "source": [
    "text = \"\"\"My mobile is \n",
    "        7709050463\n",
    "        9881284917\n",
    "        Email Id : maheshraje@gmail.com\n",
    "        Todays date : 26-07-2023\n",
    "        10-07-2023\n",
    "        01-06-2022\n",
    "        19-12-1995\n",
    "       26/07/2023\n",
    "       56/56/5656\n",
    "       30/34/1234\n",
    "        \"\"\"\n",
    "date = re.findall(\"[0-3][0-9][-/][0-1][0-9][-/][0-9]{4}\",text)\n",
    "date"
   ]
  },
  {
   "cell_type": "code",
   "execution_count": 20,
   "metadata": {},
   "outputs": [
    {
     "data": {
      "text/plain": [
       "['maheshraje@gmail.com']"
      ]
     },
     "execution_count": 20,
     "metadata": {},
     "output_type": "execute_result"
    }
   ],
   "source": [
    "email = re.findall(\"[a-z]{2,20}[@][a-z.]{3,10}\",text)\n",
    "email"
   ]
  },
  {
   "cell_type": "code",
   "execution_count": 25,
   "metadata": {},
   "outputs": [
    {
     "data": {
      "text/plain": [
       "['maheshraje@gmail.com',\n",
       " 'mahesh_raje@gmail.com',\n",
       " 'mahesh-raje@gmail.com',\n",
       " 'mahesh.raje@gmail.com',\n",
       " 'mahesh_raje01@gmail.com',\n",
       " 'mahesh_raje007@gmail.com',\n",
       " 'mahesh.raje1992@yahoo.com',\n",
       " 'mahesh.raje1992@cope.co.in',\n",
       " 'mahesh.raje1992@vctcpune.co.in']"
      ]
     },
     "execution_count": 25,
     "metadata": {},
     "output_type": "execute_result"
    }
   ],
   "source": [
    "text = \"\"\"My mobile is \n",
    "        7709050463\n",
    "        9881284917\n",
    "        Email Id : maheshraje@gmail.com\n",
    "        Todays date : 26-07-2023\n",
    "        10-07-2023\n",
    "        01-06-2022\n",
    "        19-12-1995\n",
    "       26/07/2023\n",
    "       56/56/5656\n",
    "       30/34/1234\n",
    "       mahesh_raje@gmail.com\n",
    "    mahesh-raje@gmail.com  \n",
    "    mahesh.raje@gmail.com  \n",
    "    mahesh_raje01@gmail.com   \n",
    "    mahesh_raje007@gmail.com\n",
    "    mahesh.raje1992@yahoo.com\n",
    "    mahesh.raje1992@cope.co.in\n",
    "    mahesh.raje1992@vctcpune.co.in\n",
    "        \"\"\"\n",
    "email = re.findall(\"[a-z-_.0-9]{2,20}[@][a-z.]{3,15}\",text)\n",
    "email"
   ]
  },
  {
   "cell_type": "code",
   "execution_count": 26,
   "metadata": {},
   "outputs": [
    {
     "data": {
      "text/plain": [
       "['BFYPA9265J']"
      ]
     },
     "execution_count": 26,
     "metadata": {},
     "output_type": "execute_result"
    }
   ],
   "source": [
    "Pancard = '''BFYPA9265J\n",
    "            BGUPA92675'''\n",
    "result = re.findall(\"[A-Z]{5}[0-9]{4}[A-Z]{1}\",Pancard)\n",
    "result"
   ]
  },
  {
   "cell_type": "code",
   "execution_count": 27,
   "metadata": {},
   "outputs": [
    {
     "data": {
      "text/plain": [
       "['26-07-2023']"
      ]
     },
     "execution_count": 27,
     "metadata": {},
     "output_type": "execute_result"
    }
   ],
   "source": [
    "text = \"\"\"My mobile is \n",
    "        7709050463\n",
    "        9881284917\n",
    "        Email Id : maheshraje@gmail.com\n",
    "        Todays date : 26-07-2023\"\"\"\n",
    "date = re.findall(r\"\\d{2}[-]\\d{2}[-]\\d{4}\",text)\n",
    "date"
   ]
  },
  {
   "cell_type": "code",
   "execution_count": 28,
   "metadata": {},
   "outputs": [
    {
     "data": {
      "text/plain": [
       "['7709050463', '9881284917']"
      ]
     },
     "execution_count": 28,
     "metadata": {},
     "output_type": "execute_result"
    }
   ],
   "source": [
    "mob_no = re.findall(r\"\\d{10}\",text)\n",
    "mob_no"
   ]
  },
  {
   "cell_type": "code",
   "execution_count": 29,
   "metadata": {},
   "outputs": [
    {
     "data": {
      "text/plain": [
       "['1234 5678 9876', '9874 3546 8675']"
      ]
     },
     "execution_count": 29,
     "metadata": {},
     "output_type": "execute_result"
    }
   ],
   "source": [
    "text = \"\"\"My mobile is \n",
    "        7709050463\n",
    "        9881284917\n",
    "        Email Id : maheshraje@gmail.com\n",
    "        Todays date : 26-07-2023\n",
    "        1234 5678 9876\n",
    "        9874 3546 8675\"\"\"\n",
    "date = re.findall(r\"\\d{4}[ ]\\d{4}[ ]\\d{4}\",text)\n",
    "date"
   ]
  },
  {
   "cell_type": "code",
   "execution_count": 30,
   "metadata": {},
   "outputs": [
    {
     "data": {
      "text/plain": [
       "['My mo',\n",
       " 'bile ',\n",
       " 'is \\n ',\n",
       " '     ',\n",
       " '\\n    ',\n",
       " '\\n    ',\n",
       " '    E',\n",
       " 'mail ',\n",
       " 'Id : ',\n",
       " 'mahes',\n",
       " 'hraje',\n",
       " '@gmai',\n",
       " 'l.com',\n",
       " '\\n    ',\n",
       " '    T',\n",
       " 'odays',\n",
       " ' date',\n",
       " '\\n    ',\n",
       " '\\n    ']"
      ]
     },
     "execution_count": 30,
     "metadata": {},
     "output_type": "execute_result"
    }
   ],
   "source": [
    "result = re.findall(r\"\\D{5}\",text)\n",
    "result"
   ]
  },
  {
   "cell_type": "code",
   "execution_count": 31,
   "metadata": {},
   "outputs": [
    {
     "data": {
      "text/plain": [
       "['Proje',\n",
       " 'ct de',\n",
       " 'scrip',\n",
       " 'tion ',\n",
       " 'Pytho',\n",
       " 'n-tes',\n",
       " 'serac',\n",
       " 't is ',\n",
       " 'an op',\n",
       " 'tical',\n",
       " ' char',\n",
       " 'acter',\n",
       " ' reco',\n",
       " 'gniti',\n",
       " 'on (O',\n",
       " 'CR) t',\n",
       " 'ool f',\n",
       " 'or py',\n",
       " 'thon.',\n",
       " ' That',\n",
       " ' is, ',\n",
       " 'it wi',\n",
       " 'll re',\n",
       " 'cogni',\n",
       " 'ze an',\n",
       " 'd “re',\n",
       " 'ad” t',\n",
       " 'he te',\n",
       " 'xt em',\n",
       " 'bedde',\n",
       " 'd in ',\n",
       " 'image']"
      ]
     },
     "execution_count": 31,
     "metadata": {},
     "output_type": "execute_result"
    }
   ],
   "source": [
    "a  = 'Project description Python-tesseract is an optical character recognition (OCR) tool for python. That is, it will recognize and “read” the text embedded in images'\n",
    "result = re.findall(r\"\\D{5}\",a)\n",
    "result"
   ]
  },
  {
   "cell_type": "code",
   "execution_count": 32,
   "metadata": {},
   "outputs": [
    {
     "data": {
      "text/plain": [
       "['Proje',\n",
       " 'descr',\n",
       " 'iptio',\n",
       " ' Pyth',\n",
       " 'on-te',\n",
       " 'ssera',\n",
       " 'ct is',\n",
       " ' an o',\n",
       " 'ptica',\n",
       " 'l cha',\n",
       " 'racte',\n",
       " 'r rec',\n",
       " 'ognit',\n",
       " 'ion (',\n",
       " 'OCR) ',\n",
       " 'tool ',\n",
       " 'for p',\n",
       " 'ython',\n",
       " '. Tha',\n",
       " 't is,',\n",
       " ' it w',\n",
       " 'ill r',\n",
       " 'ecogn',\n",
       " 'ize a',\n",
       " 'nd “r',\n",
       " 'ead” ',\n",
       " 'the t',\n",
       " 'ext e',\n",
       " 'mbedd',\n",
       " 'ed in',\n",
       " ' imag']"
      ]
     },
     "execution_count": 32,
     "metadata": {},
     "output_type": "execute_result"
    }
   ],
   "source": [
    "a  = '1243Project 12description12 Python-tesseract is an optical character recognition (OCR) tool for python. That is, it will recognize and “read” the text embedded in images'\n",
    "result = re.findall(r\"\\D{5}\",a)\n",
    "result"
   ]
  },
  {
   "cell_type": "code",
   "execution_count": 33,
   "metadata": {},
   "outputs": [
    {
     "data": {
      "text/plain": [
       "['P',\n",
       " 'r',\n",
       " 'o',\n",
       " 'j',\n",
       " 'e',\n",
       " 'c',\n",
       " 't',\n",
       " ' ',\n",
       " 'd',\n",
       " 'e',\n",
       " 's',\n",
       " 'c',\n",
       " 'r',\n",
       " 'i',\n",
       " 'p',\n",
       " 't',\n",
       " 'i',\n",
       " 'o',\n",
       " 'n',\n",
       " ' ',\n",
       " 'P',\n",
       " 'y',\n",
       " 't',\n",
       " 'h',\n",
       " 'o',\n",
       " 'n',\n",
       " '-',\n",
       " 't',\n",
       " 'e',\n",
       " 's',\n",
       " 's',\n",
       " 'e',\n",
       " 'r',\n",
       " 'a',\n",
       " 'c',\n",
       " 't',\n",
       " ' ',\n",
       " 'i',\n",
       " 's',\n",
       " ' ',\n",
       " 'a',\n",
       " 'n',\n",
       " ' ',\n",
       " 'o',\n",
       " 'p',\n",
       " 't',\n",
       " 'i',\n",
       " 'c',\n",
       " 'a',\n",
       " 'l',\n",
       " ' ',\n",
       " 'c',\n",
       " 'h',\n",
       " 'a',\n",
       " 'r',\n",
       " 'a',\n",
       " 'c',\n",
       " 't',\n",
       " 'e',\n",
       " 'r',\n",
       " ' ',\n",
       " 'r',\n",
       " 'e',\n",
       " 'c',\n",
       " 'o',\n",
       " 'g',\n",
       " 'n',\n",
       " 'i',\n",
       " 't',\n",
       " 'i',\n",
       " 'o',\n",
       " 'n',\n",
       " ' ',\n",
       " '(',\n",
       " 'O',\n",
       " 'C',\n",
       " 'R',\n",
       " ')',\n",
       " ' ',\n",
       " 't',\n",
       " 'o',\n",
       " 'o',\n",
       " 'l',\n",
       " ' ',\n",
       " 'f',\n",
       " 'o',\n",
       " 'r',\n",
       " ' ',\n",
       " 'p',\n",
       " 'y',\n",
       " 't',\n",
       " 'h',\n",
       " 'o',\n",
       " 'n',\n",
       " '.',\n",
       " ' ',\n",
       " 'T',\n",
       " 'h',\n",
       " 'a',\n",
       " 't',\n",
       " ' ',\n",
       " 'i',\n",
       " 's',\n",
       " ',',\n",
       " ' ',\n",
       " 'i',\n",
       " 't',\n",
       " ' ',\n",
       " 'w',\n",
       " 'i',\n",
       " 'l',\n",
       " 'l',\n",
       " ' ',\n",
       " 'r',\n",
       " 'e',\n",
       " 'c',\n",
       " 'o',\n",
       " 'g',\n",
       " 'n',\n",
       " 'i',\n",
       " 'z',\n",
       " 'e',\n",
       " ' ',\n",
       " 'a',\n",
       " 'n',\n",
       " 'd',\n",
       " ' ',\n",
       " '“',\n",
       " 'r',\n",
       " 'e',\n",
       " 'a',\n",
       " 'd',\n",
       " '”',\n",
       " ' ',\n",
       " 't',\n",
       " 'h',\n",
       " 'e',\n",
       " ' ',\n",
       " 't',\n",
       " 'e',\n",
       " 'x',\n",
       " 't',\n",
       " ' ',\n",
       " 'e',\n",
       " 'm',\n",
       " 'b',\n",
       " 'e',\n",
       " 'd',\n",
       " 'd',\n",
       " 'e',\n",
       " 'd',\n",
       " ' ',\n",
       " 'i',\n",
       " 'n',\n",
       " ' ',\n",
       " 'i',\n",
       " 'm',\n",
       " 'a',\n",
       " 'g',\n",
       " 'e',\n",
       " 's']"
      ]
     },
     "execution_count": 33,
     "metadata": {},
     "output_type": "execute_result"
    }
   ],
   "source": [
    "result = re.findall(r\"\\D{1}\",a)\n",
    "result"
   ]
  },
  {
   "cell_type": "code",
   "execution_count": 34,
   "metadata": {},
   "outputs": [
    {
     "data": {
      "text/plain": [
       "['P',\n",
       " 'r',\n",
       " 'o',\n",
       " 'j',\n",
       " 'e',\n",
       " 'c',\n",
       " 't',\n",
       " ' ',\n",
       " 'd',\n",
       " 'e',\n",
       " 's',\n",
       " 'c',\n",
       " 'r',\n",
       " 'i',\n",
       " 'p',\n",
       " 't',\n",
       " 'i',\n",
       " 'o',\n",
       " 'n',\n",
       " ' ',\n",
       " 'P',\n",
       " 'y',\n",
       " 't',\n",
       " 'h',\n",
       " 'o',\n",
       " 'n',\n",
       " '-',\n",
       " 't',\n",
       " 'e',\n",
       " 's',\n",
       " 's',\n",
       " 'e',\n",
       " 'r',\n",
       " 'a',\n",
       " 'c',\n",
       " 't',\n",
       " ' ',\n",
       " 'i',\n",
       " 's',\n",
       " ' ',\n",
       " 'a',\n",
       " 'n',\n",
       " ' ',\n",
       " 'o',\n",
       " 'p',\n",
       " 't',\n",
       " 'i',\n",
       " 'c',\n",
       " 'a',\n",
       " 'l',\n",
       " ' ',\n",
       " 'c',\n",
       " 'h',\n",
       " 'a',\n",
       " 'r',\n",
       " 'a',\n",
       " 'c',\n",
       " 't',\n",
       " 'e',\n",
       " 'r',\n",
       " ' ',\n",
       " 'r',\n",
       " 'e',\n",
       " 'c',\n",
       " 'o',\n",
       " 'g',\n",
       " 'n',\n",
       " 'i',\n",
       " 't',\n",
       " 'i',\n",
       " 'o',\n",
       " 'n',\n",
       " ' ',\n",
       " '(',\n",
       " 'O',\n",
       " 'C',\n",
       " 'R',\n",
       " ')',\n",
       " ' ',\n",
       " 't',\n",
       " 'o',\n",
       " 'o',\n",
       " 'l',\n",
       " ' ',\n",
       " 'f',\n",
       " 'o',\n",
       " 'r',\n",
       " ' ',\n",
       " 'p',\n",
       " 'y',\n",
       " 't',\n",
       " 'h',\n",
       " 'o',\n",
       " 'n',\n",
       " '.',\n",
       " ' ',\n",
       " 'T',\n",
       " 'h',\n",
       " 'a',\n",
       " 't',\n",
       " ' ',\n",
       " 'i',\n",
       " 's',\n",
       " ',',\n",
       " ' ',\n",
       " 'i',\n",
       " 't',\n",
       " ' ',\n",
       " 'w',\n",
       " 'i',\n",
       " 'l',\n",
       " 'l',\n",
       " ' ',\n",
       " 'r',\n",
       " 'e',\n",
       " 'c',\n",
       " 'o',\n",
       " 'g',\n",
       " 'n',\n",
       " 'i',\n",
       " 'z',\n",
       " 'e',\n",
       " ' ',\n",
       " 'a',\n",
       " 'n',\n",
       " 'd',\n",
       " ' ',\n",
       " '“',\n",
       " 'r',\n",
       " 'e',\n",
       " 'a',\n",
       " 'd',\n",
       " '”',\n",
       " ' ',\n",
       " 't',\n",
       " 'h',\n",
       " 'e',\n",
       " ' ',\n",
       " 't',\n",
       " 'e',\n",
       " 'x',\n",
       " 't',\n",
       " ' ',\n",
       " 'e',\n",
       " 'm',\n",
       " 'b',\n",
       " 'e',\n",
       " 'd',\n",
       " 'd',\n",
       " 'e',\n",
       " 'd',\n",
       " ' ',\n",
       " 'i',\n",
       " 'n',\n",
       " ' ',\n",
       " 'i',\n",
       " 'm',\n",
       " 'a',\n",
       " 'g',\n",
       " 'e',\n",
       " 's']"
      ]
     },
     "execution_count": 34,
     "metadata": {},
     "output_type": "execute_result"
    }
   ],
   "source": [
    "result = re.findall(r\"\\D\",a)\n",
    "result"
   ]
  },
  {
   "cell_type": "code",
   "execution_count": 35,
   "metadata": {},
   "outputs": [
    {
     "data": {
      "text/plain": [
       "['Project ',\n",
       " 'description',\n",
       " ' Python-tesseract is an optical character recognition (OCR) tool for python. That is, it will recognize and “read” the text embedded in images']"
      ]
     },
     "execution_count": 35,
     "metadata": {},
     "output_type": "execute_result"
    }
   ],
   "source": [
    "result = re.findall(r\"\\D{1,}\",a)\n",
    "result"
   ]
  },
  {
   "cell_type": "code",
   "execution_count": 36,
   "metadata": {},
   "outputs": [
    {
     "data": {
      "text/plain": [
       "['Project ',\n",
       " 'description',\n",
       " ' Python-tesseract ',\n",
       " 'is an optical character recognition (OCR) tool for python. That is, it will recognize and “read” the text embedded in images']"
      ]
     },
     "execution_count": 36,
     "metadata": {},
     "output_type": "execute_result"
    }
   ],
   "source": [
    "a  = '1243Project 12description12 Python-tesseract 12is an optical character recognition (OCR) tool for python. That is, it will recognize and “read” the text embedded in images'\n",
    "result = re.findall(r\"\\D{1,}\",a)\n",
    "result"
   ]
  },
  {
   "cell_type": "code",
   "execution_count": 40,
   "metadata": {},
   "outputs": [
    {
     "data": {
      "text/plain": [
       "['maheshraje@gmail.com',\n",
       " 'mahesh_raje@gmail.com',\n",
       " 'raje@gmail.com',\n",
       " 'mahesh_raje01@gmail.com',\n",
       " 'mahesh_raje007@gmail.com',\n",
       " 'raje1992@yahoo.com',\n",
       " 'raje1992@cope.co.in',\n",
       " 'raje1992@vctcpune.co.in']"
      ]
     },
     "execution_count": 40,
     "metadata": {},
     "output_type": "execute_result"
    }
   ],
   "source": [
    "text = \"\"\"My mobile is \n",
    "        7709050463\n",
    "        9881284917\n",
    "        Email Id : maheshraje@gmail.com\n",
    "        Todays date : 26-07-2023\n",
    "        10-07-2023\n",
    "        01-06-2022\n",
    "        19-12-1995\n",
    "       26/07/2023\n",
    "       56/56/5656\n",
    "       30/34/1234\n",
    "       mahesh_raje@gmail.com\n",
    "   \n",
    "    mahesh.raje@gmail.com  \n",
    "    mahesh_raje01@gmail.com   \n",
    "    mahesh_raje007@gmail.com\n",
    "    mahesh.raje1992@yahoo.com\n",
    "    mahesh.raje1992@cope.co.in\n",
    "    mahesh.raje1992@vctcpune.co.in\n",
    "    \n",
    "        \"\"\"\n",
    "result = re.findall(r\"\\w{2,20}[@][a-z.]{3,15}\",text)\n",
    "result"
   ]
  },
  {
   "cell_type": "code",
   "execution_count": 41,
   "metadata": {},
   "outputs": [
    {
     "data": {
      "text/plain": [
       "['1243P',\n",
       " 'rojec',\n",
       " '12des',\n",
       " 'cript',\n",
       " 'ion12',\n",
       " 'Pytho',\n",
       " 'tesse',\n",
       " 'optic',\n",
       " 'chara',\n",
       " 'recog',\n",
       " 'nitio',\n",
       " 'pytho',\n",
       " 'recog',\n",
       " 'embed',\n",
       " 'image']"
      ]
     },
     "execution_count": 41,
     "metadata": {},
     "output_type": "execute_result"
    }
   ],
   "source": [
    "a  = '''1243Project 12description12 Python-tesseract is an optical character recognition \n",
    "(OCR) tool for python. That is, it will recognize and “read” the text embedded in images'''\n",
    "\n",
    "result = re.findall(r\"\\w{5}\",a)\n",
    "result"
   ]
  },
  {
   "cell_type": "code",
   "execution_count": 42,
   "metadata": {},
   "outputs": [
    {
     "data": {
      "text/plain": [
       "[' ',\n",
       " '#',\n",
       " '$',\n",
       " '%',\n",
       " ' ',\n",
       " ' ',\n",
       " ' ',\n",
       " ' ',\n",
       " ' ',\n",
       " ' ',\n",
       " ' ',\n",
       " ' ',\n",
       " ' ',\n",
       " '\\n',\n",
       " '(',\n",
       " ')',\n",
       " ' ',\n",
       " ' ',\n",
       " ' ',\n",
       " '.',\n",
       " ' ',\n",
       " ' ',\n",
       " ',',\n",
       " ' ',\n",
       " ' ',\n",
       " ' ',\n",
       " ' ',\n",
       " ' ',\n",
       " '“',\n",
       " '”',\n",
       " ' ',\n",
       " ' ',\n",
       " ' ',\n",
       " ' ',\n",
       " ' ']"
      ]
     },
     "execution_count": 42,
     "metadata": {},
     "output_type": "execute_result"
    }
   ],
   "source": [
    "a  = '''1243Pro_ject #$% 12description12 Python tesseract is an optical character recognition \n",
    "(OCR) tool for python. That is, it will recognize and “read” the text embedded in images'''\n",
    "\n",
    "result = re.findall(r\"\\W{1}\",a)\n",
    "result"
   ]
  },
  {
   "cell_type": "code",
   "execution_count": 43,
   "metadata": {},
   "outputs": [
    {
     "data": {
      "text/plain": [
       "['1234 5678 9876', '9874 3546 8675']"
      ]
     },
     "execution_count": 43,
     "metadata": {},
     "output_type": "execute_result"
    }
   ],
   "source": [
    "text = \"\"\"My mobile is \n",
    "        7709050463\n",
    "        9881284917\n",
    "        Email Id : maheshraje@gmail.com\n",
    "        Todays date : 26-07-2023\n",
    "        1234 5678 9876\n",
    "        9874 3546 8675\"\"\"\n",
    "result = re.findall(r\"\\d{4}\\s\\d{4}\\s\\d{4}\",text)\n",
    "result"
   ]
  },
  {
   "cell_type": "code",
   "execution_count": 44,
   "metadata": {},
   "outputs": [
    {
     "data": {
      "text/plain": [
       "['mobil',\n",
       " '77090',\n",
       " '50463',\n",
       " '98812',\n",
       " '84917',\n",
       " 'Email',\n",
       " 'mahes',\n",
       " 'hraje',\n",
       " '@gmai',\n",
       " 'l.com',\n",
       " 'Today',\n",
       " '26-07',\n",
       " '-2023']"
      ]
     },
     "execution_count": 44,
     "metadata": {},
     "output_type": "execute_result"
    }
   ],
   "source": [
    "result = re.findall(r\"\\S{5}\",text)\n",
    "result"
   ]
  },
  {
   "cell_type": "code",
   "execution_count": 45,
   "metadata": {},
   "outputs": [
    {
     "data": {
      "text/plain": [
       "['BFYPA9265J', 'BGUPA9267J']"
      ]
     },
     "execution_count": 45,
     "metadata": {},
     "output_type": "execute_result"
    }
   ],
   "source": [
    "Pancard = '''BFYPA9265J\n",
    "            PQRDA92675\n",
    "            AAAABGUPA9267J1234'''\n",
    "result = re.findall(r\"[A-Z]{5}[0-9]{4}[A-Z]{1}\",Pancard)\n",
    "result"
   ]
  },
  {
   "cell_type": "code",
   "execution_count": 46,
   "metadata": {},
   "outputs": [
    {
     "data": {
      "text/plain": [
       "['BFYPA9265J']"
      ]
     },
     "execution_count": 46,
     "metadata": {},
     "output_type": "execute_result"
    }
   ],
   "source": [
    "result = re.findall(r\"\\b[A-Z]{5}[0-9]{4}[A-Z]{1}\",Pancard)\n",
    "result"
   ]
  },
  {
   "cell_type": "code",
   "execution_count": 47,
   "metadata": {},
   "outputs": [
    {
     "data": {
      "text/plain": [
       "['HDFC0000393', 'SBIN0001234', 'HDFC0000234', 'SBIN0004356']"
      ]
     },
     "execution_count": 47,
     "metadata": {},
     "output_type": "execute_result"
    }
   ],
   "source": [
    "text = '''IFSC CODE : HDFC0000393     #Valid\n",
    "                      SBIN0001234     #Valid\n",
    "                      ABCDHDFC0000234  #Invalid\n",
    "                      SBIN0004356876  #Invalid\n",
    "                      '''\n",
    "result = re.findall(\"[A-Z]{4}[0-9]{7}\",text)\n",
    "result"
   ]
  },
  {
   "cell_type": "code",
   "execution_count": 51,
   "metadata": {},
   "outputs": [
    {
     "data": {
      "text/plain": [
       "['HDFC0000393', 'SBIN0001234', 'SBIN0004356']"
      ]
     },
     "execution_count": 51,
     "metadata": {},
     "output_type": "execute_result"
    }
   ],
   "source": [
    "result = re.findall(r\"\\b[A-Z]{4}\\d{7}\",text)\n",
    "result"
   ]
  },
  {
   "cell_type": "code",
   "execution_count": 53,
   "metadata": {},
   "outputs": [
    {
     "data": {
      "text/plain": [
       "['HDFC0000393', 'SBIN0001234']"
      ]
     },
     "execution_count": 53,
     "metadata": {},
     "output_type": "execute_result"
    }
   ],
   "source": [
    "result = re.findall(r\"\\b[A-Z]{4}\\d{7}\\b\",text)\n",
    "result"
   ]
  },
  {
   "cell_type": "code",
   "execution_count": 54,
   "metadata": {},
   "outputs": [
    {
     "data": {
      "text/plain": [
       "['7709050463',\n",
       " '9881284917',\n",
       " '9881594100',\n",
       " '8298352750',\n",
       " '9657000657',\n",
       " '9876543213']"
      ]
     },
     "execution_count": 54,
     "metadata": {},
     "output_type": "execute_result"
    }
   ],
   "source": [
    "text = \"\"\"My mobile is \n",
    "        7709050463   #Valid\n",
    "        9881284917   #Valid\n",
    "        9881594100123 #InValid\n",
    "        A8298352750   #InValid\n",
    "        9657000657    #Valid\n",
    "        98765432134567 #InValid \"\"\"\n",
    "mob_no = re.findall(\"[0-9]{10}\",text)\n",
    "mob_no"
   ]
  },
  {
   "cell_type": "code",
   "execution_count": 56,
   "metadata": {},
   "outputs": [
    {
     "data": {
      "text/plain": [
       "['7709050463', '9881284917', '9657000657']"
      ]
     },
     "execution_count": 56,
     "metadata": {},
     "output_type": "execute_result"
    }
   ],
   "source": [
    "mob_no = re.findall(r\"\\b[0-9]{10}\\b\",text)\n",
    "mob_no"
   ]
  },
  {
   "cell_type": "code",
   "execution_count": 57,
   "metadata": {},
   "outputs": [
    {
     "data": {
      "text/plain": [
       "['7709050463', '9881284917', '9657000657']"
      ]
     },
     "execution_count": 57,
     "metadata": {},
     "output_type": "execute_result"
    }
   ],
   "source": [
    "mob_no = re.findall(r\"\\b\\d{10}\\b\",text)\n",
    "mob_no"
   ]
  },
  {
   "cell_type": "code",
   "execution_count": 59,
   "metadata": {},
   "outputs": [
    {
     "data": {
      "text/plain": [
       "['pyhto', 'class']"
      ]
     },
     "execution_count": 59,
     "metadata": {},
     "output_type": "execute_result"
    }
   ],
   "source": [
    "text = \"pyhton class pune\"\n",
    "a = re.findall(r\"\\w{5}\",text)\n",
    "a"
   ]
  },
  {
   "cell_type": "code",
   "execution_count": 60,
   "metadata": {},
   "outputs": [
    {
     "data": {
      "text/plain": [
       "['class']"
      ]
     },
     "execution_count": 60,
     "metadata": {},
     "output_type": "execute_result"
    }
   ],
   "source": [
    "text = \"pyhton and data science class pune \"\n",
    "a = re.findall(r\"\\b\\w{5}\\b\",text)\n",
    "a"
   ]
  },
  {
   "cell_type": "code",
   "execution_count": 61,
   "metadata": {},
   "outputs": [
    {
     "data": {
      "text/plain": [
       "['pyhton', 'and', 'data', 'science', 'class', 'pune']"
      ]
     },
     "execution_count": 61,
     "metadata": {},
     "output_type": "execute_result"
    }
   ],
   "source": [
    "a = re.findall(r\"\\b\\w{2,10}\\b\",text)\n",
    "a"
   ]
  },
  {
   "cell_type": "code",
   "execution_count": 62,
   "metadata": {},
   "outputs": [
    {
     "data": {
      "text/plain": [
       "['pyhton', 'and', 'data', 'science', 'class', 'punea', 'bharat@123']"
      ]
     },
     "execution_count": 62,
     "metadata": {},
     "output_type": "execute_result"
    }
   ],
   "source": [
    "text = \"pyhton and data science class punea bharat@123 \"\n",
    "a = re.findall(r\"\\S{1,}\",text)\n",
    "a"
   ]
  },
  {
   "cell_type": "code",
   "execution_count": 63,
   "metadata": {},
   "outputs": [
    {
     "data": {
      "text/plain": [
       "[]"
      ]
     },
     "execution_count": 63,
     "metadata": {},
     "output_type": "execute_result"
    }
   ],
   "source": [
    "a = re.findall(\"python\",text)\n",
    "a"
   ]
  },
  {
   "cell_type": "code",
   "execution_count": 64,
   "metadata": {},
   "outputs": [
    {
     "data": {
      "text/plain": [
       "['python', 'python']"
      ]
     },
     "execution_count": 64,
     "metadata": {},
     "output_type": "execute_result"
    }
   ],
   "source": [
    "text = \"python and data science class punea python Python \"\n",
    "a = re.findall(\"python\",text)\n",
    "a"
   ]
  },
  {
   "cell_type": "code",
   "execution_count": 65,
   "metadata": {},
   "outputs": [
    {
     "data": {
      "text/plain": [
       "['python']"
      ]
     },
     "execution_count": 65,
     "metadata": {},
     "output_type": "execute_result"
    }
   ],
   "source": [
    "text = \"python and data science class punea pythonclass Python \"\n",
    "a = re.findall(r\"python\\b\",text)\n",
    "a"
   ]
  },
  {
   "cell_type": "code",
   "execution_count": 66,
   "metadata": {},
   "outputs": [
    {
     "data": {
      "text/plain": [
       "['python']"
      ]
     },
     "execution_count": 66,
     "metadata": {},
     "output_type": "execute_result"
    }
   ],
   "source": [
    "a = re.findall(r\"\\bpython\\b\",text)\n",
    "a"
   ]
  },
  {
   "cell_type": "code",
   "execution_count": 67,
   "metadata": {},
   "outputs": [
    {
     "data": {
      "text/plain": [
       "<re.Match object; span=(22, 32), match='7709050463'>"
      ]
     },
     "execution_count": 67,
     "metadata": {},
     "output_type": "execute_result"
    }
   ],
   "source": [
    "text = \"\"\"My mobile is \n",
    "        7709050463   #Valid\n",
    "        9881284917   #Valid\n",
    "        9881594100123 #InValid\n",
    "        A8298352750   #InValid\n",
    "        9657000657    #Valid\n",
    "        98765432134567 #InValid \"\"\"\n",
    "\n",
    "mob_no = re.search(r\"\\b\\d{10}\\b\",text)\n",
    "mob_no"
   ]
  },
  {
   "cell_type": "code",
   "execution_count": 68,
   "metadata": {},
   "outputs": [
    {
     "data": {
      "text/plain": [
       "(22, 32)"
      ]
     },
     "execution_count": 68,
     "metadata": {},
     "output_type": "execute_result"
    }
   ],
   "source": [
    "mob_no.span()"
   ]
  },
  {
   "cell_type": "code",
   "execution_count": 69,
   "metadata": {},
   "outputs": [
    {
     "data": {
      "text/plain": [
       "22"
      ]
     },
     "execution_count": 69,
     "metadata": {},
     "output_type": "execute_result"
    }
   ],
   "source": [
    "mob_no.start()"
   ]
  },
  {
   "cell_type": "code",
   "execution_count": 70,
   "metadata": {},
   "outputs": [
    {
     "data": {
      "text/plain": [
       "32"
      ]
     },
     "execution_count": 70,
     "metadata": {},
     "output_type": "execute_result"
    }
   ],
   "source": [
    "mob_no.end()"
   ]
  },
  {
   "cell_type": "code",
   "execution_count": 71,
   "metadata": {},
   "outputs": [
    {
     "data": {
      "text/plain": [
       "'7709050463'"
      ]
     },
     "execution_count": 71,
     "metadata": {},
     "output_type": "execute_result"
    }
   ],
   "source": [
    "mob_no.group()"
   ]
  },
  {
   "cell_type": "code",
   "execution_count": 72,
   "metadata": {},
   "outputs": [
    {
     "name": "stdout",
     "output_type": "stream",
     "text": [
      "Mymobileis7709050463#Valid9881284917#Valid9881594100123#InValidA8298352750#InValid9657000657#Valid98765432134567#InValid\n"
     ]
    }
   ],
   "source": [
    "text = \"\"\"My mobile is \n",
    "        7709050463   #Valid\n",
    "        9881284917   #Valid\n",
    "        9881594100123 #InValid\n",
    "        A8298352750   #InValid\n",
    "        9657000657    #Valid\n",
    "        98765432134567 #InValid \"\"\"\n",
    "mob_no = re.sub(\"\\s\",\"\",text)\n",
    "print(mob_no)"
   ]
  },
  {
   "cell_type": "code",
   "execution_count": 73,
   "metadata": {},
   "outputs": [
    {
     "data": {
      "text/plain": [
       "'My mobile is          7709050463    Valid         9881284917    Valid         9881594100123  InValid         A8298352750    InValid         9657000657     Valid         98765432134567  InValid '"
      ]
     },
     "execution_count": 73,
     "metadata": {},
     "output_type": "execute_result"
    }
   ],
   "source": [
    "mob_no = re.sub(\"\\W\",\" \",text)\n",
    "mob_no"
   ]
  },
  {
   "cell_type": "code",
   "execution_count": 74,
   "metadata": {},
   "outputs": [
    {
     "data": {
      "text/plain": [
       "['python', 'and', 'data', 'science', 'pythonnnn', 'pyttton', 'pytttthonnnn']"
      ]
     },
     "execution_count": 74,
     "metadata": {},
     "output_type": "execute_result"
    }
   ],
   "source": [
    "text = \"python and data science pythonnnn pyttton pytttthonnnn\"\n",
    "text.split()"
   ]
  },
  {
   "cell_type": "code",
   "execution_count": 75,
   "metadata": {},
   "outputs": [
    {
     "data": {
      "text/plain": [
       "['python ', ' data science pythonnnn pyttton pytttthonnnn']"
      ]
     },
     "execution_count": 75,
     "metadata": {},
     "output_type": "execute_result"
    }
   ],
   "source": [
    "text.split(\"and\")"
   ]
  },
  {
   "cell_type": "code",
   "execution_count": 76,
   "metadata": {},
   "outputs": [
    {
     "data": {
      "text/plain": [
       "['python ', ' and ', ' data  ', ' science pythonnnn pyttton pytttthonnnn']"
      ]
     },
     "execution_count": 76,
     "metadata": {},
     "output_type": "execute_result"
    }
   ],
   "source": [
    "text = \"python 1 and 2 data  3 science pythonnnn pyttton pytttthonnnn\"\n",
    "re.split(\"[0-9]\",text)\n"
   ]
  },
  {
   "cell_type": "code",
   "execution_count": 78,
   "metadata": {},
   "outputs": [
    {
     "data": {
      "text/plain": [
       "['23', '34', '55', '66', '77']"
      ]
     },
     "execution_count": 78,
     "metadata": {},
     "output_type": "execute_result"
    }
   ],
   "source": [
    "a = '23-34-55-66-77'\n",
    "re.split(\"[-]\",a)"
   ]
  },
  {
   "cell_type": "code",
   "execution_count": 80,
   "metadata": {},
   "outputs": [
    {
     "data": {
      "text/plain": [
       "'python and data science class punea pythonclass Python '"
      ]
     },
     "execution_count": 80,
     "metadata": {},
     "output_type": "execute_result"
    }
   ],
   "source": [
    "text = \"python and      data science      class punea    pythonclass    Python \"\n",
    "string = re.sub(\"[ ]{1,}\" , \" \",text)\n",
    "string"
   ]
  },
  {
   "cell_type": "code",
   "execution_count": 81,
   "metadata": {},
   "outputs": [
    {
     "data": {
      "text/plain": [
       "'python and      data science      class punea    pythonclass    Python '"
      ]
     },
     "execution_count": 81,
     "metadata": {},
     "output_type": "execute_result"
    }
   ],
   "source": [
    "string = re.sub(\"[ ]\",\" \",text)\n",
    "string"
   ]
  },
  {
   "cell_type": "code",
   "execution_count": 82,
   "metadata": {},
   "outputs": [
    {
     "data": {
      "text/plain": [
       "'python and data science class punea pythonclass Python '"
      ]
     },
     "execution_count": 82,
     "metadata": {},
     "output_type": "execute_result"
    }
   ],
   "source": [
    "string = re.sub(\"[ ]+\",\" \",text)\n",
    "string\n"
   ]
  },
  {
   "cell_type": "code",
   "execution_count": 83,
   "metadata": {},
   "outputs": [
    {
     "data": {
      "text/plain": [
       "'python and data science class punea pythonclass Python '"
      ]
     },
     "execution_count": 83,
     "metadata": {},
     "output_type": "execute_result"
    }
   ],
   "source": [
    "string = re.sub(\"\\s+\",\" \",text)\n",
    "string"
   ]
  },
  {
   "cell_type": "code",
   "execution_count": 84,
   "metadata": {},
   "outputs": [
    {
     "data": {
      "text/plain": [
       "'python@and@data@science@class@punea@pythonclass@Python@'"
      ]
     },
     "execution_count": 84,
     "metadata": {},
     "output_type": "execute_result"
    }
   ],
   "source": [
    "string = re.sub(\"\\s+\",\"@\",text)\n",
    "string"
   ]
  },
  {
   "cell_type": "code",
   "execution_count": 85,
   "metadata": {},
   "outputs": [
    {
     "data": {
      "text/plain": [
       "['pyt', 'pyt', 'pyt', 'pyt']"
      ]
     },
     "execution_count": 85,
     "metadata": {},
     "output_type": "execute_result"
    }
   ],
   "source": [
    "text = \"python and data science pythonnnn  pyttton pytttthonnnn \"\n",
    "string = re.findall(\"pyt\",text)\n",
    "string"
   ]
  },
  {
   "cell_type": "code",
   "execution_count": 86,
   "metadata": {},
   "outputs": [
    {
     "data": {
      "text/plain": [
       "['pyt', 'pyt', 'pyttt', 'pytttt']"
      ]
     },
     "execution_count": 86,
     "metadata": {},
     "output_type": "execute_result"
    }
   ],
   "source": [
    "string = re.findall(\"pyt+\",text)\n",
    "string"
   ]
  },
  {
   "cell_type": "code",
   "execution_count": 87,
   "metadata": {},
   "outputs": [
    {
     "data": {
      "text/plain": [
       "[' ', ' ', ' ', ' ', ' ', ' ', ' ', ' ']"
      ]
     },
     "execution_count": 87,
     "metadata": {},
     "output_type": "execute_result"
    }
   ],
   "source": [
    "string = re.findall(\"[ ]\",text)\n",
    "string"
   ]
  },
  {
   "cell_type": "code",
   "execution_count": 88,
   "metadata": {},
   "outputs": [
    {
     "data": {
      "text/plain": [
       "[' ', ' ', ' ', ' ', '  ', ' ', ' ']"
      ]
     },
     "execution_count": 88,
     "metadata": {},
     "output_type": "execute_result"
    }
   ],
   "source": [
    "string = re.findall(\"[ ]+\",text)\n",
    "string"
   ]
  },
  {
   "cell_type": "code",
   "execution_count": 89,
   "metadata": {},
   "outputs": [
    {
     "data": {
      "text/plain": [
       "[' ', ' ', ' ', ' ', '   ', '    ']"
      ]
     },
     "execution_count": 89,
     "metadata": {},
     "output_type": "execute_result"
    }
   ],
   "source": [
    "text = \"python and data science pythonnnn   pyttton    pytttthonnnn\"\n",
    "string = re.findall(\"[ ]+\",text)\n",
    "string"
   ]
  },
  {
   "cell_type": "code",
   "execution_count": 90,
   "metadata": {},
   "outputs": [
    {
     "data": {
      "text/plain": [
       "['pyt', 'pyt', 'pyt', 'pyt']"
      ]
     },
     "execution_count": 90,
     "metadata": {},
     "output_type": "execute_result"
    }
   ],
   "source": [
    "text = \"python and data science pythonnnn pyttton pytttthonnnn pyhonn\"\n",
    "string = re.findall(\"pyt\",text)\n",
    "string"
   ]
  },
  {
   "cell_type": "code",
   "execution_count": 91,
   "metadata": {},
   "outputs": [
    {
     "data": {
      "text/plain": [
       "['pyt', 'pyt', 'pyttt', 'pytttt']"
      ]
     },
     "execution_count": 91,
     "metadata": {},
     "output_type": "execute_result"
    }
   ],
   "source": [
    "string = re.findall(\"pyt+\",text)\n",
    "string"
   ]
  },
  {
   "cell_type": "code",
   "execution_count": 92,
   "metadata": {},
   "outputs": [
    {
     "data": {
      "text/plain": [
       "['pyt', 'pyt', 'pyttt', 'pytttt', 'py']"
      ]
     },
     "execution_count": 92,
     "metadata": {},
     "output_type": "execute_result"
    }
   ],
   "source": [
    "string = re.findall(\"pyt*\",text)\n",
    "string"
   ]
  },
  {
   "cell_type": "code",
   "execution_count": 93,
   "metadata": {},
   "outputs": [
    {
     "data": {
      "text/plain": [
       "['python', 'python', 'pytttthon', 'pyhon']"
      ]
     },
     "execution_count": 93,
     "metadata": {},
     "output_type": "execute_result"
    }
   ],
   "source": [
    "string = re.findall(\"pyt*hon\",text)\n",
    "string"
   ]
  },
  {
   "cell_type": "code",
   "execution_count": 94,
   "metadata": {},
   "outputs": [
    {
     "data": {
      "text/plain": [
       "['pyt']"
      ]
     },
     "execution_count": 94,
     "metadata": {},
     "output_type": "execute_result"
    }
   ],
   "source": [
    "text = \"python and data science\"\n",
    "result = re.findall(\"pyt\",text)\n",
    "result"
   ]
  },
  {
   "cell_type": "code",
   "execution_count": 95,
   "metadata": {},
   "outputs": [
    {
     "data": {
      "text/plain": [
       "['pyth']"
      ]
     },
     "execution_count": 95,
     "metadata": {},
     "output_type": "execute_result"
    }
   ],
   "source": [
    "result = re.findall(\"pyt.\",text)\n",
    "result"
   ]
  },
  {
   "cell_type": "code",
   "execution_count": 96,
   "metadata": {},
   "outputs": [
    {
     "data": {
      "text/plain": [
       "['python']"
      ]
     },
     "execution_count": 96,
     "metadata": {},
     "output_type": "execute_result"
    }
   ],
   "source": [
    "result = re.findall(\"pyt...\",text)\n",
    "result"
   ]
  },
  {
   "cell_type": "code",
   "execution_count": 97,
   "metadata": {},
   "outputs": [
    {
     "data": {
      "text/plain": [
       "['python', 'python']"
      ]
     },
     "execution_count": 97,
     "metadata": {},
     "output_type": "execute_result"
    }
   ],
   "source": [
    "text = \"\"\"python and data science pyt\n",
    "hon       python\"\"\"\n",
    "result = re.findall(\"pyt...\",text)\n",
    "result"
   ]
  },
  {
   "cell_type": "code",
   "execution_count": 98,
   "metadata": {},
   "outputs": [
    {
     "data": {
      "text/plain": [
       "['pyt', 'pyt', 'pyttt', 'pytttt', 'py']"
      ]
     },
     "execution_count": 98,
     "metadata": {},
     "output_type": "execute_result"
    }
   ],
   "source": [
    "text = \"python and data science pythonnnn pyttton pytttthonnnn pyhonn \"\n",
    "result = re.findall(\"pyt*\",text)\n",
    "result"
   ]
  },
  {
   "cell_type": "code",
   "execution_count": 99,
   "metadata": {},
   "outputs": [
    {
     "data": {
      "text/plain": [
       "['pyt', 'pyt', 'pyt', 'pyt', 'py']"
      ]
     },
     "execution_count": 99,
     "metadata": {},
     "output_type": "execute_result"
    }
   ],
   "source": [
    "result = re.findall(\"pyt?\",text)\n",
    "result"
   ]
  },
  {
   "cell_type": "code",
   "execution_count": 101,
   "metadata": {},
   "outputs": [
    {
     "data": {
      "text/plain": [
       "['y',\n",
       " 't',\n",
       " 'h',\n",
       " 'o',\n",
       " 'n',\n",
       " ' ',\n",
       " 'a',\n",
       " 'n',\n",
       " 'd',\n",
       " ' ',\n",
       " 'd',\n",
       " 'a',\n",
       " 't',\n",
       " 'a',\n",
       " ' ',\n",
       " 's',\n",
       " 'c',\n",
       " 'i',\n",
       " 'e',\n",
       " 'n',\n",
       " 'c',\n",
       " 'e',\n",
       " ' ',\n",
       " 'y',\n",
       " 't',\n",
       " 'h',\n",
       " 'o',\n",
       " 'n',\n",
       " 'n',\n",
       " 'n',\n",
       " 'n',\n",
       " ' ',\n",
       " 'y',\n",
       " 't',\n",
       " 't',\n",
       " 't',\n",
       " 'o',\n",
       " 'n',\n",
       " ' ',\n",
       " 'y',\n",
       " 't',\n",
       " 't',\n",
       " 't',\n",
       " 't',\n",
       " 'h',\n",
       " 'o',\n",
       " 'n',\n",
       " 'n',\n",
       " 'n',\n",
       " 'n',\n",
       " ' ',\n",
       " 'y',\n",
       " 'h',\n",
       " 'o',\n",
       " 'n',\n",
       " 'n',\n",
       " ' ']"
      ]
     },
     "execution_count": 101,
     "metadata": {},
     "output_type": "execute_result"
    }
   ],
   "source": [
    "text = \"python and data science pythonnnn pyttton pytttthonnnn pyhonn \"\n",
    "result = re.findall(\"[^p]\",text)\n",
    "result"
   ]
  },
  {
   "cell_type": "code",
   "execution_count": 102,
   "metadata": {},
   "outputs": [
    {
     "data": {
      "text/plain": [
       "['python']"
      ]
     },
     "execution_count": 102,
     "metadata": {},
     "output_type": "execute_result"
    }
   ],
   "source": [
    "result = re.findall(\"^[a-z]{6}\",text)\n",
    "result"
   ]
  },
  {
   "cell_type": "code",
   "execution_count": 103,
   "metadata": {},
   "outputs": [
    {
     "data": {
      "text/plain": [
       "['PYTHON']"
      ]
     },
     "execution_count": 103,
     "metadata": {},
     "output_type": "execute_result"
    }
   ],
   "source": [
    "text = \"PYTHON and data science pythonnnn pyttton pytttthonnnn pyhonn \"\n",
    "result = re.findall(\"^[A-Za-z]{6}\",text)\n",
    "result"
   ]
  },
  {
   "cell_type": "code",
   "execution_count": 104,
   "metadata": {},
   "outputs": [
    {
     "data": {
      "text/plain": [
       "['python and data science pythonnnn pyttton pytttthonnnn pyhonn ']"
      ]
     },
     "execution_count": 104,
     "metadata": {},
     "output_type": "execute_result"
    }
   ],
   "source": [
    "text = \"python and data science pythonnnn pyttton pytttthonnnn pyhonn \"\n",
    "result = re.findall(\"^p.*\",text)\n",
    "result"
   ]
  },
  {
   "cell_type": "code",
   "execution_count": 105,
   "metadata": {},
   "outputs": [],
   "source": [
    "with open(\"Abhishek.txt\",\"w\") as f:\n",
    "    f.write(\"\"\"Data Science:\n",
    "    It is an Interdisciplinary field that uses Scientific methods, processes, algorithms and systems to extract knowledge\n",
    "    and insights from noisy, structured and unstructured data, and apply knowledge from data across a broad range of \n",
    "    application domains.\"\"\")\n",
    "    f.close()"
   ]
  },
  {
   "cell_type": "code",
   "execution_count": 106,
   "metadata": {},
   "outputs": [
    {
     "name": "stdout",
     "output_type": "stream",
     "text": [
      "Reading entire file\n",
      "Data Science:\n",
      "    It is an Interdisciplinary field that uses Scientific methods, processes, algorithms and systems to extract knowledge\n",
      "    and insights from noisy, structured and unstructured data, and apply knowledge from data across a broad range of \n",
      "    application domains.\n"
     ]
    }
   ],
   "source": [
    "with open(\"Abhishek.txt\",\"r\") as f:\n",
    "    soln = f.read()\n",
    "    print(\"Reading entire file\")\n",
    "    print(soln)"
   ]
  },
  {
   "cell_type": "code",
   "execution_count": 107,
   "metadata": {},
   "outputs": [
    {
     "data": {
      "text/plain": [
       "'Data Science:\\n'"
      ]
     },
     "execution_count": 107,
     "metadata": {},
     "output_type": "execute_result"
    }
   ],
   "source": [
    "f = open(\"Abhishek.txt\",\"r\")\n",
    "soln = f.readline()\n",
    "soln"
   ]
  },
  {
   "cell_type": "code",
   "execution_count": 109,
   "metadata": {},
   "outputs": [
    {
     "data": {
      "text/plain": [
       "'Data Science:\\n    It is an Interdisciplinary field that uses Scientific methods, processes, algorithms and systems to extract knowledge\\n    and insights from noisy, structured and unstructured data, and apply knowledge from data across a broad range of \\n    application domains.1st:- Data Science\\n 2nd:- Machine Learning\\n 3rd:- Deep Learning\\n 4th:- Natural Language Processing1st:- Data Science\\n 2nd:- Machine Learning\\n 3rd:- Deep Learning\\n 4th:- Natural Language Processing'"
      ]
     },
     "execution_count": 109,
     "metadata": {},
     "output_type": "execute_result"
    }
   ],
   "source": [
    "text = \"\"\"1st:- Data Science\n",
    " 2nd:- Machine Learning\n",
    " 3rd:- Deep Learning\n",
    " 4th:- Natural Language Processing\"\"\"\n",
    "f = open(\"Abhishek.txt\",\"a\")\n",
    "f.write(text)\n",
    "f.close()\n",
    "f = open(\"Abhishek.txt\",\"r\")\n",
    "soln = f.read()\n",
    "soln"
   ]
  },
  {
   "cell_type": "code",
   "execution_count": 110,
   "metadata": {},
   "outputs": [
    {
     "data": {
      "text/plain": [
       "'Data Science:\\n    It is an Interdisciplinary field that uses Scientific methods, processes, algorithms and systems to extract knowledge\\n    and insights from noisy, structured and unstructured data, and apply knowledge from data across a broad range of \\n    application domains.1st:- Data Science\\n 2nd:- Machine Learning\\n 3rd:- Deep Learning\\n 4th:- Natural Language Processing1st:- Data Science\\n 2nd:- Machine Learning\\n 3rd:- Deep Learning\\n 4th:- Natural Language Processing'"
      ]
     },
     "execution_count": 110,
     "metadata": {},
     "output_type": "execute_result"
    }
   ],
   "source": [
    "f = open(\"Abhishek.txt\",\"r\")\n",
    "soln = f.read(-2)\n",
    "soln"
   ]
  },
  {
   "cell_type": "code",
   "execution_count": 114,
   "metadata": {},
   "outputs": [
    {
     "data": {
      "text/plain": [
       "[' 3rd:- Deep Learning\\n', ' 4th:- Natural Language Processing']"
      ]
     },
     "execution_count": 114,
     "metadata": {},
     "output_type": "execute_result"
    }
   ],
   "source": [
    "with open(\"Abhishek.txt\",\"r\") as f:\n",
    "    string = f.readlines()\n",
    "    soln = string[-2:]\n",
    "    \n",
    "soln"
   ]
  },
  {
   "cell_type": "code",
   "execution_count": 115,
   "metadata": {},
   "outputs": [
    {
     "data": {
      "text/plain": [
       "[' 3rd:- Deep Learning\\n', ' 4th:- Natural Language Processing']"
      ]
     },
     "execution_count": 115,
     "metadata": {},
     "output_type": "execute_result"
    }
   ],
   "source": [
    "with open(\"Abhishek.txt\",\"r\") as f:\n",
    "    string = f.readlines()\n",
    "    soln = string[-2:]\n",
    "soln"
   ]
  },
  {
   "cell_type": "code",
   "execution_count": 116,
   "metadata": {},
   "outputs": [
    {
     "data": {
      "text/plain": [
       "['Data Science:\\n',\n",
       " '    It is an Interdisciplinary field that uses Scientific methods, processes, algorithms and systems to extract knowledge\\n',\n",
       " '    and insights from noisy, structured and unstructured data, and apply knowledge from data across a broad range of \\n',\n",
       " '    application domains.1st:- Data Science\\n',\n",
       " ' 2nd:- Machine Learning\\n',\n",
       " ' 3rd:- Deep Learning\\n',\n",
       " ' 4th:- Natural Language Processing1st:- Data Science\\n',\n",
       " ' 2nd:- Machine Learning\\n',\n",
       " ' 3rd:- Deep Learning\\n',\n",
       " ' 4th:- Natural Language Processing']"
      ]
     },
     "execution_count": 116,
     "metadata": {},
     "output_type": "execute_result"
    }
   ],
   "source": [
    "with open(\"Abhishek.txt\",\"r\") as f:\n",
    "    string = f.readlines()\n",
    "string"
   ]
  },
  {
   "cell_type": "code",
   "execution_count": 117,
   "metadata": {},
   "outputs": [
    {
     "name": "stdout",
     "output_type": "stream",
     "text": [
      "Length of the string: 10\n"
     ]
    }
   ],
   "source": [
    "with open(\"Abhishek.txt\",\"r\")as f:\n",
    "    soln = f.readlines()\n",
    "    print(\"Length of the string:\",len(soln))\n",
    "    f.close()"
   ]
  },
  {
   "cell_type": "code",
   "execution_count": 118,
   "metadata": {},
   "outputs": [
    {
     "name": "stdout",
     "output_type": "stream",
     "text": [
      "Frequency of the words: 474\n"
     ]
    }
   ],
   "source": [
    "with open(\"Abhishek.txt\",\"r\") as f:\n",
    "    soln = f.read()\n",
    "    print(\"Frequency of the words:\",len(soln))\n",
    "    f.close()"
   ]
  },
  {
   "cell_type": "code",
   "execution_count": 119,
   "metadata": {},
   "outputs": [
    {
     "data": {
      "text/plain": [
       "['Data Science:\\n',\n",
       " '    It is an Interdisciplinary field that uses Scientific methods, processes, algorithms and systems to extract knowledge\\n',\n",
       " '    and insights from noisy, structured and unstructured data, and apply knowledge from data across a broad range of \\n',\n",
       " '    application domains.1st:- Data Science\\n',\n",
       " ' 2nd:- Machine Learning\\n',\n",
       " ' 3rd:- Deep Learning\\n',\n",
       " ' 4th:- Natural Language Processing1st:- Data Science\\n',\n",
       " ' 2nd:- Machine Learning\\n',\n",
       " ' 3rd:- Deep Learning\\n',\n",
       " ' 4th:- Natural Language Processing']"
      ]
     },
     "execution_count": 119,
     "metadata": {},
     "output_type": "execute_result"
    }
   ],
   "source": [
    "import shutil\n",
    "shutil.copy(\"Abhishek.txt\" , \"Copy.txt\")\n",
    "with open(\"Copy.txt\",\"r\") as f:\n",
    "    soln = f.readlines()\n",
    "\n",
    "soln"
   ]
  },
  {
   "cell_type": "code",
   "execution_count": 120,
   "metadata": {},
   "outputs": [
    {
     "name": "stdout",
     "output_type": "stream",
     "text": [
      "a.current date and time: 2024-02-05 10:34:49.945843\n",
      "b.Current Year: 2024\n",
      "c.Month of the year: February\n",
      "d.Week of the year: 05\n",
      "e.Weekday of the week: Monday\n",
      "f.day of the year: 036\n",
      "g.Day of the month: 05\n",
      "h.Day of the week: 1\n"
     ]
    }
   ],
   "source": [
    "import datetime\n",
    "a = datetime.datetime.today()\n",
    "b = a.strftime(\"%Y\")\n",
    "c = a.strftime(\"%B\")\n",
    "d = a.strftime(\"%U\")\n",
    "e = a.strftime(\"%A\")\n",
    "f = a.strftime(\"%j\")\n",
    "g = a.strftime(\"%d\")\n",
    "h = a.strftime(\"%w\")\n",
    "print(\"a.current date and time:\",a)\n",
    "print(\"b.Current Year:\",b)\n",
    "print(\"c.Month of the year:\",c)\n",
    "print(\"d.Week of the year:\",d)\n",
    "print(\"e.Weekday of the week:\",e)\n",
    "print(\"f.day of the year:\",f)\n",
    "print(\"g.Day of the month:\",g)\n",
    "print(\"h.Day of the week:\",h)"
   ]
  },
  {
   "cell_type": "code",
   "execution_count": 121,
   "metadata": {},
   "outputs": [
    {
     "name": "stdout",
     "output_type": "stream",
     "text": [
      "The year 2024 is not a leap year\n"
     ]
    }
   ],
   "source": [
    "def leap_year(x):\n",
    "    if x%400==0 and x%100==0:\n",
    "        print(f\"The year {x} is not a leap year\")\n",
    "    elif x%100!=0 and x%400==0:\n",
    "        print(f\"The year {x} is a leap year\")\n",
    "    else:\n",
    "        print(f\"The year {x} is not a leap year\")\n",
    "leap_year(2024)\n"
   ]
  },
  {
   "cell_type": "code",
   "execution_count": 122,
   "metadata": {},
   "outputs": [
    {
     "name": "stdout",
     "output_type": "stream",
     "text": [
      "The year 2025 is not a leap year\n"
     ]
    }
   ],
   "source": [
    "def leap_year(x):\n",
    "    if x%400==0 and x%100==0:\n",
    "        print(f\"The year {x} is not a leap year\")\n",
    "    elif x%100!=0 and x%400==0:\n",
    "        print(f\"The year {x} is a leap year\")\n",
    "    else:\n",
    "        print(f\"The year {x} is not a leap year\")\n",
    "leap_year(2025)"
   ]
  },
  {
   "cell_type": "code",
   "execution_count": 123,
   "metadata": {},
   "outputs": [
    {
     "name": "stdout",
     "output_type": "stream",
     "text": [
      "2014-01-01 14:43:00\n"
     ]
    }
   ],
   "source": [
    "date_format = \"jan 1 2014 2:43PM\"\n",
    "date1 = \"%b %d %Y %I:%M%p\"\n",
    "new_date = datetime.datetime.strptime(date_format , date1)\n",
    "print(new_date)"
   ]
  },
  {
   "cell_type": "code",
   "execution_count": 124,
   "metadata": {},
   "outputs": [
    {
     "name": "stdout",
     "output_type": "stream",
     "text": [
      "2014-01-01 14:43:00\n"
     ]
    }
   ],
   "source": [
    "date_format = \"jan 1 2014 2:43PM\"\n",
    "date1 = \"%b %d %Y %I:%M%p\"\n",
    "new_date = datetime.datetime.strptime(date_format , date1)\n",
    "print(new_date)"
   ]
  },
  {
   "cell_type": "code",
   "execution_count": 126,
   "metadata": {},
   "outputs": [
    {
     "name": "stdout",
     "output_type": "stream",
     "text": [
      "2024-01-31 10:55:58.345744\n"
     ]
    }
   ],
   "source": [
    "current_datetime = datetime.datetime.today()\n",
    "new_date = current_datetime + datetime.timedelta(days=-5)\n",
    "print(new_date)"
   ]
  },
  {
   "cell_type": "code",
   "execution_count": 127,
   "metadata": {},
   "outputs": [
    {
     "name": "stdout",
     "output_type": "stream",
     "text": [
      "2024-02-04 10:56:43.068947\n"
     ]
    }
   ],
   "source": [
    "current_datetime = datetime.datetime.today()\n",
    "new_date = current_datetime + datetime.timedelta(days=-1)\n",
    "print(new_date)"
   ]
  },
  {
   "cell_type": "code",
   "execution_count": 128,
   "metadata": {},
   "outputs": [
    {
     "name": "stdout",
     "output_type": "stream",
     "text": [
      "2024-02-10 10:57:19.224536\n"
     ]
    }
   ],
   "source": [
    "current_datetime = datetime.datetime.today()\n",
    "new_date = current_datetime + datetime.timedelta(days=+5)\n",
    "print(new_date)"
   ]
  },
  {
   "cell_type": "code",
   "execution_count": 129,
   "metadata": {},
   "outputs": [
    {
     "name": "stdout",
     "output_type": "stream",
     "text": [
      "Yesterdays date is: 2024-02-04 11:04:11.160609\n",
      "Todays date is: 2024-02-05 11:04:11.161610\n",
      "Tommorrows date is: 2024-02-06 11:04:11.161610\n"
     ]
    }
   ],
   "source": [
    "new_date = datetime.datetime.today() + datetime.timedelta(days=-1)\n",
    "print(\"Yesterdays date is:\",new_date)\n",
    "new_date = datetime.datetime.today() \n",
    "print(\"Todays date is:\",new_date)\n",
    "new_date = datetime.datetime.today() + datetime.timedelta(days=+1)\n",
    "print(\"Tommorrows date is:\",new_date)"
   ]
  },
  {
   "cell_type": "code",
   "execution_count": 130,
   "metadata": {},
   "outputs": [
    {
     "name": "stdout",
     "output_type": "stream",
     "text": [
      "Next 5 days from today are: 2024-02-05\n",
      "Next 5 days from today are: 2024-02-06\n",
      "Next 5 days from today are: 2024-02-07\n",
      "Next 5 days from today are: 2024-02-08\n",
      "Next 5 days from today are: 2024-02-09\n"
     ]
    }
   ],
   "source": [
    "current_datetime = datetime.datetime.today().date()\n",
    "for i in range(5):\n",
    "    new_date = current_datetime + datetime.timedelta(days=i)\n",
    "    print(\"Next 5 days from today are:\",new_date)"
   ]
  },
  {
   "cell_type": "code",
   "execution_count": 132,
   "metadata": {},
   "outputs": [
    {
     "name": "stdout",
     "output_type": "stream",
     "text": [
      "2024-02-05 11:25:21\n"
     ]
    }
   ],
   "source": [
    "current_datetime = datetime.datetime.today()\n",
    "new_date = current_datetime.replace(microsecond=0)\n",
    "print(new_date)"
   ]
  },
  {
   "cell_type": "code",
   "execution_count": 134,
   "metadata": {},
   "outputs": [
    {
     "name": "stdout",
     "output_type": "stream",
     "text": [
      "2024-02-05 11:26:07\n"
     ]
    }
   ],
   "source": [
    "current_datetime = datetime.datetime.today()\n",
    "new_date = current_datetime.replace(microsecond=0)\n",
    "print(new_date)"
   ]
  },
  {
   "cell_type": "code",
   "execution_count": 135,
   "metadata": {},
   "outputs": [
    {
     "name": "stdout",
     "output_type": "stream",
     "text": [
      "2024-08-12 00:00:00\n",
      "Mon 12 Aug 2024 32\n"
     ]
    }
   ],
   "source": [
    "random_day = datetime.datetime(2024 , 8 , 12)\n",
    "print(random_day)\n",
    "day = random_day.strftime(\"%a %d %b %Y %U\")\n",
    "print(day)"
   ]
  },
  {
   "cell_type": "code",
   "execution_count": 136,
   "metadata": {},
   "outputs": [
    {
     "name": "stdout",
     "output_type": "stream",
     "text": [
      "2024-08-12 00:00:00\n",
      "Mon 12 Aug 2024 32\n"
     ]
    }
   ],
   "source": [
    "random_day = datetime.datetime(2024 , 8 , 12)\n",
    "print(random_day)\n",
    "day = random_day.strftime(\"%a %d %b %Y %U\")\n",
    "print(day)"
   ]
  },
  {
   "cell_type": "code",
   "execution_count": 137,
   "metadata": {},
   "outputs": [],
   "source": [
    "import os\n",
    "os.rename(\"Abhishek.txt\",\"Abhi.txt\")"
   ]
  },
  {
   "cell_type": "code",
   "execution_count": 138,
   "metadata": {},
   "outputs": [
    {
     "data": {
      "text/plain": [
       "'d:\\\\abhi python\\\\Python hands on\\\\Python-Hands-ON'"
      ]
     },
     "execution_count": 138,
     "metadata": {},
     "output_type": "execute_result"
    }
   ],
   "source": [
    "os.getcwd()"
   ]
  },
  {
   "cell_type": "code",
   "execution_count": 139,
   "metadata": {},
   "outputs": [
    {
     "data": {
      "text/plain": [
       "['.git',\n",
       " 'Abhi',\n",
       " 'Abhi.txt',\n",
       " 'adaboost.ipynb',\n",
       " 'Adaboost_Ass.ipynb',\n",
       " 'Ann_implementation.ipynb',\n",
       " 'Assignment_1.ipynb',\n",
       " 'Assignment_10.ipynb',\n",
       " 'Assignment_11.ipynb',\n",
       " 'Assignment_12.ipynb',\n",
       " 'Assignment_13_LinearR.ipynb',\n",
       " 'Assignment_2.ipynb',\n",
       " 'Assignment_3.ipynb',\n",
       " 'Assignment_4.ipynb',\n",
       " 'Assignment_6.ipynb',\n",
       " 'Assignment_7.ipynb',\n",
       " 'Assignment_8.ipynb',\n",
       " 'Assignment_9.ipynb',\n",
       " 'Assignment_DT.ipynb',\n",
       " 'Assignment_KNN.ipynb',\n",
       " 'autos_dataset.csv',\n",
       " 'Bangalore.ipynb',\n",
       " 'Bengaluru_House_Data.csv',\n",
       " 'Boston.csv',\n",
       " 'CNN.ipynb',\n",
       " 'CNN_proj_explanation.ipynb',\n",
       " 'CNN_rev.ipynb',\n",
       " 'Copy.txt',\n",
       " 'Country_clusters.csv',\n",
       " 'DataFrame.csv',\n",
       " 'DataFrame.xlsx',\n",
       " 'dataset_es_train.csv',\n",
       " 'Decision tree HYP_Tuning.png',\n",
       " 'Decision Tree.png',\n",
       " 'DecisionTree.ipynb',\n",
       " 'Decision_Tree.png',\n",
       " 'Decision_Tree_HYP.png',\n",
       " 'Decision_Tree_REG_WithoutHYP.png',\n",
       " 'Decision_TRee_Working.ipynb',\n",
       " 'Deep_Learning.ipynb',\n",
       " 'Deep_Learning_rev.ipynb',\n",
       " 'DegreeofFreedom.png',\n",
       " 'diabetes.csv',\n",
       " 'Dim_red_tech.ipynb',\n",
       " 'DRT.REV.ipynb',\n",
       " 'DT_multiclass_clf.ipynb',\n",
       " 'DT_Multiclass_clf_withoutHYP.png',\n",
       " 'DT_Pruning.ipynb',\n",
       " 'DT_pruning_revision.ipynb',\n",
       " 'DT_regression.ipynb',\n",
       " 'Elbow_method.png',\n",
       " 'heart.csv',\n",
       " 'Imp_Interview_approach.ipynb',\n",
       " 'IMP_Questions.ipynb',\n",
       " 'Interview_questions.ipynb',\n",
       " 'Iris.csv',\n",
       " 'kmeans_clustering.ipynb',\n",
       " 'KNN_classification.ipynb',\n",
       " 'KNN_Clustering_Ass.ipynb',\n",
       " 'Knn_Imputer.ipynb',\n",
       " 'KNN_Regression.ipynb',\n",
       " 'KNN_revision.ipynb',\n",
       " 'Linear_reg_assignment.ipynb',\n",
       " 'Linear_reg_theory.ipynb',\n",
       " 'Logistic_reg_assignment.ipynb',\n",
       " 'movies_data.csv',\n",
       " 'Naive_Bayes.ipynb',\n",
       " 'Naive_Bayes_Ass.ipynb',\n",
       " 'neg',\n",
       " 'NLP.ipynb',\n",
       " 'NLP_mini_project',\n",
       " 'NLP_rev.ipynb',\n",
       " 'PCA.ipynb',\n",
       " 'PCA_rev.ipynb',\n",
       " 'pos',\n",
       " 'Python 1.ipynb',\n",
       " 'python 10.ipynb',\n",
       " 'python 11.ipynb',\n",
       " 'python 12.ipynb',\n",
       " 'python 2.ipynb',\n",
       " 'python 3.ipynb',\n",
       " 'python 4.ipynb',\n",
       " 'python 5.ipynb',\n",
       " 'python 6.ipynb',\n",
       " 'python 7.ipynb',\n",
       " 'python 8.ipynb',\n",
       " 'python 9.ipynb',\n",
       " 'Python_13.ipynb',\n",
       " 'Random_forest_clf.ipynb',\n",
       " 'README.md',\n",
       " 'Sample.xls',\n",
       " 'Sample1.xlsx',\n",
       " 'Sampling.ipynb',\n",
       " 'Scoring.png',\n",
       " 'Social_Network_Ads.csv',\n",
       " 'student.csv',\n",
       " 'Support_vector_machine.ipynb',\n",
       " 'SVM_Assignment.ipynb',\n",
       " 'titanic.csv',\n",
       " 'Train.csv',\n",
       " 'weather.csv',\n",
       " 'weather1.csv',\n",
       " 'word2vec.model']"
      ]
     },
     "execution_count": 139,
     "metadata": {},
     "output_type": "execute_result"
    }
   ],
   "source": [
    "os.listdir()"
   ]
  },
  {
   "cell_type": "code",
   "execution_count": 1,
   "metadata": {},
   "outputs": [
    {
     "name": "stdout",
     "output_type": "stream",
     "text": [
      "Found right string\n"
     ]
    }
   ],
   "source": [
    "string = \"Python and Machine Learning 7741 is syllabus of Data Science.\"\n",
    "import re \n",
    "result = re.findall(\"[a-zA-Z0-9]\",string)\n",
    "if result:\n",
    "    print(\"Found right string\")\n",
    "else:\n",
    "    print(\"Found wrong string\")"
   ]
  },
  {
   "cell_type": "code",
   "execution_count": 2,
   "metadata": {},
   "outputs": [
    {
     "name": "stdout",
     "output_type": "stream",
     "text": [
      "Found right string\n"
     ]
    }
   ],
   "source": [
    "string = \"Python and Machine Learning 7741 is syllabus of Data Science.\"\n",
    "import re\n",
    "result = re.findall(\"[a-zA-Z0-9]\",string)\n",
    "if result:\n",
    "    print(\"Found right string\")\n",
    "else:\n",
    "    print(\"Found wrong string\")"
   ]
  },
  {
   "cell_type": "code",
   "execution_count": 3,
   "metadata": {},
   "outputs": [
    {
     "name": "stdout",
     "output_type": "stream",
     "text": [
      "Program split:  ['Python ', ' Machine Learning is syllabus of data science ', ' deep learning.']\n"
     ]
    }
   ],
   "source": [
    "string = \"Python and Machine Learning is syllabus of data science and deep learning.\"\n",
    "result = re.split(\"and\",string)\n",
    "print(\"Program split: \",result)"
   ]
  },
  {
   "cell_type": "code",
   "execution_count": 4,
   "metadata": {},
   "outputs": [
    {
     "name": "stdout",
     "output_type": "stream",
     "text": [
      "Program split:  ['Python and Machine Learning ', ' syllabus of data science and deep learning.']\n"
     ]
    }
   ],
   "source": [
    "result = re.split(\"is\",string)\n",
    "print(\"Program split: \",result)"
   ]
  },
  {
   "cell_type": "code",
   "execution_count": 5,
   "metadata": {},
   "outputs": [
    {
     "name": "stdout",
     "output_type": "stream",
     "text": [
      "Program split:  ['Python and Machine Learning is syllabus ', ' data science and deep learning.']\n"
     ]
    }
   ],
   "source": [
    "result = re.split(\"of\",string)\n",
    "print(\"Program split: \",result)"
   ]
  },
  {
   "cell_type": "code",
   "execution_count": 6,
   "metadata": {},
   "outputs": [
    {
     "name": "stdout",
     "output_type": "stream",
     "text": [
      "['and']\n"
     ]
    }
   ],
   "source": [
    "str1='Python and Data Science Batch 2023'\n",
    "result = re.findall(r\"\\bab*[a-z]*\\b\",str1)\n",
    "print(result)"
   ]
  },
  {
   "cell_type": "code",
   "execution_count": 7,
   "metadata": {},
   "outputs": [
    {
     "name": "stdout",
     "output_type": "stream",
     "text": [
      "['and']\n"
     ]
    }
   ],
   "source": [
    "result = re.findall(r\"\\bab*[a-z]*\\b\",str1)\n",
    "print(result)"
   ]
  },
  {
   "cell_type": "code",
   "execution_count": 8,
   "metadata": {},
   "outputs": [
    {
     "name": "stdout",
     "output_type": "stream",
     "text": [
      "['Batch']\n"
     ]
    }
   ],
   "source": [
    "result = re.findall(r\"\\b\\w{5}\\b\",str1)\n",
    "print(result)"
   ]
  },
  {
   "cell_type": "code",
   "execution_count": 9,
   "metadata": {},
   "outputs": [
    {
     "name": "stdout",
     "output_type": "stream",
     "text": [
      "['123 45', '678 90']\n"
     ]
    }
   ],
   "source": [
    "sample_string = \"There are 123 45 678 90 2345 67 12 345 6789 0123 three-digit\"\n",
    "result = re.findall(r\"\\b\\d{3}\\s\\d{2}\\b\",sample_string)\n",
    "print(result)"
   ]
  },
  {
   "cell_type": "code",
   "execution_count": 10,
   "metadata": {},
   "outputs": [
    {
     "name": "stdout",
     "output_type": "stream",
     "text": [
      "['123 45', '678 90', '345 67', '345 67']\n"
     ]
    }
   ],
   "source": [
    "result = re.findall(r\"\\d{3}\\s\\d{2}\",sample_string)\n",
    "print(result)"
   ]
  },
  {
   "cell_type": "code",
   "execution_count": 11,
   "metadata": {},
   "outputs": [
    {
     "name": "stdout",
     "output_type": "stream",
     "text": [
      "['p', 'p', 'p', 'p', 'p']\n"
     ]
    }
   ],
   "source": [
    "str1= \"python and data pytthon science pythonnn pyyth annd pythh\"\n",
    "result = re.findall(r\"p+\",str1)\n",
    "print(result)"
   ]
  },
  {
   "cell_type": "code",
   "execution_count": 13,
   "metadata": {},
   "outputs": [
    {
     "name": "stdout",
     "output_type": "stream",
     "text": [
      "['pyth', 'pytt', 'pyth', 'pyyt', 'pyth']\n"
     ]
    }
   ],
   "source": [
    "result = re.findall(r\"p...\",str1)\n",
    "print(result)"
   ]
  },
  {
   "cell_type": "code",
   "execution_count": 15,
   "metadata": {},
   "outputs": [
    {
     "name": "stdout",
     "output_type": "stream",
     "text": [
      "String is present\n"
     ]
    }
   ],
   "source": [
    "str1 = 'We can write INFORM in lowercase as inform'\n",
    "result = re.findall(\"INFORM|inform\",str1)\n",
    "if result:\n",
    "    print(\"String is present\")\n",
    "else:\n",
    "    print(\"String is not present\")"
   ]
  },
  {
   "cell_type": "code",
   "execution_count": 16,
   "metadata": {},
   "outputs": [
    {
     "name": "stdout",
     "output_type": "stream",
     "text": [
      "['INFORM', 'inform']\n"
     ]
    }
   ],
   "source": [
    "result = re.findall(\"INFORM|inform\",str1)\n",
    "print(result)"
   ]
  },
  {
   "cell_type": "code",
   "execution_count": 17,
   "metadata": {},
   "outputs": [
    {
     "name": "stdout",
     "output_type": "stream",
     "text": [
      "['py', 'py']\n"
     ]
    }
   ],
   "source": [
    "str1= \" data science and pytthon science abbbss and pyt\"\n",
    "result = re.findall(r\"py?\",str1)\n",
    "print(result)"
   ]
  },
  {
   "cell_type": "code",
   "execution_count": 18,
   "metadata": {},
   "outputs": [
    {
     "name": "stdout",
     "output_type": "stream",
     "text": [
      "['py', 'py']\n"
     ]
    }
   ],
   "source": [
    "result = re.findall(\"py+\",str1)\n",
    "print(result)"
   ]
  },
  {
   "cell_type": "code",
   "execution_count": 19,
   "metadata": {},
   "outputs": [
    {
     "name": "stdout",
     "output_type": "stream",
     "text": [
      "['py', 'py']\n"
     ]
    }
   ],
   "source": [
    "result = re.findall(\"p.\",str1)\n",
    "print(result)"
   ]
  },
  {
   "cell_type": "code",
   "execution_count": 20,
   "metadata": {},
   "outputs": [
    {
     "name": "stdout",
     "output_type": "stream",
     "text": [
      "['bbb', 'bbb']\n"
     ]
    }
   ],
   "source": [
    "str1= \"python and data pbbbtthon science pytbbbonnn and pyt\"\n",
    "result = re.findall(r\"[b]{3}\",str1)\n",
    "print(result)"
   ]
  },
  {
   "cell_type": "code",
   "execution_count": 21,
   "metadata": {},
   "outputs": [
    {
     "name": "stdout",
     "output_type": "stream",
     "text": [
      "['bbb', 'bbb', 'bb']\n"
     ]
    }
   ],
   "source": [
    "str1= \"abbbs and data abbbsolutely science abbrivation and pyt\"\n",
    "result = re.findall(r\"[b]{2,3}\",str1)\n",
    "print(result)"
   ]
  },
  {
   "cell_type": "code",
   "execution_count": 23,
   "metadata": {},
   "outputs": [
    {
     "name": "stdout",
     "output_type": "stream",
     "text": [
      "['bbb', 'bbb', 'bb']\n"
     ]
    }
   ],
   "source": [
    "result = re.findall(r\"[b]{2,3}\",str1)\n",
    "print(result)"
   ]
  },
  {
   "cell_type": "code",
   "execution_count": 24,
   "metadata": {},
   "outputs": [
    {
     "name": "stdout",
     "output_type": "stream",
     "text": [
      "['abbbs', 'and', 'data', 'and', 'pyt']\n"
     ]
    }
   ],
   "source": [
    "result = re.findall(r\"\\b\\w{3,5}\\b\",str1)\n",
    "print(result)"
   ]
  },
  {
   "cell_type": "code",
   "execution_count": 26,
   "metadata": {},
   "outputs": [
    {
     "name": "stdout",
     "output_type": "stream",
     "text": [
      "['science_', 'abbrivation_', 'pyt_']\n"
     ]
    }
   ],
   "source": [
    "str1= \"abbbs and data abbbsolutely or science_ an abbrivation_ and pyt_\"\n",
    "result = re.findall(r\"[a-z]+[_]\",str1)\n",
    "print(result)"
   ]
  },
  {
   "cell_type": "code",
   "execution_count": 28,
   "metadata": {},
   "outputs": [
    {
     "name": "stdout",
     "output_type": "stream",
     "text": [
      "['science_', 'abbrivation_', 'pyt_']\n"
     ]
    }
   ],
   "source": [
    "result = re.findall(r\"[a-z]+[_]\",str1)\n",
    "print(result)"
   ]
  },
  {
   "cell_type": "code",
   "execution_count": 30,
   "metadata": {},
   "outputs": [
    {
     "name": "stdout",
     "output_type": "stream",
     "text": [
      "['Abbbs', 'Data', 'Abbbsolutely', 'Science', 'Abbrivation']\n"
     ]
    }
   ],
   "source": [
    "str1= \"Abbbs and Data Abbbsolutely or Science_ an Abbrivation_ and pyt_\"\n",
    "result = re.findall(r\"[A-Z][a-z]+\",str1)\n",
    "print(result)"
   ]
  },
  {
   "cell_type": "code",
   "execution_count": 31,
   "metadata": {},
   "outputs": [
    {
     "name": "stdout",
     "output_type": "stream",
     "text": [
      "['Abbbs', 'Data', 'Abbbsolutely', 'Science', 'Abbrivation']\n"
     ]
    }
   ],
   "source": [
    "result = re.findall(r\"[A-Z][a-z]+\",str1)\n",
    "print(result)"
   ]
  },
  {
   "cell_type": "code",
   "execution_count": 32,
   "metadata": {},
   "outputs": [
    {
     "name": "stdout",
     "output_type": "stream",
     "text": [
      "['absorb']\n"
     ]
    }
   ],
   "source": [
    "str1= \"data absorb Science and Abbrivation and pyt\"\n",
    "text = re.findall(r\"\\ba.+b\\b\",str1)\n",
    "print(text)"
   ]
  },
  {
   "cell_type": "code",
   "execution_count": 33,
   "metadata": {},
   "outputs": [
    {
     "name": "stdout",
     "output_type": "stream",
     "text": [
      "['Abbrivation']\n"
     ]
    }
   ],
   "source": [
    "result = re.findall(r\"\\bA.+n\\b\",str1)\n",
    "print(result)"
   ]
  },
  {
   "cell_type": "code",
   "execution_count": 34,
   "metadata": {},
   "outputs": [
    {
     "name": "stdout",
     "output_type": "stream",
     "text": [
      "['Science']\n"
     ]
    }
   ],
   "source": [
    "result = re.findall(r\"\\bS.+e\\b\",str1)\n",
    "print(result)"
   ]
  },
  {
   "cell_type": "code",
   "execution_count": 37,
   "metadata": {},
   "outputs": [
    {
     "name": "stdout",
     "output_type": "stream",
     "text": [
      "['Suceess']\n"
     ]
    }
   ],
   "source": [
    "str1 = 'Suceess is a jurney not a desti9nation.'\n",
    "result = re.findall(\"Suceess\",str1)\n",
    "print(result)"
   ]
  },
  {
   "cell_type": "code",
   "execution_count": 38,
   "metadata": {},
   "outputs": [
    {
     "name": "stdout",
     "output_type": "stream",
     "text": [
      "['jurney']\n"
     ]
    }
   ],
   "source": [
    "result = re.findall(\"jurney\",str1)\n",
    "print(result)"
   ]
  },
  {
   "cell_type": "code",
   "execution_count": 39,
   "metadata": {},
   "outputs": [
    {
     "name": "stdout",
     "output_type": "stream",
     "text": [
      "['LIFE ']\n"
     ]
    }
   ],
   "source": [
    "str1 = 'new begening of LIFE .'\n",
    "result = re.findall(\"LIFE.\",str1)\n",
    "print(result)"
   ]
  },
  {
   "cell_type": "code",
   "execution_count": 40,
   "metadata": {},
   "outputs": [
    {
     "name": "stdout",
     "output_type": "stream",
     "text": [
      "['of']\n"
     ]
    }
   ],
   "source": [
    "result = re.findall(\"of\",str1)\n",
    "print(result)"
   ]
  },
  {
   "cell_type": "code",
   "execution_count": 41,
   "metadata": {},
   "outputs": [
    {
     "name": "stdout",
     "output_type": "stream",
     "text": [
      "['lazy']\n"
     ]
    }
   ],
   "source": [
    "str1 = \"today is the very lazy day\"\n",
    "result = re.findall(r\"\\w*z\\w\",str1)\n",
    "print(result)"
   ]
  },
  {
   "cell_type": "code",
   "execution_count": 44,
   "metadata": {},
   "outputs": [
    {
     "name": "stdout",
     "output_type": "stream",
     "text": [
      "['lazy']\n"
     ]
    }
   ],
   "source": [
    "result = re.findall(r\"\\w*z\\w\",str1)\n",
    "print(result)"
   ]
  },
  {
   "cell_type": "code",
   "execution_count": 45,
   "metadata": {},
   "outputs": [
    {
     "data": {
      "text/plain": [
       "['today', 'laz', 'day']"
      ]
     },
     "execution_count": 45,
     "metadata": {},
     "output_type": "execute_result"
    }
   ],
   "source": [
    "result = re.findall(r\"\\w*a\\w\",str1)\n",
    "result"
   ]
  },
  {
   "cell_type": "code",
   "execution_count": 46,
   "metadata": {},
   "outputs": [
    {
     "data": {
      "text/plain": [
       "['lazy']"
      ]
     },
     "execution_count": 46,
     "metadata": {},
     "output_type": "execute_result"
    }
   ],
   "source": [
    "str1 = \"we have a lazy cat\"\n",
    "result = re.findall(r\"[a-y]*z[a-y]\",str1)\n",
    "result"
   ]
  },
  {
   "cell_type": "code",
   "execution_count": 47,
   "metadata": {},
   "outputs": [
    {
     "data": {
      "text/plain": [
       "['RudrANSHI_12345_wadekar']"
      ]
     },
     "execution_count": 47,
     "metadata": {},
     "output_type": "execute_result"
    }
   ],
   "source": [
    "str1 = \"RudrANSHI_12345_wadekar\"\n",
    "result = re.findall(r\"\\w{1,}\",str1)\n",
    "result"
   ]
  },
  {
   "cell_type": "code",
   "execution_count": 48,
   "metadata": {},
   "outputs": [
    {
     "data": {
      "text/plain": [
       "['9']"
      ]
     },
     "execution_count": 48,
     "metadata": {},
     "output_type": "execute_result"
    }
   ],
   "source": [
    "str1 = \"9821 maya\"\n",
    "result = re.findall(r\"^9\",str1)\n",
    "result"
   ]
  },
  {
   "cell_type": "code",
   "execution_count": 49,
   "metadata": {},
   "outputs": [
    {
     "data": {
      "text/plain": [
       "['9821']"
      ]
     },
     "execution_count": 49,
     "metadata": {},
     "output_type": "execute_result"
    }
   ],
   "source": [
    "result = re.findall(r\"^\\d*\",str1)\n",
    "result"
   ]
  },
  {
   "cell_type": "code",
   "execution_count": 50,
   "metadata": {},
   "outputs": [
    {
     "data": {
      "text/plain": [
       "'216.8.904.196'"
      ]
     },
     "execution_count": 50,
     "metadata": {},
     "output_type": "execute_result"
    }
   ],
   "source": [
    "ip_adress=\"216.008.904.196\"\n",
    "result = re.sub(r\"\\b0.\",\"\",ip_adress)\n",
    "result"
   ]
  },
  {
   "cell_type": "code",
   "execution_count": 51,
   "metadata": {},
   "outputs": [
    {
     "data": {
      "text/plain": [
       "'216.$$8.9$4.196'"
      ]
     },
     "execution_count": 51,
     "metadata": {},
     "output_type": "execute_result"
    }
   ],
   "source": [
    "result = re.sub(r\"0\",\"$\",ip_adress)\n",
    "result"
   ]
  },
  {
   "cell_type": "code",
   "execution_count": 56,
   "metadata": {},
   "outputs": [
    {
     "data": {
      "text/plain": [
       "['3.2']"
      ]
     },
     "execution_count": 56,
     "metadata": {},
     "output_type": "execute_result"
    }
   ],
   "source": [
    "str1=\"Python is required for data science version 3.2\"\n",
    "result = re.findall(r\"\\b\\d.\\d\\b\",str1)\n",
    "result"
   ]
  },
  {
   "cell_type": "code",
   "execution_count": 57,
   "metadata": {},
   "outputs": [
    {
     "data": {
      "text/plain": [
       "['1', '12', '13', '345']"
      ]
     },
     "execution_count": 57,
     "metadata": {},
     "output_type": "execute_result"
    }
   ],
   "source": [
    "str1 = \"Exercises number 1, 12, 13, and 345 are important\"\n",
    "result = re.findall(r\"\\d{1,}\",str1)\n",
    "result"
   ]
  },
  {
   "cell_type": "code",
   "execution_count": 59,
   "metadata": {},
   "outputs": [
    {
     "name": "stdout",
     "output_type": "stream",
     "text": [
      "['fox']\n",
      "['dog']\n",
      "[]\n"
     ]
    }
   ],
   "source": [
    "Sample_text ='The quick brown fox jumps over the lazy dog.'\n",
    "Searched_words ='fox', 'dog', 'horse'\n",
    "for i in Searched_words:\n",
    "    result = re.findall(i , Sample_text)\n",
    "    print(result)"
   ]
  },
  {
   "cell_type": "code",
   "execution_count": 60,
   "metadata": {},
   "outputs": [
    {
     "name": "stdout",
     "output_type": "stream",
     "text": [
      "['fox']\n",
      "['dog']\n",
      "[]\n"
     ]
    }
   ],
   "source": [
    "for i in Searched_words:\n",
    "    result = re.findall(i , Sample_text)\n",
    "    print(result)"
   ]
  },
  {
   "cell_type": "code",
   "execution_count": 61,
   "metadata": {},
   "outputs": [
    {
     "name": "stdout",
     "output_type": "stream",
     "text": [
      "Start index is 16 and end index is 19\n"
     ]
    }
   ],
   "source": [
    "sample_text ='The quick brown fox jumps over the lazy dog.'\n",
    "result = re.search(\"fox\",sample_text)\n",
    "print(f\"Start index is {result.start()} and end index is {result.end()}\")\n"
   ]
  },
  {
   "cell_type": "code",
   "execution_count": 63,
   "metadata": {},
   "outputs": [
    {
     "name": "stdout",
     "output_type": "stream",
     "text": [
      "Start index is 26 and end index is 30\n"
     ]
    }
   ],
   "source": [
    "result = re.search(\"over\",sample_text)\n",
    "print(f\"Start index is {result.start()} and end index is {result.end()}\")"
   ]
  },
  {
   "cell_type": "code",
   "execution_count": 64,
   "metadata": {},
   "outputs": [
    {
     "data": {
      "text/plain": [
       "['exercises', 'exercises', 'exercises']"
      ]
     },
     "execution_count": 64,
     "metadata": {},
     "output_type": "execute_result"
    }
   ],
   "source": [
    "Sample_text = 'Python exercises, PHP exercises, C# exercises'\n",
    "result = re.findall(r\"exercises\",Sample_text)\n",
    "result"
   ]
  },
  {
   "cell_type": "code",
   "execution_count": 65,
   "metadata": {},
   "outputs": [
    {
     "data": {
      "text/plain": [
       "['PHP']"
      ]
     },
     "execution_count": 65,
     "metadata": {},
     "output_type": "execute_result"
    }
   ],
   "source": [
    "result = re.findall(r\"PHP\",Sample_text)\n",
    "result"
   ]
  },
  {
   "cell_type": "code",
   "execution_count": 66,
   "metadata": {},
   "outputs": [
    {
     "name": "stdout",
     "output_type": "stream",
     "text": [
      "Occurence of the Substring is: 3\n",
      "The position of the Substring is from 7 and ends at 16\n"
     ]
    }
   ],
   "source": [
    "Sample_text = 'Python exercises, PHP exercises, C# exercises'\n",
    "len_of_string = re.findall(r\"exercises\",Sample_text)\n",
    "print(\"Occurence of the Substring is:\",len(len_of_string))\n",
    "pos = re.search(r\"exercises\",Sample_text)\n",
    "print(f\"The position of the Substring is from {pos.start()} and ends at {pos.end()}\")"
   ]
  },
  {
   "cell_type": "code",
   "execution_count": 68,
   "metadata": {},
   "outputs": [
    {
     "name": "stdout",
     "output_type": "stream",
     "text": [
      "The_quick_brown_fox_jumps_over_the_lazy_dog.\n",
      "The quick brown fox jumps over the lazy dog.\n"
     ]
    }
   ],
   "source": [
    "str1 = 'The quick brown fox jumps over the lazy dog.'\n",
    "result = re.sub(r\"[ ]\",\"_\",str1)\n",
    "print(result)\n",
    "result = re.sub(r\"[_]\",\"[ ]\",str1)\n",
    "print(result)"
   ]
  },
  {
   "cell_type": "code",
   "execution_count": 69,
   "metadata": {},
   "outputs": [
    {
     "name": "stdout",
     "output_type": "stream",
     "text": [
      "Thequickbrownfoxjumpsoverthelazydog.\n"
     ]
    }
   ],
   "source": [
    "str1 = 'The quick brown fox jumps over the lazy dog.'\n",
    "result = re.sub(r\"[ ]\",\"\",str1)\n",
    "print(result)"
   ]
  },
  {
   "cell_type": "code",
   "execution_count": 70,
   "metadata": {},
   "outputs": [
    {
     "name": "stdout",
     "output_type": "stream",
     "text": [
      "['python', 'pythonnn']\n"
     ]
    }
   ],
   "source": [
    "str1= \"python and data science pythonnn\"\n",
    "result = re.findall(r\"[p]\\w*\",str1)\n",
    "print(result)"
   ]
  },
  {
   "cell_type": "code",
   "execution_count": 75,
   "metadata": {},
   "outputs": [
    {
     "name": "stdout",
     "output_type": "stream",
     "text": [
      "['and']\n"
     ]
    }
   ],
   "source": [
    "result = re.findall(r\"\\b[a]\\w*\\b\",str1)\n",
    "print(result)"
   ]
  },
  {
   "cell_type": "code",
   "execution_count": 77,
   "metadata": {},
   "outputs": [
    {
     "name": "stdout",
     "output_type": "stream",
     "text": [
      "['and', 'every', 'evening']\n"
     ]
    }
   ],
   "source": [
    "str1= \"data science and python learning with begening every evening \"\n",
    "result = re.findall(r\"\\b[a,e]\\w*\",str1)\n",
    "print(result)"
   ]
  },
  {
   "cell_type": "code",
   "execution_count": 78,
   "metadata": {},
   "outputs": [
    {
     "data": {
      "text/plain": [
       "['data', 'science']"
      ]
     },
     "execution_count": 78,
     "metadata": {},
     "output_type": "execute_result"
    }
   ],
   "source": [
    "result = re.findall(r\"\\b[d,s]\\w*\",str1)\n",
    "result"
   ]
  },
  {
   "cell_type": "code",
   "execution_count": 79,
   "metadata": {},
   "outputs": [
    {
     "data": {
      "text/plain": [
       "<re.Match object; span=(33, 34), match='2'>"
      ]
     },
     "execution_count": 79,
     "metadata": {},
     "output_type": "execute_result"
    }
   ],
   "source": [
    "str1 = \"i am mrunal chaudhari ,my age is 24\"\n",
    "result = re.search(r\"\\d\",str1)\n",
    "result"
   ]
  },
  {
   "cell_type": "code",
   "execution_count": 80,
   "metadata": {},
   "outputs": [
    {
     "data": {
      "text/plain": [
       "'Python::is:a:general:purpose::interpreted:'"
      ]
     },
     "execution_count": 80,
     "metadata": {},
     "output_type": "execute_result"
    }
   ],
   "source": [
    "text =\"\"\"Python. is a general,purpose, interpreted.\"\"\"\n",
    "result = re.sub(r\"[,. ]\" ,\":\",text)\n",
    "result"
   ]
  },
  {
   "cell_type": "code",
   "execution_count": 81,
   "metadata": {},
   "outputs": [
    {
     "data": {
      "text/plain": [
       "'Python$ is a general$purpose$ interpreted$'"
      ]
     },
     "execution_count": 81,
     "metadata": {},
     "output_type": "execute_result"
    }
   ],
   "source": [
    "result = re.sub(r\"[,.]\",\"$\",text)\n",
    "result"
   ]
  },
  {
   "cell_type": "code",
   "execution_count": 82,
   "metadata": {},
   "outputs": [
    {
     "data": {
      "text/plain": [
       "'Python:is a general,purpose:interpreted.'"
      ]
     },
     "execution_count": 82,
     "metadata": {},
     "output_type": "execute_result"
    }
   ],
   "source": [
    "result = re.sub(r\"[,. ]{2}\",\":\",text)\n",
    "result"
   ]
  },
  {
   "cell_type": "code",
   "execution_count": 83,
   "metadata": {},
   "outputs": [
    {
     "data": {
      "text/plain": [
       "[' is a', 'high-', 'level', ' used', ' for\\n', 'data ', ' and ']"
      ]
     },
     "execution_count": 83,
     "metadata": {},
     "output_type": "execute_result"
    }
   ],
   "source": [
    "text =\"\"\"123 Python is a general-purpose, interpreted,\n",
    "high-level programming language popularly used for\n",
    "website development, data analytics 78 and automation.\"\"\"\n",
    "\n",
    "result = re.findall(r\"\\b\\D{3,5}\\b\", text)\n",
    "result"
   ]
  },
  {
   "cell_type": "code",
   "execution_count": 89,
   "metadata": {},
   "outputs": [
    {
     "data": {
      "text/plain": [
       "[]"
      ]
     },
     "execution_count": 89,
     "metadata": {},
     "output_type": "execute_result"
    }
   ],
   "source": [
    "text =\"\"\"Python. is a general,purpose, interpreted.\"\"\"\n",
    "result = re.findall('\"\"(.,)\"\"', text)\n",
    "result"
   ]
  },
  {
   "cell_type": "code",
   "execution_count": 92,
   "metadata": {},
   "outputs": [
    {
     "data": {
      "text/plain": [
       "'Python is a general purpose interpreted.'"
      ]
     },
     "execution_count": 92,
     "metadata": {},
     "output_type": "execute_result"
    }
   ],
   "source": [
    "text =\"\"\"Python is a   general purpose   interpreted.\"\"\"\n",
    "result = re.sub(r\"[ ]+\",\" \", text)\n",
    "result"
   ]
  },
  {
   "cell_type": "code",
   "execution_count": null,
   "metadata": {},
   "outputs": [],
   "source": []
  }
 ],
 "metadata": {
  "kernelspec": {
   "display_name": "Python 3",
   "language": "python",
   "name": "python3"
  },
  "language_info": {
   "codemirror_mode": {
    "name": "ipython",
    "version": 3
   },
   "file_extension": ".py",
   "mimetype": "text/x-python",
   "name": "python",
   "nbconvert_exporter": "python",
   "pygments_lexer": "ipython3",
   "version": "3.11.3"
  }
 },
 "nbformat": 4,
 "nbformat_minor": 2
}
